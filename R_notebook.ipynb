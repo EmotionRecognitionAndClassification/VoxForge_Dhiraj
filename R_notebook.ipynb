{
 "cells": [
  {
   "cell_type": "code",
   "execution_count": 1,
   "id": "9a5abe4e",
   "metadata": {},
   "outputs": [
    {
     "name": "stderr",
     "output_type": "stream",
     "text": [
      "Loading required package: tuneR\n",
      "\n",
      "Loading required package: seewave\n",
      "\n",
      "Loading required package: NatureSounds\n",
      "\n",
      "Loading required package: knitr\n",
      "\n",
      "\n",
      "NOTE: functions have been renamed (run 'print(new_function_names)' to see new names). Both old and new names are available in this version \n",
      " Please see citation('warbleR') for use in publication\n",
      "\n",
      "Loading required package: shinyBS\n",
      "\n",
      "Soundgen 2.3.0. Tips & demos on project's homepage: http://cogsci.se/soundgen.html\n",
      "\n"
     ]
    }
   ],
   "source": [
    "library(warbleR)\n",
    "library(soundgen)"
   ]
  },
  {
   "cell_type": "code",
   "execution_count": 2,
   "id": "f72d130a",
   "metadata": {},
   "outputs": [],
   "source": [
    "dataframe <- data.frame(list = c(\"sound.files\", \"selec\", \"start\", \"end\"))"
   ]
  },
  {
   "cell_type": "code",
   "execution_count": 3,
   "id": "cf887d6e",
   "metadata": {},
   "outputs": [
    {
     "data": {
      "text/html": [
       "<table class=\"dataframe\">\n",
       "<caption>A data.frame: 4 × 1</caption>\n",
       "<thead>\n",
       "\t<tr><th scope=col>list</th></tr>\n",
       "\t<tr><th scope=col>&lt;chr&gt;</th></tr>\n",
       "</thead>\n",
       "<tbody>\n",
       "\t<tr><td>sound.files</td></tr>\n",
       "\t<tr><td>selec      </td></tr>\n",
       "\t<tr><td>start      </td></tr>\n",
       "\t<tr><td>end        </td></tr>\n",
       "</tbody>\n",
       "</table>\n"
      ],
      "text/latex": [
       "A data.frame: 4 × 1\n",
       "\\begin{tabular}{l}\n",
       " list\\\\\n",
       " <chr>\\\\\n",
       "\\hline\n",
       "\t sound.files\\\\\n",
       "\t selec      \\\\\n",
       "\t start      \\\\\n",
       "\t end        \\\\\n",
       "\\end{tabular}\n"
      ],
      "text/markdown": [
       "\n",
       "A data.frame: 4 × 1\n",
       "\n",
       "| list &lt;chr&gt; |\n",
       "|---|\n",
       "| sound.files |\n",
       "| selec       |\n",
       "| start       |\n",
       "| end         |\n",
       "\n"
      ],
      "text/plain": [
       "  list       \n",
       "1 sound.files\n",
       "2 selec      \n",
       "3 start      \n",
       "4 end        "
      ]
     },
     "metadata": {},
     "output_type": "display_data"
    }
   ],
   "source": [
    "dataframe"
   ]
  },
  {
   "cell_type": "code",
   "execution_count": 4,
   "id": "e4f1b2f5",
   "metadata": {},
   "outputs": [],
   "source": [
    "all.files <- list.files(path = \"/Users/prem/Desktop/diver\")#pattern = \"*\\\\wav$\", recursive=TRUE)"
   ]
  },
  {
   "cell_type": "code",
   "execution_count": 5,
   "id": "ef93e984",
   "metadata": {},
   "outputs": [
    {
     "data": {
      "text/html": [
       "<ol>\n",
       "\t<li>'male'</li>\n",
       "</ol>\n"
      ],
      "text/latex": [
       "\\begin{enumerate}\n",
       "\\item 'male'\n",
       "\\end{enumerate}\n"
      ],
      "text/markdown": [
       "1. 'male'\n",
       "\n",
       "\n"
      ],
      "text/plain": [
       "[[1]]\n",
       "[1] \"male\"\n"
      ]
     },
     "metadata": {},
     "output_type": "display_data"
    }
   ],
   "source": [
    "files.list <- as.list(all.files)\n",
    "files.list[2]"
   ]
  },
  {
   "cell_type": "code",
   "execution_count": 6,
   "id": "cfb32bc0",
   "metadata": {},
   "outputs": [
    {
     "name": "stdout",
     "output_type": "stream",
     "text": [
      "  |+                                                 | 1 % ~03h 11m 16s  "
     ]
    },
    {
     "name": "stderr",
     "output_type": "stream",
     "text": [
      "Warning message in (0:(n - 1)) * f:\n",
      "“NAs produced by integer overflow”\n",
      "Warning message in (0:(n - 1)) * f:\n",
      "“NAs produced by integer overflow”\n",
      "Warning message in (0:(n - 1)) * f:\n",
      "“NAs produced by integer overflow”\n",
      "Warning message in (0:(n - 1)) * f:\n",
      "“NAs produced by integer overflow”\n",
      "Warning message in (0:(n - 1)) * f:\n",
      "“NAs produced by integer overflow”\n",
      "Warning message in (0:(n - 1)) * f:\n",
      "“NAs produced by integer overflow”\n"
     ]
    },
    {
     "name": "stdout",
     "output_type": "stream",
     "text": [
      "  |+++                                               | 6 % ~04h 07m 01s  "
     ]
    },
    {
     "name": "stderr",
     "output_type": "stream",
     "text": [
      "Warning message in (0:(n - 1)) * f:\n",
      "“NAs produced by integer overflow”\n"
     ]
    },
    {
     "name": "stdout",
     "output_type": "stream",
     "text": [
      "  |+++++++                                           | 13% ~03h 25m 35s  "
     ]
    },
    {
     "name": "stderr",
     "output_type": "stream",
     "text": [
      "Warning message in (0:(n - 1)) * f:\n",
      "“NAs produced by integer overflow”\n"
     ]
    },
    {
     "name": "stdout",
     "output_type": "stream",
     "text": [
      "  |++++++++++                                        | 20% ~03h 03m 50s  "
     ]
    },
    {
     "name": "stderr",
     "output_type": "stream",
     "text": [
      "Warning message in (0:(n - 1)) * f:\n",
      "“NAs produced by integer overflow”\n"
     ]
    },
    {
     "name": "stdout",
     "output_type": "stream",
     "text": [
      "  |+++++++++++                                       | 21% ~03h 00m 35s  "
     ]
    },
    {
     "name": "stderr",
     "output_type": "stream",
     "text": [
      "Warning message in (0:(n - 1)) * f:\n",
      "“NAs produced by integer overflow”\n",
      "Warning message in (0:(n - 1)) * f:\n",
      "“NAs produced by integer overflow”\n"
     ]
    },
    {
     "name": "stdout",
     "output_type": "stream",
     "text": [
      "  |+++++++++++++                                     | 26% ~02h 42m 35s  "
     ]
    },
    {
     "name": "stderr",
     "output_type": "stream",
     "text": [
      "Warning message in (0:(n - 1)) * f:\n",
      "“NAs produced by integer overflow”\n"
     ]
    },
    {
     "name": "stdout",
     "output_type": "stream",
     "text": [
      "  |+++++++++++++++                                   | 29% ~02h 36m 46s  "
     ]
    },
    {
     "name": "stderr",
     "output_type": "stream",
     "text": [
      "Warning message in (0:(n - 1)) * f:\n",
      "“NAs produced by integer overflow”\n",
      "Warning message in (0:(n - 1)) * f:\n",
      "“NAs produced by integer overflow”\n"
     ]
    },
    {
     "name": "stdout",
     "output_type": "stream",
     "text": [
      "  |++++++++++++++++++                                | 35% ~02h 18m 57s  "
     ]
    },
    {
     "name": "stderr",
     "output_type": "stream",
     "text": [
      "Warning message in (0:(n - 1)) * f:\n",
      "“NAs produced by integer overflow”\n",
      "Warning message in (0:(n - 1)) * f:\n",
      "“NAs produced by integer overflow”\n"
     ]
    },
    {
     "name": "stdout",
     "output_type": "stream",
     "text": [
      "  |+++++++++++++++++++++                             | 41% ~02h 05m 15s  "
     ]
    },
    {
     "name": "stderr",
     "output_type": "stream",
     "text": [
      "Warning message in (0:(n - 1)) * f:\n",
      "“NAs produced by integer overflow”\n",
      "Warning message in (0:(n - 1)) * f:\n",
      "“NAs produced by integer overflow”\n",
      "Warning message in (0:(n - 1)) * f:\n",
      "“NAs produced by integer overflow”\n",
      "Warning message in (0:(n - 1)) * f:\n",
      "“NAs produced by integer overflow”\n",
      "Warning message in (0:(n - 1)) * f:\n",
      "“NAs produced by integer overflow”\n"
     ]
    },
    {
     "name": "stdout",
     "output_type": "stream",
     "text": [
      "  |+++++++++++++++++++++                             | 42% ~02h 03m 48s  "
     ]
    },
    {
     "name": "stderr",
     "output_type": "stream",
     "text": [
      "Warning message in (0:(n - 1)) * f:\n",
      "“NAs produced by integer overflow”\n"
     ]
    },
    {
     "name": "stdout",
     "output_type": "stream",
     "text": [
      "  |+++++++++++++++++++++++++                         | 49% ~01h 46m 52s  "
     ]
    },
    {
     "name": "stderr",
     "output_type": "stream",
     "text": [
      "Warning message in (0:(n - 1)) * f:\n",
      "“NAs produced by integer overflow”\n"
     ]
    },
    {
     "name": "stdout",
     "output_type": "stream",
     "text": [
      "  |++++++++++++++++++++++++++                        | 51% ~01h 42m 34s  "
     ]
    },
    {
     "name": "stderr",
     "output_type": "stream",
     "text": [
      "Warning message in (0:(n - 1)) * f:\n",
      "“NAs produced by integer overflow”\n"
     ]
    },
    {
     "name": "stdout",
     "output_type": "stream",
     "text": [
      "  |+++++++++++++++++++++++++++++++                   | 62% ~01h 17m 52s  "
     ]
    },
    {
     "name": "stderr",
     "output_type": "stream",
     "text": [
      "Warning message in (0:(n - 1)) * f:\n",
      "“NAs produced by integer overflow”\n"
     ]
    },
    {
     "name": "stdout",
     "output_type": "stream",
     "text": [
      "  |++++++++++++++++++++++++++++++++++++              | 72% ~56m 09s      "
     ]
    },
    {
     "name": "stderr",
     "output_type": "stream",
     "text": [
      "Warning message in (0:(n - 1)) * f:\n",
      "“NAs produced by integer overflow”\n",
      "Warning message in (0:(n - 1)) * f:\n",
      "“NAs produced by integer overflow”\n",
      "Warning message in (0:(n - 1)) * f:\n",
      "“NAs produced by integer overflow”\n",
      "Warning message in (0:(n - 1)) * f:\n",
      "“NAs produced by integer overflow”\n",
      "Warning message in (0:(n - 1)) * f:\n",
      "“NAs produced by integer overflow”\n"
     ]
    },
    {
     "name": "stdout",
     "output_type": "stream",
     "text": [
      "  |+++++++++++++++++++++++++++++++++++++             | 73% ~54m 09s      "
     ]
    },
    {
     "name": "stderr",
     "output_type": "stream",
     "text": [
      "Warning message in (0:(n - 1)) * f:\n",
      "“NAs produced by integer overflow”\n",
      "Warning message in (0:(n - 1)) * f:\n",
      "“NAs produced by integer overflow”\n"
     ]
    },
    {
     "name": "stdout",
     "output_type": "stream",
     "text": [
      "  |++++++++++++++++++++++++++++++++++++++++          | 79% ~41m 49s      "
     ]
    },
    {
     "name": "stderr",
     "output_type": "stream",
     "text": [
      "Warning message in (0:(n - 1)) * f:\n",
      "“NAs produced by integer overflow”\n",
      "Warning message in (0:(n - 1)) * f:\n",
      "“NAs produced by integer overflow”\n",
      "Warning message in (0:(n - 1)) * f:\n",
      "“NAs produced by integer overflow”\n",
      "Warning message in (0:(n - 1)) * f:\n",
      "“NAs produced by integer overflow”\n",
      "Warning message in (0:(n - 1)) * f:\n",
      "“NAs produced by integer overflow”\n"
     ]
    },
    {
     "name": "stdout",
     "output_type": "stream",
     "text": [
      "  |++++++++++++++++++++++++++++++++++++++++          | 80% ~39m 59s      "
     ]
    },
    {
     "name": "stderr",
     "output_type": "stream",
     "text": [
      "Warning message in (0:(n - 1)) * f:\n",
      "“NAs produced by integer overflow”\n",
      "Warning message in (0:(n - 1)) * f:\n",
      "“NAs produced by integer overflow”\n",
      "Warning message in (0:(n - 1)) * f:\n",
      "“NAs produced by integer overflow”\n",
      "Warning message in (0:(n - 1)) * f:\n",
      "“NAs produced by integer overflow”\n"
     ]
    },
    {
     "name": "stdout",
     "output_type": "stream",
     "text": [
      "  |++++++++++++++++++++++++++++++++++++++++++        | 83% ~34m 10s      "
     ]
    },
    {
     "name": "stderr",
     "output_type": "stream",
     "text": [
      "Warning message in (0:(n - 1)) * f:\n",
      "“NAs produced by integer overflow”\n",
      "Warning message in (0:(n - 1)) * f:\n",
      "“NAs produced by integer overflow”\n"
     ]
    },
    {
     "name": "stdout",
     "output_type": "stream",
     "text": [
      "  |++++++++++++++++++++++++++++++++++++++++++        | 84% ~32m 08s      "
     ]
    },
    {
     "name": "stderr",
     "output_type": "stream",
     "text": [
      "Warning message in (0:(n - 1)) * f:\n",
      "“NAs produced by integer overflow”\n"
     ]
    },
    {
     "name": "stdout",
     "output_type": "stream",
     "text": [
      "  |+++++++++++++++++++++++++++++++++++++++++++       | 86% ~27m 60s      "
     ]
    },
    {
     "name": "stderr",
     "output_type": "stream",
     "text": [
      "Warning message in (0:(n - 1)) * f:\n",
      "“NAs produced by integer overflow”\n"
     ]
    },
    {
     "name": "stdout",
     "output_type": "stream",
     "text": [
      "  |++++++++++++++++++++++++++++++++++++++++++++      | 88% ~23m 57s      "
     ]
    },
    {
     "name": "stderr",
     "output_type": "stream",
     "text": [
      "Warning message in (0:(n - 1)) * f:\n",
      "“NAs produced by integer overflow”\n"
     ]
    },
    {
     "name": "stdout",
     "output_type": "stream",
     "text": [
      "  |++++++++++++++++++++++++++++++++++++++++++++++    | 92% ~16m 05s      "
     ]
    },
    {
     "name": "stderr",
     "output_type": "stream",
     "text": [
      "Warning message in (0:(n - 1)) * f:\n",
      "“NAs produced by integer overflow”\n"
     ]
    },
    {
     "name": "stdout",
     "output_type": "stream",
     "text": [
      "  |+++++++++++++++++++++++++++++++++++++++++++++++   | 93% ~14m 08s      "
     ]
    },
    {
     "name": "stderr",
     "output_type": "stream",
     "text": [
      "Warning message in (0:(n - 1)) * f:\n",
      "“NAs produced by integer overflow”\n"
     ]
    },
    {
     "name": "stdout",
     "output_type": "stream",
     "text": [
      "  |+++++++++++++++++++++++++++++++++++++++++++++++   | 94% ~12m 09s      "
     ]
    },
    {
     "name": "stderr",
     "output_type": "stream",
     "text": [
      "Warning message in (0:(n - 1)) * f:\n",
      "“NAs produced by integer overflow”\n",
      "Warning message in (0:(n - 1)) * f:\n",
      "“NAs produced by integer overflow”\n"
     ]
    },
    {
     "name": "stdout",
     "output_type": "stream",
     "text": [
      "  |+++++++++++++++++++++++++++++++++++++++++++++++++ | 97% ~06m 05s      "
     ]
    },
    {
     "name": "stderr",
     "output_type": "stream",
     "text": [
      "Warning message in (0:(n - 1)) * f:\n",
      "“NAs produced by integer overflow”\n"
     ]
    },
    {
     "name": "stdout",
     "output_type": "stream",
     "text": [
      "  |++++++++++++++++++++++++++++++++++++++++++++++++++| 100% elapsed=03h 21m 39s\n",
      "  |+                                                 | 2 % ~02h 27m 02s  "
     ]
    },
    {
     "name": "stderr",
     "output_type": "stream",
     "text": [
      "Warning message in (0:(n - 1)) * f:\n",
      "“NAs produced by integer overflow”\n",
      "Warning message in (0:(n - 1)) * f:\n",
      "“NAs produced by integer overflow”\n"
     ]
    },
    {
     "name": "stdout",
     "output_type": "stream",
     "text": [
      "  |++                                                | 4 % ~02h 33m 26s  "
     ]
    },
    {
     "name": "stderr",
     "output_type": "stream",
     "text": [
      "Warning message in (0:(n - 1)) * f:\n",
      "“NAs produced by integer overflow”\n"
     ]
    },
    {
     "name": "stdout",
     "output_type": "stream",
     "text": [
      "  |+++                                               | 6 % ~02h 24m 51s  "
     ]
    },
    {
     "name": "stderr",
     "output_type": "stream",
     "text": [
      "Warning message in (0:(n - 1)) * f:\n",
      "“NAs produced by integer overflow”\n"
     ]
    },
    {
     "name": "stdout",
     "output_type": "stream",
     "text": [
      "  |++++                                              | 8 % ~02h 20m 25s  "
     ]
    },
    {
     "name": "stderr",
     "output_type": "stream",
     "text": [
      "Warning message in (0:(n - 1)) * f:\n",
      "“NAs produced by integer overflow”\n",
      "Warning message in (0:(n - 1)) * f:\n",
      "“NAs produced by integer overflow”\n"
     ]
    },
    {
     "name": "stdout",
     "output_type": "stream",
     "text": [
      "  |+++++                                             | 10% ~02h 18m 55s  "
     ]
    },
    {
     "name": "stderr",
     "output_type": "stream",
     "text": [
      "Warning message in (0:(n - 1)) * f:\n",
      "“NAs produced by integer overflow”\n"
     ]
    },
    {
     "name": "stdout",
     "output_type": "stream",
     "text": [
      "  |++++++                                            | 12% ~02h 15m 28s  "
     ]
    },
    {
     "name": "stderr",
     "output_type": "stream",
     "text": [
      "Warning message in (0:(n - 1)) * f:\n",
      "“NAs produced by integer overflow”\n"
     ]
    },
    {
     "name": "stdout",
     "output_type": "stream",
     "text": [
      "  |+++++++                                           | 14% ~02h 11m 57s  "
     ]
    },
    {
     "name": "stderr",
     "output_type": "stream",
     "text": [
      "Warning message in (0:(n - 1)) * f:\n",
      "“NAs produced by integer overflow”\n"
     ]
    },
    {
     "name": "stdout",
     "output_type": "stream",
     "text": [
      "  |++++++++                                          | 16% ~02h 07m 39s  "
     ]
    },
    {
     "name": "stderr",
     "output_type": "stream",
     "text": [
      "Warning message in (0:(n - 1)) * f:\n",
      "“NAs produced by integer overflow”\n",
      "Warning message in (0:(n - 1)) * f:\n",
      "“NAs produced by integer overflow”\n",
      "Warning message in (0:(n - 1)) * f:\n",
      "“NAs produced by integer overflow”\n",
      "Warning message in (0:(n - 1)) * f:\n",
      "“NAs produced by integer overflow”\n"
     ]
    },
    {
     "name": "stdout",
     "output_type": "stream",
     "text": [
      "  |++++++++++                                        | 19% ~02h 04m 17s  "
     ]
    },
    {
     "name": "stderr",
     "output_type": "stream",
     "text": [
      "Warning message in certs * deltas:\n",
      "“longer object length is not a multiple of shorter object length”\n",
      "Warning message in certs * deltas:\n",
      "“longer object length is not a multiple of shorter object length”\n",
      "Warning message in certs * deltas:\n",
      "“longer object length is not a multiple of shorter object length”\n",
      "Warning message in certs * deltas:\n",
      "“longer object length is not a multiple of shorter object length”\n",
      "Warning message in certs * deltas:\n",
      "“longer object length is not a multiple of shorter object length”\n",
      "Warning message in certs * deltas:\n",
      "“longer object length is not a multiple of shorter object length”\n",
      "Warning message in certs * deltas:\n",
      "“longer object length is not a multiple of shorter object length”\n",
      "Warning message in certs * deltas:\n",
      "“longer object length is not a multiple of shorter object length”\n",
      "Warning message in (0:(n - 1)) * f:\n",
      "“NAs produced by integer overflow”\n",
      "Warning message in (0:(n - 1)) * f:\n",
      "“NAs produced by integer overflow”\n"
     ]
    },
    {
     "name": "stdout",
     "output_type": "stream",
     "text": [
      "  |++++++++++                                        | 20% ~02h 03m 02s  "
     ]
    },
    {
     "name": "stderr",
     "output_type": "stream",
     "text": [
      "Warning message in (0:(n - 1)) * f:\n",
      "“NAs produced by integer overflow”\n",
      "Warning message in (0:(n - 1)) * f:\n",
      "“NAs produced by integer overflow”\n",
      "Warning message in (0:(n - 1)) * f:\n",
      "“NAs produced by integer overflow”\n"
     ]
    },
    {
     "name": "stdout",
     "output_type": "stream",
     "text": [
      "  |+++++++++++                                       | 22% ~02h 00m 06s  "
     ]
    },
    {
     "name": "stderr",
     "output_type": "stream",
     "text": [
      "Warning message in (0:(n - 1)) * f:\n",
      "“NAs produced by integer overflow”\n"
     ]
    },
    {
     "name": "stdout",
     "output_type": "stream",
     "text": [
      "  |++++++++++++                                      | 23% ~01h 58m 37s  "
     ]
    },
    {
     "name": "stderr",
     "output_type": "stream",
     "text": [
      "Warning message in (0:(n - 1)) * f:\n",
      "“NAs produced by integer overflow”\n",
      "Warning message in (0:(n - 1)) * f:\n",
      "“NAs produced by integer overflow”\n"
     ]
    },
    {
     "name": "stdout",
     "output_type": "stream",
     "text": [
      "  |++++++++++++++                                    | 28% ~01h 50m 57s  "
     ]
    },
    {
     "name": "stderr",
     "output_type": "stream",
     "text": [
      "Warning message in (0:(n - 1)) * f:\n",
      "“NAs produced by integer overflow”\n"
     ]
    },
    {
     "name": "stdout",
     "output_type": "stream",
     "text": [
      "  |+++++++++++++++                                   | 30% ~01h 48m 46s  "
     ]
    },
    {
     "name": "stderr",
     "output_type": "stream",
     "text": [
      "Warning message in (0:(n - 1)) * f:\n",
      "“NAs produced by integer overflow”\n",
      "Warning message in (0:(n - 1)) * f:\n",
      "“NAs produced by integer overflow”\n"
     ]
    },
    {
     "name": "stdout",
     "output_type": "stream",
     "text": [
      "  |++++++++++++++++                                  | 31% ~01h 48m 04s  "
     ]
    },
    {
     "name": "stderr",
     "output_type": "stream",
     "text": [
      "Warning message in (0:(n - 1)) * f:\n",
      "“NAs produced by integer overflow”\n"
     ]
    },
    {
     "name": "stdout",
     "output_type": "stream",
     "text": [
      "  |+++++++++++++++++                                 | 33% ~01h 45m 36s  "
     ]
    },
    {
     "name": "stderr",
     "output_type": "stream",
     "text": [
      "Warning message in (0:(n - 1)) * f:\n",
      "“NAs produced by integer overflow”\n"
     ]
    },
    {
     "name": "stdout",
     "output_type": "stream",
     "text": [
      "  |+++++++++++++++++                                 | 34% ~01h 43m 55s  "
     ]
    },
    {
     "name": "stderr",
     "output_type": "stream",
     "text": [
      "Warning message in (0:(n - 1)) * f:\n",
      "“NAs produced by integer overflow”\n"
     ]
    },
    {
     "name": "stdout",
     "output_type": "stream",
     "text": [
      "  |++++++++++++++++++                                | 36% ~01h 40m 42s  "
     ]
    },
    {
     "name": "stderr",
     "output_type": "stream",
     "text": [
      "Warning message in (0:(n - 1)) * f:\n",
      "“NAs produced by integer overflow”\n"
     ]
    },
    {
     "name": "stdout",
     "output_type": "stream",
     "text": [
      "  |+++++++++++++++++++                               | 38% ~01h 38m 10s  "
     ]
    },
    {
     "name": "stderr",
     "output_type": "stream",
     "text": [
      "Warning message in (0:(n - 1)) * f:\n",
      "“NAs produced by integer overflow”\n",
      "Warning message in (0:(n - 1)) * f:\n",
      "“NAs produced by integer overflow”\n"
     ]
    },
    {
     "name": "stdout",
     "output_type": "stream",
     "text": [
      "  |++++++++++++++++++++                              | 40% ~01h 35m 06s  "
     ]
    },
    {
     "name": "stderr",
     "output_type": "stream",
     "text": [
      "Warning message in (0:(n - 1)) * f:\n",
      "“NAs produced by integer overflow”\n",
      "Warning message in (0:(n - 1)) * f:\n",
      "“NAs produced by integer overflow”\n"
     ]
    },
    {
     "name": "stdout",
     "output_type": "stream",
     "text": [
      "  |+++++++++++++++++++++++                           | 45% ~01h 28m 22s  "
     ]
    },
    {
     "name": "stderr",
     "output_type": "stream",
     "text": [
      "Warning message in (0:(n - 1)) * f:\n",
      "“NAs produced by integer overflow”\n"
     ]
    },
    {
     "name": "stdout",
     "output_type": "stream",
     "text": [
      "  |+++++++++++++++++++++++                           | 46% ~01h 26m 47s  "
     ]
    },
    {
     "name": "stderr",
     "output_type": "stream",
     "text": [
      "Warning message in (0:(n - 1)) * f:\n",
      "“NAs produced by integer overflow”\n"
     ]
    },
    {
     "name": "stdout",
     "output_type": "stream",
     "text": [
      "  |++++++++++++++++++++++++                          | 47% ~01h 26m 13s  "
     ]
    },
    {
     "name": "stderr",
     "output_type": "stream",
     "text": [
      "Warning message in (0:(n - 1)) * f:\n",
      "“NAs produced by integer overflow”\n"
     ]
    },
    {
     "name": "stdout",
     "output_type": "stream",
     "text": [
      "  |++++++++++++++++++++++++++++                      | 55% ~01h 12m 55s  "
     ]
    },
    {
     "name": "stderr",
     "output_type": "stream",
     "text": [
      "Warning message in (0:(n - 1)) * f:\n",
      "“NAs produced by integer overflow”\n"
     ]
    },
    {
     "name": "stdout",
     "output_type": "stream",
     "text": [
      "  |++++++++++++++++++++++++++++                      | 56% ~01h 11m 06s  "
     ]
    },
    {
     "name": "stderr",
     "output_type": "stream",
     "text": [
      "Warning message in (0:(n - 1)) * f:\n",
      "“NAs produced by integer overflow”\n"
     ]
    },
    {
     "name": "stdout",
     "output_type": "stream",
     "text": [
      "  |++++++++++++++++++++++++++++++                    | 59% ~01h 06m 18s  "
     ]
    },
    {
     "name": "stderr",
     "output_type": "stream",
     "text": [
      "Warning message in (0:(n - 1)) * f:\n",
      "“NAs produced by integer overflow”\n"
     ]
    },
    {
     "name": "stdout",
     "output_type": "stream",
     "text": [
      "  |++++++++++++++++++++++++++++++++                  | 63% ~59m 29s      "
     ]
    },
    {
     "name": "stderr",
     "output_type": "stream",
     "text": [
      "Warning message in (0:(n - 1)) * f:\n",
      "“NAs produced by integer overflow”\n",
      "Warning message in (0:(n - 1)) * f:\n",
      "“NAs produced by integer overflow”\n"
     ]
    },
    {
     "name": "stdout",
     "output_type": "stream",
     "text": [
      "  |+++++++++++++++++++++++++++++++++                 | 65% ~56m 07s      "
     ]
    },
    {
     "name": "stderr",
     "output_type": "stream",
     "text": [
      "Warning message in (0:(n - 1)) * f:\n",
      "“NAs produced by integer overflow”\n",
      "Warning message in (0:(n - 1)) * f:\n",
      "“NAs produced by integer overflow”\n"
     ]
    },
    {
     "name": "stdout",
     "output_type": "stream",
     "text": [
      "  |+++++++++++++++++++++++++++++++++                 | 66% ~54m 30s      "
     ]
    },
    {
     "name": "stderr",
     "output_type": "stream",
     "text": [
      "Warning message in (0:(n - 1)) * f:\n",
      "“NAs produced by integer overflow”\n",
      "Warning message in (0:(n - 1)) * f:\n",
      "“NAs produced by integer overflow”\n",
      "Warning message in (0:(n - 1)) * f:\n",
      "“NAs produced by integer overflow”\n"
     ]
    },
    {
     "name": "stdout",
     "output_type": "stream",
     "text": [
      "  |++++++++++++++++++++++++++++++++++                | 67% ~53m 04s      "
     ]
    },
    {
     "name": "stderr",
     "output_type": "stream",
     "text": [
      "Warning message in (0:(n - 1)) * f:\n",
      "“NAs produced by integer overflow”\n"
     ]
    },
    {
     "name": "stdout",
     "output_type": "stream",
     "text": [
      "  |++++++++++++++++++++++++++++++++++++++            | 76% ~38m 31s      "
     ]
    },
    {
     "name": "stderr",
     "output_type": "stream",
     "text": [
      "Warning message in (0:(n - 1)) * f:\n",
      "“NAs produced by integer overflow”\n"
     ]
    },
    {
     "name": "stdout",
     "output_type": "stream",
     "text": [
      "  |+++++++++++++++++++++++++++++++++++++++           | 78% ~35m 21s      "
     ]
    },
    {
     "name": "stderr",
     "output_type": "stream",
     "text": [
      "Warning message in (0:(n - 1)) * f:\n",
      "“NAs produced by integer overflow”\n"
     ]
    },
    {
     "name": "stdout",
     "output_type": "stream",
     "text": [
      "  |++++++++++++++++++++++++++++++++++++++++          | 80% ~32m 13s      "
     ]
    },
    {
     "name": "stderr",
     "output_type": "stream",
     "text": [
      "Warning message in (0:(n - 1)) * f:\n",
      "“NAs produced by integer overflow”\n"
     ]
    },
    {
     "name": "stdout",
     "output_type": "stream",
     "text": [
      "  |++++++++++++++++++++++++++++++++++++++++++        | 84% ~25m 52s      "
     ]
    },
    {
     "name": "stderr",
     "output_type": "stream",
     "text": [
      "Warning message in (0:(n - 1)) * f:\n",
      "“NAs produced by integer overflow”\n"
     ]
    },
    {
     "name": "stdout",
     "output_type": "stream",
     "text": [
      "  |+++++++++++++++++++++++++++++++++++++++++++       | 86% ~22m 39s      "
     ]
    },
    {
     "name": "stderr",
     "output_type": "stream",
     "text": [
      "Warning message in (0:(n - 1)) * f:\n",
      "“NAs produced by integer overflow”\n",
      "Warning message in (0:(n - 1)) * f:\n",
      "“NAs produced by integer overflow”\n",
      "Warning message in (0:(n - 1)) * f:\n",
      "“NAs produced by integer overflow”\n"
     ]
    },
    {
     "name": "stdout",
     "output_type": "stream",
     "text": [
      "  |++++++++++++++++++++++++++++++++++++++++++++      | 87% ~21m 07s      "
     ]
    },
    {
     "name": "stderr",
     "output_type": "stream",
     "text": [
      "Warning message in (0:(n - 1)) * f:\n",
      "“NAs produced by integer overflow”\n"
     ]
    },
    {
     "name": "stdout",
     "output_type": "stream",
     "text": [
      "  |++++++++++++++++++++++++++++++++++++++++++++      | 88% ~19m 30s      "
     ]
    },
    {
     "name": "stderr",
     "output_type": "stream",
     "text": [
      "Warning message in (0:(n - 1)) * f:\n",
      "“NAs produced by integer overflow”\n"
     ]
    },
    {
     "name": "stdout",
     "output_type": "stream",
     "text": [
      "  |+++++++++++++++++++++++++++++++++++++++++++++     | 90% ~16m 14s      "
     ]
    },
    {
     "name": "stderr",
     "output_type": "stream",
     "text": [
      "Warning message in (0:(n - 1)) * f:\n",
      "“NAs produced by integer overflow”\n",
      "Warning message in (0:(n - 1)) * f:\n",
      "“NAs produced by integer overflow”\n",
      "Warning message in (0:(n - 1)) * f:\n",
      "“NAs produced by integer overflow”\n"
     ]
    },
    {
     "name": "stdout",
     "output_type": "stream",
     "text": [
      "  |++++++++++++++++++++++++++++++++++++++++++++++    | 91% ~14m 36s      "
     ]
    },
    {
     "name": "stderr",
     "output_type": "stream",
     "text": [
      "Warning message in (0:(n - 1)) * f:\n",
      "“NAs produced by integer overflow”\n",
      "Warning message in (0:(n - 1)) * f:\n",
      "“NAs produced by integer overflow”\n",
      "Warning message in (0:(n - 1)) * f:\n",
      "“NAs produced by integer overflow”\n",
      "Warning message in (0:(n - 1)) * f:\n",
      "“NAs produced by integer overflow”\n",
      "Warning message in (0:(n - 1)) * f:\n",
      "“NAs produced by integer overflow”\n",
      "Warning message in (0:(n - 1)) * f:\n",
      "“NAs produced by integer overflow”\n",
      "Warning message in (0:(n - 1)) * f:\n",
      "“NAs produced by integer overflow”\n",
      "Warning message in (0:(n - 1)) * f:\n",
      "“NAs produced by integer overflow”\n",
      "Warning message in (0:(n - 1)) * f:\n",
      "“NAs produced by integer overflow”\n"
     ]
    },
    {
     "name": "stdout",
     "output_type": "stream",
     "text": [
      "  |++++++++++++++++++++++++++++++++++++++++++++++    | 92% ~13m 05s      "
     ]
    },
    {
     "name": "stderr",
     "output_type": "stream",
     "text": [
      "Warning message in (0:(n - 1)) * f:\n",
      "“NAs produced by integer overflow”\n",
      "Warning message in (0:(n - 1)) * f:\n",
      "“NAs produced by integer overflow”\n",
      "Warning message in (0:(n - 1)) * f:\n",
      "“NAs produced by integer overflow”\n",
      "Warning message in (0:(n - 1)) * f:\n",
      "“NAs produced by integer overflow”\n",
      "Warning message in (0:(n - 1)) * f:\n",
      "“NAs produced by integer overflow”\n",
      "Warning message in (0:(n - 1)) * f:\n",
      "“NAs produced by integer overflow”\n",
      "Warning message in (0:(n - 1)) * f:\n",
      "“NAs produced by integer overflow”\n",
      "Warning message in (0:(n - 1)) * f:\n",
      "“NAs produced by integer overflow”\n",
      "Warning message in (0:(n - 1)) * f:\n",
      "“NAs produced by integer overflow”\n",
      "Warning message in (0:(n - 1)) * f:\n",
      "“NAs produced by integer overflow”\n",
      "Warning message in (0:(n - 1)) * f:\n",
      "“NAs produced by integer overflow”\n",
      "Warning message in (0:(n - 1)) * f:\n",
      "“NAs produced by integer overflow”\n",
      "Warning message in (0:(n - 1)) * f:\n",
      "“NAs produced by integer overflow”\n",
      "Warning message in (0:(n - 1)) * f:\n",
      "“NAs produced by integer overflow”\n",
      "Warning message in (0:(n - 1)) * f:\n",
      "“NAs produced by integer overflow”\n"
     ]
    },
    {
     "name": "stdout",
     "output_type": "stream",
     "text": [
      "  |++++++++++++++++++++++++++++++++++++++++++++++++  | 95% ~08m 17s      "
     ]
    },
    {
     "name": "stderr",
     "output_type": "stream",
     "text": [
      "Warning message in (0:(n - 1)) * f:\n",
      "“NAs produced by integer overflow”\n",
      "Warning message in (0:(n - 1)) * f:\n",
      "“NAs produced by integer overflow”\n",
      "Warning message in (0:(n - 1)) * f:\n",
      "“NAs produced by integer overflow”\n",
      "Warning message in (0:(n - 1)) * f:\n",
      "“NAs produced by integer overflow”\n"
     ]
    },
    {
     "name": "stdout",
     "output_type": "stream",
     "text": [
      "  |++++++++++++++++++++++++++++++++++++++++++++++++  | 96% ~06m 39s      "
     ]
    },
    {
     "name": "stderr",
     "output_type": "stream",
     "text": [
      "Warning message in (0:(n - 1)) * f:\n",
      "“NAs produced by integer overflow”\n"
     ]
    },
    {
     "name": "stdout",
     "output_type": "stream",
     "text": [
      "  |++++++++++++++++++++++++++++++++++++++++++++++++++| 99% ~01m 40s      "
     ]
    },
    {
     "name": "stderr",
     "output_type": "stream",
     "text": [
      "Warning message in (0:(n - 1)) * f:\n",
      "“NAs produced by integer overflow”\n"
     ]
    },
    {
     "name": "stdout",
     "output_type": "stream",
     "text": [
      "  |++++++++++++++++++++++++++++++++++++++++++++++++++| 100% elapsed=02h 47m 03s\n"
     ]
    }
   ],
   "source": [
    "x <- data.frame()\n",
    "\n",
    "for (folder in files.list) \n",
    "{\n",
    "    folder.path <- paste(\"/Users/prem/Desktop/diver/\", folder, sep=\"\")\n",
    "    # setwd(folder.path)\n",
    "    all.files <- list.files(path=folder.path, pattern=\"wav$\")\n",
    "    dataframe <- data.frame(all.files, 2, 1, 20)\n",
    "    names(dataframe) <- c(\"sound.files\", \"selec\", \"start\", \"end\")\n",
    "    a <- specan(dataframe, bp = c(0,22), ff.method = \"tuneR\", harmonicity = TRUE, path=folder.path)\n",
    "    \n",
    "    x <- rbind(x, a)\n",
    "    \n",
    "}"
   ]
  },
  {
   "cell_type": "code",
   "execution_count": 7,
   "id": "7cf312be",
   "metadata": {},
   "outputs": [
    {
     "data": {
      "text/html": [
       "<table class=\"dataframe\">\n",
       "<caption>A data.frame: 8354 × 39</caption>\n",
       "<thead>\n",
       "\t<tr><th scope=col>sound.files</th><th scope=col>selec</th><th scope=col>duration</th><th scope=col>meanfreq</th><th scope=col>sd</th><th scope=col>freq.median</th><th scope=col>freq.Q25</th><th scope=col>freq.Q75</th><th scope=col>freq.IQR</th><th scope=col>time.median</th><th scope=col>⋯</th><th scope=col>HNRVoiced</th><th scope=col>h1_freq</th><th scope=col>h1_width</th><th scope=col>h2_freq</th><th scope=col>h2_width</th><th scope=col>h3_freq</th><th scope=col>h3_width</th><th scope=col>meanfun</th><th scope=col>minfun</th><th scope=col>maxfun</th></tr>\n",
       "\t<tr><th scope=col>&lt;chr&gt;</th><th scope=col>&lt;dbl&gt;</th><th scope=col>&lt;dbl&gt;</th><th scope=col>&lt;dbl&gt;</th><th scope=col>&lt;dbl&gt;</th><th scope=col>&lt;dbl&gt;</th><th scope=col>&lt;dbl&gt;</th><th scope=col>&lt;dbl&gt;</th><th scope=col>&lt;dbl&gt;</th><th scope=col>&lt;dbl&gt;</th><th scope=col>⋯</th><th scope=col>&lt;dbl&gt;</th><th scope=col>&lt;dbl&gt;</th><th scope=col>&lt;dbl&gt;</th><th scope=col>&lt;dbl&gt;</th><th scope=col>&lt;dbl&gt;</th><th scope=col>&lt;dbl&gt;</th><th scope=col>&lt;dbl&gt;</th><th scope=col>&lt;dbl&gt;</th><th scope=col>&lt;dbl&gt;</th><th scope=col>&lt;dbl&gt;</th></tr>\n",
       "</thead>\n",
       "<tbody>\n",
       "\t<tr><td>a0001_1329.wav</td><td>2</td><td>19</td><td>1.303805</td><td>1.431251</td><td>0.6608189</td><td>0.4364125</td><td>1.444241</td><td>1.0078288</td><td>1.5967742</td><td>⋯</td><td> 9.281672</td><td>0.5717802</td><td>0.12578862</td><td>1.694041</td><td>0.2899400</td><td>2.757494</td><td>0.2227353</td><td>0.2130011</td><td>0.1808853</td><td>0.2480840</td></tr>\n",
       "\t<tr><td>a0001_1553.wav</td><td>2</td><td>19</td><td>2.043928</td><td>2.054179</td><td>1.0931652</td><td>0.4848670</td><td>3.184351</td><td>2.6994837</td><td>1.8827586</td><td>⋯</td><td>      NaN</td><td>1.0364150</td><td>0.37012860</td><td>2.331205</td><td>0.4756205</td><td>4.022140</td><td>0.2280028</td><td>       NA</td><td>       NA</td><td>       NA</td></tr>\n",
       "\t<tr><td>a0001_595.wav </td><td>2</td><td>19</td><td>2.211847</td><td>2.047427</td><td>1.3403972</td><td>0.4943569</td><td>4.084861</td><td>3.5905043</td><td>1.1513514</td><td>⋯</td><td> 8.176308</td><td>0.5202559</td><td>0.12521137</td><td>1.708941</td><td>0.1520713</td><td>2.954897</td><td>0.2146181</td><td>0.1837295</td><td>0.1588240</td><td>0.2105263</td></tr>\n",
       "\t<tr><td>a0001_631.wav </td><td>2</td><td>19</td><td>1.851073</td><td>1.781392</td><td>1.0732306</td><td>0.3926092</td><td>3.262360</td><td>2.8697511</td><td>1.4927885</td><td>⋯</td><td> 7.390383</td><td>0.7076952</td><td>0.16558757</td><td>2.132850</td><td>0.2652987</td><td>3.162550</td><td>0.2567423</td><td>0.1943175</td><td>0.1534598</td><td>0.2227342</td></tr>\n",
       "\t<tr><td>a0002_1329.wav</td><td>2</td><td>19</td><td>1.191388</td><td>1.164402</td><td>0.8726944</td><td>0.5602400</td><td>1.352710</td><td>0.7924696</td><td>1.3387097</td><td>⋯</td><td> 8.733869</td><td>0.7508933</td><td>0.12458051</td><td>1.499483</td><td>0.2382773</td><td>2.340988</td><td>0.1597819</td><td>0.2020651</td><td>0.1837131</td><td>0.2235176</td></tr>\n",
       "\t<tr><td>a0002_1553.wav</td><td>2</td><td>19</td><td>1.737709</td><td>1.716717</td><td>1.0674535</td><td>0.5570742</td><td>2.564141</td><td>2.0070672</td><td>2.3855263</td><td>⋯</td><td> 9.484622</td><td>0.9033427</td><td>0.21522227</td><td>1.878694</td><td>0.1938119</td><td>3.104261</td><td>0.2377445</td><td>0.2426571</td><td>0.2187918</td><td>0.3330277</td></tr>\n",
       "\t<tr><td>a0002_595.wav </td><td>2</td><td>19</td><td>1.817444</td><td>1.796539</td><td>1.0873292</td><td>0.5723934</td><td>2.936153</td><td>2.3637592</td><td>1.1227811</td><td>⋯</td><td> 6.286157</td><td>1.2263683</td><td>0.29427420</td><td>2.275257</td><td>0.1863727</td><td>3.496718</td><td>0.2448947</td><td>0.1641414</td><td>0.1616162</td><td>0.1666667</td></tr>\n",
       "\t<tr><td>a0002_631.wav </td><td>2</td><td>19</td><td>1.630655</td><td>1.611796</td><td>0.9898897</td><td>0.4295573</td><td>2.798892</td><td>2.3693349</td><td>1.2611940</td><td>⋯</td><td> 8.243653</td><td>0.5106150</td><td>0.14240414</td><td>1.839371</td><td>0.2706503</td><td>2.639027</td><td>0.2020810</td><td>0.2224537</td><td>0.1887189</td><td>0.2431898</td></tr>\n",
       "\t<tr><td>a0003_1329.wav</td><td>2</td><td>19</td><td>1.691258</td><td>1.682027</td><td>0.7168733</td><td>0.3988017</td><td>3.304842</td><td>2.9060400</td><td>1.9250000</td><td>⋯</td><td> 9.430509</td><td>0.6278019</td><td>0.12111724</td><td>1.883408</td><td>0.3080832</td><td>2.856993</td><td>0.2959129</td><td>0.2411725</td><td>0.1396750</td><td>1.2786323</td></tr>\n",
       "\t<tr><td>a0003_1553.wav</td><td>2</td><td>19</td><td>2.735611</td><td>2.042728</td><td>2.6696167</td><td>0.6972512</td><td>4.304126</td><td>3.6068749</td><td>1.5658113</td><td>⋯</td><td>11.357859</td><td>0.9360846</td><td>0.18492743</td><td>2.235971</td><td>0.1908223</td><td>3.237068</td><td>0.2080289</td><td>0.3050916</td><td>0.2483481</td><td>0.4000558</td></tr>\n",
       "\t<tr><td>a0003_595.wav </td><td>2</td><td>19</td><td>2.104971</td><td>1.758382</td><td>1.7587783</td><td>0.5342561</td><td>3.306432</td><td>2.7721760</td><td>0.8315217</td><td>⋯</td><td> 6.779386</td><td>0.6266843</td><td>0.18491530</td><td>2.008827</td><td>0.1677981</td><td>2.991624</td><td>0.2131302</td><td>0.1858187</td><td>0.1584158</td><td>0.2183524</td></tr>\n",
       "\t<tr><td>a0003_631.wav </td><td>2</td><td>19</td><td>1.972340</td><td>1.792991</td><td>1.4643869</td><td>0.2809728</td><td>3.570083</td><td>3.2891104</td><td>1.3115285</td><td>⋯</td><td> 7.920773</td><td>0.5546820</td><td>0.19143660</td><td>1.956128</td><td>0.2439069</td><td>2.943748</td><td>0.2574311</td><td>0.1992441</td><td>0.1368108</td><td>0.2501697</td></tr>\n",
       "\t<tr><td>a0004_1329.wav</td><td>2</td><td>19</td><td>1.247547</td><td>1.329353</td><td>0.6787510</td><td>0.4473805</td><td>1.492228</td><td>1.0448478</td><td>0.7610104</td><td>⋯</td><td> 9.592059</td><td>0.7306961</td><td>0.06699719</td><td>1.303418</td><td>0.2970936</td><td>2.066301</td><td>0.1705482</td><td>0.2219968</td><td>0.2029802</td><td>0.2706689</td></tr>\n",
       "\t<tr><td>a0004_1553.wav</td><td>2</td><td>19</td><td>1.928024</td><td>1.556348</td><td>1.6364703</td><td>0.6297031</td><td>2.844507</td><td>2.2148035</td><td>1.4540816</td><td>⋯</td><td>11.627739</td><td>0.7022326</td><td>0.10880142</td><td>1.608086</td><td>0.1866973</td><td>2.887008</td><td>0.2316684</td><td>0.2738486</td><td>0.2364760</td><td>0.3050559</td></tr>\n",
       "\t<tr><td>a0004_595.wav </td><td>2</td><td>19</td><td>2.101081</td><td>1.870518</td><td>1.3462359</td><td>0.5291070</td><td>3.352255</td><td>2.8231484</td><td>0.5054348</td><td>⋯</td><td> 6.294454</td><td>0.6227139</td><td>0.13583911</td><td>1.582385</td><td>0.1456998</td><td>3.011971</td><td>0.2472709</td><td>0.1517914</td><td>0.1404877</td><td>0.1728807</td></tr>\n",
       "\t<tr><td>a0005_1329.wav</td><td>2</td><td>19</td><td>1.053246</td><td>1.248732</td><td>0.6512496</td><td>0.1808138</td><td>1.164889</td><td>0.9840750</td><td>0.4565217</td><td>⋯</td><td>10.796222</td><td>0.8282937</td><td>0.12073738</td><td>1.666816</td><td>0.3272212</td><td>2.992260</td><td>0.3172378</td><td>0.2808867</td><td>0.2624916</td><td>0.3389271</td></tr>\n",
       "\t<tr><td>a0005_1553.wav</td><td>2</td><td>19</td><td>1.908820</td><td>1.614990</td><td>1.4950821</td><td>0.5895962</td><td>2.857311</td><td>2.2677149</td><td>0.7764706</td><td>⋯</td><td>12.102857</td><td>0.5973776</td><td>0.14165616</td><td>1.627603</td><td>0.1725750</td><td>2.873705</td><td>0.2428161</td><td>0.2955016</td><td>0.2580645</td><td>0.3285699</td></tr>\n",
       "\t<tr><td>a0005_595.wav </td><td>2</td><td>19</td><td>1.543411</td><td>1.569339</td><td>0.7811116</td><td>0.3120446</td><td>2.489356</td><td>2.1773110</td><td>0.3166667</td><td>⋯</td><td> 4.992302</td><td>0.6076440</td><td>0.11428865</td><td>1.940245</td><td>0.2007108</td><td>2.702130</td><td>0.1830112</td><td>0.1600160</td><td>0.1584158</td><td>0.1616162</td></tr>\n",
       "\t<tr><td>a0006_1553.wav</td><td>2</td><td>19</td><td>1.575828</td><td>1.579604</td><td>0.9448705</td><td>0.5198051</td><td>2.227435</td><td>1.7076303</td><td>1.3732993</td><td>⋯</td><td>11.157799</td><td>0.8944134</td><td>0.15367424</td><td>1.602648</td><td>0.1621592</td><td>3.148336</td><td>0.2366151</td><td>0.2522715</td><td>0.2066713</td><td>0.2926393</td></tr>\n",
       "\t<tr><td>a0006_595.wav </td><td>2</td><td>19</td><td>2.195250</td><td>2.025110</td><td>1.2940924</td><td>0.5255375</td><td>3.542753</td><td>3.0172155</td><td>0.7479675</td><td>⋯</td><td> 6.695798</td><td>0.6415425</td><td>0.16551257</td><td>1.482036</td><td>0.1586915</td><td>2.762597</td><td>0.2239175</td><td>0.1619178</td><td>0.1424463</td><td>0.2162162</td></tr>\n",
       "\t<tr><td>a0007_595.wav </td><td>2</td><td>19</td><td>2.435498</td><td>2.120002</td><td>1.7689485</td><td>0.4825553</td><td>4.485744</td><td>4.0031882</td><td>0.9434932</td><td>⋯</td><td> 7.234860</td><td>0.5375147</td><td>0.14296213</td><td>1.780796</td><td>0.1580043</td><td>2.818319</td><td>0.2407951</td><td>0.1860282</td><td>0.1577010</td><td>0.2381521</td></tr>\n",
       "\t<tr><td>a0008_595.wav </td><td>2</td><td>19</td><td>2.155845</td><td>1.896589</td><td>1.6756619</td><td>0.4995873</td><td>3.467776</td><td>2.9681885</td><td>0.6032609</td><td>⋯</td><td> 7.107005</td><td>1.0371950</td><td>0.16108561</td><td>2.339347</td><td>0.2794355</td><td>3.371623</td><td>0.2981768</td><td>0.1679825</td><td>0.1666667</td><td>0.1684211</td></tr>\n",
       "\t<tr><td>a0009_595.wav </td><td>2</td><td>19</td><td>2.618510</td><td>1.968379</td><td>2.1135539</td><td>0.7200484</td><td>4.492537</td><td>3.7724889</td><td>0.8009615</td><td>⋯</td><td> 6.348535</td><td>1.0513276</td><td>0.20326608</td><td>2.045661</td><td>0.1903983</td><td>2.587188</td><td>0.2425563</td><td>0.6592270</td><td>0.1568627</td><td>2.8399194</td></tr>\n",
       "\t<tr><td>a0010_595.wav </td><td>2</td><td>19</td><td>2.234359</td><td>2.077210</td><td>1.2796368</td><td>0.5093657</td><td>4.060702</td><td>3.5513366</td><td>0.8478261</td><td>⋯</td><td> 7.166924</td><td>0.6137141</td><td>0.16228698</td><td>1.716075</td><td>0.1816528</td><td>3.087101</td><td>0.2448440</td><td>0.1800212</td><td>0.1523810</td><td>0.2146957</td></tr>\n",
       "\t<tr><td>a0011_3166.wav</td><td>2</td><td>19</td><td>1.302095</td><td>1.411608</td><td>0.7947899</td><td>0.3304958</td><td>1.622961</td><td>1.2924647</td><td>1.2622768</td><td>⋯</td><td> 7.195156</td><td>0.6865756</td><td>0.24254149</td><td>2.018863</td><td>0.2985085</td><td>3.187611</td><td>0.3523515</td><td>0.2046702</td><td>0.1819764</td><td>0.2539785</td></tr>\n",
       "\t<tr><td>a0011_709.wav </td><td>2</td><td>19</td><td>1.156797</td><td>1.252508</td><td>0.6926398</td><td>0.3720983</td><td>1.374257</td><td>1.0021588</td><td>1.7890401</td><td>⋯</td><td> 8.623544</td><td>0.5412387</td><td>0.10854950</td><td>1.937278</td><td>0.2337601</td><td>2.909468</td><td>0.2398460</td><td>0.1711476</td><td>0.1322314</td><td>0.2515991</td></tr>\n",
       "\t<tr><td>a0012_3166.wav</td><td>2</td><td>19</td><td>2.167256</td><td>2.123953</td><td>1.2052057</td><td>0.3416900</td><td>4.164024</td><td>3.8223345</td><td>1.2109375</td><td>⋯</td><td> 7.856434</td><td>0.7256666</td><td>0.19069074</td><td>1.841594</td><td>0.3119991</td><td>3.122435</td><td>0.3285679</td><td>0.2059219</td><td>0.1925262</td><td>0.2339235</td></tr>\n",
       "\t<tr><td>a0012_709.wav </td><td>2</td><td>19</td><td>1.834376</td><td>1.771741</td><td>0.8734411</td><td>0.4626038</td><td>2.841978</td><td>2.3793741</td><td>1.6482890</td><td>⋯</td><td> 7.599203</td><td>0.6468869</td><td>0.08201021</td><td>1.742655</td><td>0.1853933</td><td>2.767328</td><td>0.2332641</td><td>0.1859291</td><td>0.1408124</td><td>0.2500000</td></tr>\n",
       "\t<tr><td>a0013_3166.wav</td><td>2</td><td>19</td><td>1.591052</td><td>1.804871</td><td>0.7657773</td><td>0.2747598</td><td>2.276081</td><td>2.0013215</td><td>1.6451613</td><td>⋯</td><td> 7.466593</td><td>0.5369960</td><td>0.29645830</td><td>1.848724</td><td>0.3608308</td><td>3.371870</td><td>0.3666019</td><td>0.1969532</td><td>0.1766932</td><td>0.2385714</td></tr>\n",
       "\t<tr><td>a0013_709.wav </td><td>2</td><td>19</td><td>1.418400</td><td>1.548859</td><td>0.6863146</td><td>0.4100525</td><td>2.244480</td><td>1.8344276</td><td>2.3178082</td><td>⋯</td><td> 6.676913</td><td>0.5241190</td><td>0.08395372</td><td>1.656555</td><td>0.1902565</td><td>2.933039</td><td>0.1881565</td><td>0.1896740</td><td>0.1333333</td><td>0.2485600</td></tr>\n",
       "\t<tr><td>⋮</td><td>⋮</td><td>⋮</td><td>⋮</td><td>⋮</td><td>⋮</td><td>⋮</td><td>⋮</td><td>⋮</td><td>⋮</td><td>⋱</td><td>⋮</td><td>⋮</td><td>⋮</td><td>⋮</td><td>⋮</td><td>⋮</td><td>⋮</td><td>⋮</td><td>⋮</td><td>⋮</td></tr>\n",
       "\t<tr><td>rp-25_5116.wav   </td><td>2</td><td>19</td><td>1.3088257</td><td>1.6354666</td><td>0.5200161</td><td>0.17103231</td><td>1.8471922</td><td>1.6761599</td><td>1.2569686</td><td>⋯</td><td>6.846608</td><td>0.5390479</td><td>0.20957068</td><td>1.6102563</td><td>0.15492819</td><td>2.409644</td><td>0.2104662</td><td>0.1812439</td><td>0.15474196</td><td>0.2144555</td></tr>\n",
       "\t<tr><td>rp-25_5547.wav   </td><td>2</td><td>19</td><td>2.3203779</td><td>2.3641049</td><td>1.0375049</td><td>0.40948600</td><td>4.6258233</td><td>4.2163373</td><td>1.4702381</td><td>⋯</td><td>6.070282</td><td>0.4997299</td><td>0.07856424</td><td>1.5916311</td><td>0.18429170</td><td>2.484349</td><td>0.2736121</td><td>0.1540966</td><td>0.11731035</td><td>0.3286858</td></tr>\n",
       "\t<tr><td>rp-25_5772.wav   </td><td>2</td><td>19</td><td>2.0291113</td><td>2.0747489</td><td>0.8696331</td><td>0.27441045</td><td>4.4156349</td><td>4.1412244</td><td>1.3254310</td><td>⋯</td><td>5.080189</td><td>0.6100804</td><td>0.15923079</td><td>1.7225187</td><td>0.15227147</td><td>2.527777</td><td>0.1991397</td><td>0.2642018</td><td>0.10459220</td><td>2.3636199</td></tr>\n",
       "\t<tr><td>rp-26_2805.wav   </td><td>2</td><td>19</td><td>1.4848889</td><td>1.6450904</td><td>0.5883840</td><td>0.41843873</td><td>2.1603172</td><td>1.7418785</td><td>1.3264706</td><td>⋯</td><td>5.108744</td><td>0.5560052</td><td>0.08877843</td><td>1.4788904</td><td>0.09866036</td><td>2.415704</td><td>0.1107283</td><td>0.5214331</td><td>0.10917776</td><td>2.1252707</td></tr>\n",
       "\t<tr><td>rp-26_959.wav    </td><td>2</td><td>19</td><td>1.6797775</td><td>1.4915089</td><td>1.1800450</td><td>0.40348204</td><td>2.7379710</td><td>2.3344889</td><td>0.6950431</td><td>⋯</td><td>4.459571</td><td>0.8750288</td><td>0.15231324</td><td>1.7986968</td><td>0.21237489</td><td>2.523718</td><td>0.2095546</td><td>1.0320655</td><td>0.12287719</td><td>1.8750302</td></tr>\n",
       "\t<tr><td>rp-27_2805.wav   </td><td>2</td><td>19</td><td>1.1388088</td><td>1.3784690</td><td>0.6251071</td><td>0.40855607</td><td>1.1165745</td><td>0.7080184</td><td>1.7580645</td><td>⋯</td><td>5.855889</td><td>0.5152067</td><td>0.05811624</td><td>1.1621993</td><td>0.08399491</td><td>2.323533</td><td>0.1194184</td><td>0.1344650</td><td>0.10890494</td><td>0.1758242</td></tr>\n",
       "\t<tr><td>rp-27_4405.wav   </td><td>2</td><td>19</td><td>2.6056027</td><td>2.5195745</td><td>1.1582516</td><td>0.27822929</td><td>5.0470615</td><td>4.7688322</td><td>1.9663324</td><td>⋯</td><td>     NaN</td><td>1.6701523</td><td>0.28994387</td><td>2.8483270</td><td>0.29141758</td><td>3.955007</td><td>0.3732984</td><td>       NA</td><td>        NA</td><td>       NA</td></tr>\n",
       "\t<tr><td>rp-27_5434.wav   </td><td>2</td><td>19</td><td>1.0652526</td><td>1.0440834</td><td>0.7896045</td><td>0.45810972</td><td>1.2793679</td><td>0.8212582</td><td>1.1694915</td><td>⋯</td><td>3.904767</td><td>0.6308191</td><td>0.10136931</td><td>1.2138455</td><td>0.07748761</td><td>2.583274</td><td>0.1813037</td><td>0.1010099</td><td>0.09710861</td><td>0.1041868</td></tr>\n",
       "\t<tr><td>rp-28_2679.wav   </td><td>2</td><td>19</td><td>1.7764026</td><td>1.2154787</td><td>1.4447544</td><td>0.77084944</td><td>2.6092642</td><td>1.8384147</td><td>1.3250951</td><td>⋯</td><td>5.578718</td><td>0.7801060</td><td>0.07455974</td><td>1.3680733</td><td>0.09025320</td><td>2.491687</td><td>0.1482929</td><td>0.1444135</td><td>0.12413075</td><td>0.1584002</td></tr>\n",
       "\t<tr><td>rp-28_3944.wav   </td><td>2</td><td>19</td><td>1.1698417</td><td>0.8642136</td><td>0.9535341</td><td>0.58952105</td><td>1.4985535</td><td>0.9090325</td><td>1.6129032</td><td>⋯</td><td>6.447656</td><td>0.6436234</td><td>0.07952478</td><td>1.1785097</td><td>0.06597395</td><td>2.067149</td><td>0.3468365</td><td>0.2636636</td><td>0.12614520</td><td>0.5297477</td></tr>\n",
       "\t<tr><td>rp-28_4405.wav   </td><td>2</td><td>19</td><td>1.1814645</td><td>1.6939653</td><td>0.4449891</td><td>0.16391527</td><td>1.2270534</td><td>1.0631381</td><td>2.5465616</td><td>⋯</td><td>5.967453</td><td>0.7112315</td><td>0.26687564</td><td>2.0834071</td><td>0.27017110</td><td>3.260521</td><td>0.2949154</td><td>0.1234796</td><td>0.12308894</td><td>0.1238702</td></tr>\n",
       "\t<tr><td>rp-29_1443.wav   </td><td>2</td><td>19</td><td>2.1267636</td><td>2.1654283</td><td>0.8189976</td><td>0.33453268</td><td>4.2084744</td><td>3.8739418</td><td>1.2007212</td><td>⋯</td><td>6.292556</td><td>0.5320015</td><td>0.16386762</td><td>1.7660890</td><td>0.20155022</td><td>2.851723</td><td>0.2868093</td><td>0.1290860</td><td>0.11362432</td><td>0.1907183</td></tr>\n",
       "\t<tr><td>rp-29_3650.wav   </td><td>2</td><td>19</td><td>1.9199857</td><td>1.9880787</td><td>0.9782852</td><td>0.34122587</td><td>3.1044250</td><td>2.7631991</td><td>1.7233894</td><td>⋯</td><td>6.409777</td><td>0.6311124</td><td>0.18526545</td><td>1.6814100</td><td>0.19922356</td><td>2.616391</td><td>0.2049886</td><td>2.0528854</td><td>0.11580613</td><td>2.9988239</td></tr>\n",
       "\t<tr><td>rp-29_3874.wav   </td><td>2</td><td>19</td><td>0.8896517</td><td>1.0386199</td><td>0.6259136</td><td>0.32443081</td><td>0.9177118</td><td>0.5932810</td><td>1.5994898</td><td>⋯</td><td>5.773717</td><td>0.5408163</td><td>0.16744890</td><td>1.5095015</td><td>0.23082333</td><td>2.852191</td><td>0.2950129</td><td>0.1478046</td><td>0.10712514</td><td>0.2382076</td></tr>\n",
       "\t<tr><td>rp-29_4969.wav   </td><td>2</td><td>19</td><td>1.0940153</td><td>1.1332503</td><td>0.6179608</td><td>0.40898386</td><td>1.3530166</td><td>0.9440327</td><td>1.3102941</td><td>⋯</td><td>5.114802</td><td>0.5111402</td><td>0.08457997</td><td>1.4960640</td><td>0.16194382</td><td>2.695601</td><td>0.2484149</td><td>0.1153255</td><td>0.10978292</td><td>0.1183085</td></tr>\n",
       "\t<tr><td>rp-30_3067.wav   </td><td>2</td><td>19</td><td>2.2111078</td><td>1.7938041</td><td>2.0157314</td><td>0.46667712</td><td>3.6018062</td><td>3.1351291</td><td>2.1250000</td><td>⋯</td><td>5.585809</td><td>0.6194993</td><td>0.07325748</td><td>1.5299954</td><td>0.18412255</td><td>2.610215</td><td>0.2029048</td><td>0.1422100</td><td>0.11603345</td><td>0.3270702</td></tr>\n",
       "\t<tr><td>rp-30_349.wav    </td><td>2</td><td>19</td><td>1.4346753</td><td>1.4935470</td><td>0.7755125</td><td>0.40878926</td><td>2.0181389</td><td>1.6093497</td><td>2.0182292</td><td>⋯</td><td>5.588875</td><td>0.5047043</td><td>0.14410088</td><td>1.3163456</td><td>0.14347647</td><td>2.221449</td><td>0.2569549</td><td>0.1232272</td><td>0.11165691</td><td>0.1403432</td></tr>\n",
       "\t<tr><td>rp-30_3850.wav   </td><td>2</td><td>19</td><td>2.1456749</td><td>1.5424583</td><td>2.1372126</td><td>0.62767764</td><td>3.0215844</td><td>2.3939067</td><td>2.0502768</td><td>⋯</td><td>5.126592</td><td>0.7735485</td><td>0.15075171</td><td>1.6926881</td><td>0.13544178</td><td>2.366761</td><td>0.2407014</td><td>0.8636840</td><td>0.12903226</td><td>2.9972164</td></tr>\n",
       "\t<tr><td>rp-30_5725.wav   </td><td>2</td><td>19</td><td>1.5002695</td><td>1.7028781</td><td>0.7247909</td><td>0.27127398</td><td>2.2860305</td><td>2.0147565</td><td>2.0008224</td><td>⋯</td><td>6.104510</td><td>0.4627441</td><td>0.16686975</td><td>1.5810511</td><td>0.17760029</td><td>2.488375</td><td>0.2979127</td><td>0.1452670</td><td>0.10775052</td><td>0.3902439</td></tr>\n",
       "\t<tr><td>rp-30_959.wav    </td><td>2</td><td>19</td><td>1.9673761</td><td>1.3262205</td><td>2.2245417</td><td>0.61878994</td><td>2.6694500</td><td>2.0506601</td><td>2.3694079</td><td>⋯</td><td>5.647774</td><td>0.9074314</td><td>0.16526848</td><td>1.9553563</td><td>0.12728954</td><td>2.568546</td><td>0.2073685</td><td>2.1077050</td><td>0.11754526</td><td>2.5484353</td></tr>\n",
       "\t<tr><td>rp-31_1993.wav   </td><td>2</td><td>19</td><td>0.6488184</td><td>0.6973268</td><td>0.4086587</td><td>0.27393252</td><td>0.6985919</td><td>0.4246594</td><td>0.7610104</td><td>⋯</td><td>5.039556</td><td>0.4531143</td><td>0.06868465</td><td>1.0114629</td><td>0.11561212</td><td>2.330637</td><td>0.1476015</td><td>0.1910713</td><td>0.10958703</td><td>0.2504133</td></tr>\n",
       "\t<tr><td>rp-31_2377.wav   </td><td>2</td><td>19</td><td>0.7974559</td><td>1.0972255</td><td>0.3145452</td><td>0.17390520</td><td>1.0244827</td><td>0.8505775</td><td>0.5205479</td><td>⋯</td><td>7.661940</td><td>0.3355714</td><td>0.20141479</td><td>1.2846516</td><td>0.17349502</td><td>2.489644</td><td>0.2532927</td><td>0.1298234</td><td>0.11547944</td><td>0.1648511</td></tr>\n",
       "\t<tr><td>rp-31_3650.wav   </td><td>2</td><td>19</td><td>1.0357197</td><td>1.1974348</td><td>0.4900948</td><td>0.20830511</td><td>1.4776922</td><td>1.2693871</td><td>0.6003606</td><td>⋯</td><td>6.230667</td><td>0.4389623</td><td>0.17008371</td><td>1.3529957</td><td>0.17595480</td><td>2.205259</td><td>0.1835068</td><td>0.2519499</td><td>0.11868437</td><td>0.4343813</td></tr>\n",
       "\t<tr><td>rp-31_3850.wav   </td><td>2</td><td>19</td><td>1.2385118</td><td>1.0672498</td><td>0.9587945</td><td>0.35412656</td><td>1.8729548</td><td>1.5188282</td><td>0.5530822</td><td>⋯</td><td>6.039328</td><td>0.4519254</td><td>0.11677314</td><td>0.9474385</td><td>0.06314384</td><td>2.417336</td><td>0.2184033</td><td>0.1363818</td><td>0.11758369</td><td>0.1537210</td></tr>\n",
       "\t<tr><td>rp-31_4405.wav   </td><td>2</td><td>19</td><td>0.7991420</td><td>1.4015335</td><td>0.2336644</td><td>0.10372823</td><td>0.5396075</td><td>0.4358792</td><td>1.2622768</td><td>⋯</td><td>     NaN</td><td>1.0484578</td><td>0.35591771</td><td>2.8111665</td><td>0.38021585</td><td>4.217222</td><td>0.4143374</td><td>       NA</td><td>        NA</td><td>       NA</td></tr>\n",
       "\t<tr><td>rp-31_933.wav    </td><td>2</td><td>19</td><td>1.2154311</td><td>1.8392638</td><td>0.3211816</td><td>0.09213591</td><td>1.5375827</td><td>1.4454468</td><td>0.9053724</td><td>⋯</td><td>4.689404</td><td>0.6902713</td><td>0.21755824</td><td>1.5804625</td><td>0.21319592</td><td>2.852369</td><td>0.2586613</td><td>0.1206173</td><td>0.11548988</td><td>0.1249543</td></tr>\n",
       "\t<tr><td>sample19_5487.wav</td><td>2</td><td>19</td><td>1.6696961</td><td>1.8201230</td><td>0.6832306</td><td>0.23149032</td><td>2.7599601</td><td>2.5284698</td><td>1.3783451</td><td>⋯</td><td>6.424209</td><td>0.4884774</td><td>0.20953378</td><td>1.7863294</td><td>0.24466780</td><td>2.730599</td><td>0.2634589</td><td>0.1965590</td><td>0.10665211</td><td>0.3309541</td></tr>\n",
       "\t<tr><td>sample27_5487.wav</td><td>2</td><td>19</td><td>2.2785450</td><td>2.3006992</td><td>0.9501537</td><td>0.33839210</td><td>4.9092039</td><td>4.5708118</td><td>0.4889552</td><td>⋯</td><td>6.418752</td><td>0.4679120</td><td>0.16919195</td><td>1.4398814</td><td>0.15221961</td><td>2.368497</td><td>0.2129768</td><td>0.1213430</td><td>0.11372051</td><td>0.1330178</td></tr>\n",
       "\t<tr><td>sample4_5487.wav </td><td>2</td><td>19</td><td>0.9337886</td><td>1.3587108</td><td>0.3960023</td><td>0.12002999</td><td>0.9875885</td><td>0.8675586</td><td>3.0408000</td><td>⋯</td><td>8.896174</td><td>0.5006344</td><td>0.14938527</td><td>1.7146924</td><td>0.22812015</td><td>2.689295</td><td>0.2810158</td><td>0.1348039</td><td>0.09853362</td><td>0.5645991</td></tr>\n",
       "\t<tr><td>sample5_5487.wav </td><td>2</td><td>19</td><td>1.0548058</td><td>1.5460683</td><td>0.3180535</td><td>0.11390150</td><td>1.2669188</td><td>1.1530173</td><td>3.2613111</td><td>⋯</td><td>8.834795</td><td>0.4628511</td><td>0.19159028</td><td>1.8840899</td><td>0.20841895</td><td>2.778476</td><td>0.2838652</td><td>0.1089910</td><td>0.09719855</td><td>0.1164834</td></tr>\n",
       "</tbody>\n",
       "</table>\n"
      ],
      "text/latex": [
       "A data.frame: 8354 × 39\n",
       "\\begin{tabular}{lllllllllllllllllllll}\n",
       " sound.files & selec & duration & meanfreq & sd & freq.median & freq.Q25 & freq.Q75 & freq.IQR & time.median & ⋯ & HNRVoiced & h1\\_freq & h1\\_width & h2\\_freq & h2\\_width & h3\\_freq & h3\\_width & meanfun & minfun & maxfun\\\\\n",
       " <chr> & <dbl> & <dbl> & <dbl> & <dbl> & <dbl> & <dbl> & <dbl> & <dbl> & <dbl> & ⋯ & <dbl> & <dbl> & <dbl> & <dbl> & <dbl> & <dbl> & <dbl> & <dbl> & <dbl> & <dbl>\\\\\n",
       "\\hline\n",
       "\t a0001\\_1329.wav & 2 & 19 & 1.303805 & 1.431251 & 0.6608189 & 0.4364125 & 1.444241 & 1.0078288 & 1.5967742 & ⋯ &  9.281672 & 0.5717802 & 0.12578862 & 1.694041 & 0.2899400 & 2.757494 & 0.2227353 & 0.2130011 & 0.1808853 & 0.2480840\\\\\n",
       "\t a0001\\_1553.wav & 2 & 19 & 2.043928 & 2.054179 & 1.0931652 & 0.4848670 & 3.184351 & 2.6994837 & 1.8827586 & ⋯ &       NaN & 1.0364150 & 0.37012860 & 2.331205 & 0.4756205 & 4.022140 & 0.2280028 &        NA &        NA &        NA\\\\\n",
       "\t a0001\\_595.wav  & 2 & 19 & 2.211847 & 2.047427 & 1.3403972 & 0.4943569 & 4.084861 & 3.5905043 & 1.1513514 & ⋯ &  8.176308 & 0.5202559 & 0.12521137 & 1.708941 & 0.1520713 & 2.954897 & 0.2146181 & 0.1837295 & 0.1588240 & 0.2105263\\\\\n",
       "\t a0001\\_631.wav  & 2 & 19 & 1.851073 & 1.781392 & 1.0732306 & 0.3926092 & 3.262360 & 2.8697511 & 1.4927885 & ⋯ &  7.390383 & 0.7076952 & 0.16558757 & 2.132850 & 0.2652987 & 3.162550 & 0.2567423 & 0.1943175 & 0.1534598 & 0.2227342\\\\\n",
       "\t a0002\\_1329.wav & 2 & 19 & 1.191388 & 1.164402 & 0.8726944 & 0.5602400 & 1.352710 & 0.7924696 & 1.3387097 & ⋯ &  8.733869 & 0.7508933 & 0.12458051 & 1.499483 & 0.2382773 & 2.340988 & 0.1597819 & 0.2020651 & 0.1837131 & 0.2235176\\\\\n",
       "\t a0002\\_1553.wav & 2 & 19 & 1.737709 & 1.716717 & 1.0674535 & 0.5570742 & 2.564141 & 2.0070672 & 2.3855263 & ⋯ &  9.484622 & 0.9033427 & 0.21522227 & 1.878694 & 0.1938119 & 3.104261 & 0.2377445 & 0.2426571 & 0.2187918 & 0.3330277\\\\\n",
       "\t a0002\\_595.wav  & 2 & 19 & 1.817444 & 1.796539 & 1.0873292 & 0.5723934 & 2.936153 & 2.3637592 & 1.1227811 & ⋯ &  6.286157 & 1.2263683 & 0.29427420 & 2.275257 & 0.1863727 & 3.496718 & 0.2448947 & 0.1641414 & 0.1616162 & 0.1666667\\\\\n",
       "\t a0002\\_631.wav  & 2 & 19 & 1.630655 & 1.611796 & 0.9898897 & 0.4295573 & 2.798892 & 2.3693349 & 1.2611940 & ⋯ &  8.243653 & 0.5106150 & 0.14240414 & 1.839371 & 0.2706503 & 2.639027 & 0.2020810 & 0.2224537 & 0.1887189 & 0.2431898\\\\\n",
       "\t a0003\\_1329.wav & 2 & 19 & 1.691258 & 1.682027 & 0.7168733 & 0.3988017 & 3.304842 & 2.9060400 & 1.9250000 & ⋯ &  9.430509 & 0.6278019 & 0.12111724 & 1.883408 & 0.3080832 & 2.856993 & 0.2959129 & 0.2411725 & 0.1396750 & 1.2786323\\\\\n",
       "\t a0003\\_1553.wav & 2 & 19 & 2.735611 & 2.042728 & 2.6696167 & 0.6972512 & 4.304126 & 3.6068749 & 1.5658113 & ⋯ & 11.357859 & 0.9360846 & 0.18492743 & 2.235971 & 0.1908223 & 3.237068 & 0.2080289 & 0.3050916 & 0.2483481 & 0.4000558\\\\\n",
       "\t a0003\\_595.wav  & 2 & 19 & 2.104971 & 1.758382 & 1.7587783 & 0.5342561 & 3.306432 & 2.7721760 & 0.8315217 & ⋯ &  6.779386 & 0.6266843 & 0.18491530 & 2.008827 & 0.1677981 & 2.991624 & 0.2131302 & 0.1858187 & 0.1584158 & 0.2183524\\\\\n",
       "\t a0003\\_631.wav  & 2 & 19 & 1.972340 & 1.792991 & 1.4643869 & 0.2809728 & 3.570083 & 3.2891104 & 1.3115285 & ⋯ &  7.920773 & 0.5546820 & 0.19143660 & 1.956128 & 0.2439069 & 2.943748 & 0.2574311 & 0.1992441 & 0.1368108 & 0.2501697\\\\\n",
       "\t a0004\\_1329.wav & 2 & 19 & 1.247547 & 1.329353 & 0.6787510 & 0.4473805 & 1.492228 & 1.0448478 & 0.7610104 & ⋯ &  9.592059 & 0.7306961 & 0.06699719 & 1.303418 & 0.2970936 & 2.066301 & 0.1705482 & 0.2219968 & 0.2029802 & 0.2706689\\\\\n",
       "\t a0004\\_1553.wav & 2 & 19 & 1.928024 & 1.556348 & 1.6364703 & 0.6297031 & 2.844507 & 2.2148035 & 1.4540816 & ⋯ & 11.627739 & 0.7022326 & 0.10880142 & 1.608086 & 0.1866973 & 2.887008 & 0.2316684 & 0.2738486 & 0.2364760 & 0.3050559\\\\\n",
       "\t a0004\\_595.wav  & 2 & 19 & 2.101081 & 1.870518 & 1.3462359 & 0.5291070 & 3.352255 & 2.8231484 & 0.5054348 & ⋯ &  6.294454 & 0.6227139 & 0.13583911 & 1.582385 & 0.1456998 & 3.011971 & 0.2472709 & 0.1517914 & 0.1404877 & 0.1728807\\\\\n",
       "\t a0005\\_1329.wav & 2 & 19 & 1.053246 & 1.248732 & 0.6512496 & 0.1808138 & 1.164889 & 0.9840750 & 0.4565217 & ⋯ & 10.796222 & 0.8282937 & 0.12073738 & 1.666816 & 0.3272212 & 2.992260 & 0.3172378 & 0.2808867 & 0.2624916 & 0.3389271\\\\\n",
       "\t a0005\\_1553.wav & 2 & 19 & 1.908820 & 1.614990 & 1.4950821 & 0.5895962 & 2.857311 & 2.2677149 & 0.7764706 & ⋯ & 12.102857 & 0.5973776 & 0.14165616 & 1.627603 & 0.1725750 & 2.873705 & 0.2428161 & 0.2955016 & 0.2580645 & 0.3285699\\\\\n",
       "\t a0005\\_595.wav  & 2 & 19 & 1.543411 & 1.569339 & 0.7811116 & 0.3120446 & 2.489356 & 2.1773110 & 0.3166667 & ⋯ &  4.992302 & 0.6076440 & 0.11428865 & 1.940245 & 0.2007108 & 2.702130 & 0.1830112 & 0.1600160 & 0.1584158 & 0.1616162\\\\\n",
       "\t a0006\\_1553.wav & 2 & 19 & 1.575828 & 1.579604 & 0.9448705 & 0.5198051 & 2.227435 & 1.7076303 & 1.3732993 & ⋯ & 11.157799 & 0.8944134 & 0.15367424 & 1.602648 & 0.1621592 & 3.148336 & 0.2366151 & 0.2522715 & 0.2066713 & 0.2926393\\\\\n",
       "\t a0006\\_595.wav  & 2 & 19 & 2.195250 & 2.025110 & 1.2940924 & 0.5255375 & 3.542753 & 3.0172155 & 0.7479675 & ⋯ &  6.695798 & 0.6415425 & 0.16551257 & 1.482036 & 0.1586915 & 2.762597 & 0.2239175 & 0.1619178 & 0.1424463 & 0.2162162\\\\\n",
       "\t a0007\\_595.wav  & 2 & 19 & 2.435498 & 2.120002 & 1.7689485 & 0.4825553 & 4.485744 & 4.0031882 & 0.9434932 & ⋯ &  7.234860 & 0.5375147 & 0.14296213 & 1.780796 & 0.1580043 & 2.818319 & 0.2407951 & 0.1860282 & 0.1577010 & 0.2381521\\\\\n",
       "\t a0008\\_595.wav  & 2 & 19 & 2.155845 & 1.896589 & 1.6756619 & 0.4995873 & 3.467776 & 2.9681885 & 0.6032609 & ⋯ &  7.107005 & 1.0371950 & 0.16108561 & 2.339347 & 0.2794355 & 3.371623 & 0.2981768 & 0.1679825 & 0.1666667 & 0.1684211\\\\\n",
       "\t a0009\\_595.wav  & 2 & 19 & 2.618510 & 1.968379 & 2.1135539 & 0.7200484 & 4.492537 & 3.7724889 & 0.8009615 & ⋯ &  6.348535 & 1.0513276 & 0.20326608 & 2.045661 & 0.1903983 & 2.587188 & 0.2425563 & 0.6592270 & 0.1568627 & 2.8399194\\\\\n",
       "\t a0010\\_595.wav  & 2 & 19 & 2.234359 & 2.077210 & 1.2796368 & 0.5093657 & 4.060702 & 3.5513366 & 0.8478261 & ⋯ &  7.166924 & 0.6137141 & 0.16228698 & 1.716075 & 0.1816528 & 3.087101 & 0.2448440 & 0.1800212 & 0.1523810 & 0.2146957\\\\\n",
       "\t a0011\\_3166.wav & 2 & 19 & 1.302095 & 1.411608 & 0.7947899 & 0.3304958 & 1.622961 & 1.2924647 & 1.2622768 & ⋯ &  7.195156 & 0.6865756 & 0.24254149 & 2.018863 & 0.2985085 & 3.187611 & 0.3523515 & 0.2046702 & 0.1819764 & 0.2539785\\\\\n",
       "\t a0011\\_709.wav  & 2 & 19 & 1.156797 & 1.252508 & 0.6926398 & 0.3720983 & 1.374257 & 1.0021588 & 1.7890401 & ⋯ &  8.623544 & 0.5412387 & 0.10854950 & 1.937278 & 0.2337601 & 2.909468 & 0.2398460 & 0.1711476 & 0.1322314 & 0.2515991\\\\\n",
       "\t a0012\\_3166.wav & 2 & 19 & 2.167256 & 2.123953 & 1.2052057 & 0.3416900 & 4.164024 & 3.8223345 & 1.2109375 & ⋯ &  7.856434 & 0.7256666 & 0.19069074 & 1.841594 & 0.3119991 & 3.122435 & 0.3285679 & 0.2059219 & 0.1925262 & 0.2339235\\\\\n",
       "\t a0012\\_709.wav  & 2 & 19 & 1.834376 & 1.771741 & 0.8734411 & 0.4626038 & 2.841978 & 2.3793741 & 1.6482890 & ⋯ &  7.599203 & 0.6468869 & 0.08201021 & 1.742655 & 0.1853933 & 2.767328 & 0.2332641 & 0.1859291 & 0.1408124 & 0.2500000\\\\\n",
       "\t a0013\\_3166.wav & 2 & 19 & 1.591052 & 1.804871 & 0.7657773 & 0.2747598 & 2.276081 & 2.0013215 & 1.6451613 & ⋯ &  7.466593 & 0.5369960 & 0.29645830 & 1.848724 & 0.3608308 & 3.371870 & 0.3666019 & 0.1969532 & 0.1766932 & 0.2385714\\\\\n",
       "\t a0013\\_709.wav  & 2 & 19 & 1.418400 & 1.548859 & 0.6863146 & 0.4100525 & 2.244480 & 1.8344276 & 2.3178082 & ⋯ &  6.676913 & 0.5241190 & 0.08395372 & 1.656555 & 0.1902565 & 2.933039 & 0.1881565 & 0.1896740 & 0.1333333 & 0.2485600\\\\\n",
       "\t ⋮ & ⋮ & ⋮ & ⋮ & ⋮ & ⋮ & ⋮ & ⋮ & ⋮ & ⋮ & ⋱ & ⋮ & ⋮ & ⋮ & ⋮ & ⋮ & ⋮ & ⋮ & ⋮ & ⋮ & ⋮\\\\\n",
       "\t rp-25\\_5116.wav    & 2 & 19 & 1.3088257 & 1.6354666 & 0.5200161 & 0.17103231 & 1.8471922 & 1.6761599 & 1.2569686 & ⋯ & 6.846608 & 0.5390479 & 0.20957068 & 1.6102563 & 0.15492819 & 2.409644 & 0.2104662 & 0.1812439 & 0.15474196 & 0.2144555\\\\\n",
       "\t rp-25\\_5547.wav    & 2 & 19 & 2.3203779 & 2.3641049 & 1.0375049 & 0.40948600 & 4.6258233 & 4.2163373 & 1.4702381 & ⋯ & 6.070282 & 0.4997299 & 0.07856424 & 1.5916311 & 0.18429170 & 2.484349 & 0.2736121 & 0.1540966 & 0.11731035 & 0.3286858\\\\\n",
       "\t rp-25\\_5772.wav    & 2 & 19 & 2.0291113 & 2.0747489 & 0.8696331 & 0.27441045 & 4.4156349 & 4.1412244 & 1.3254310 & ⋯ & 5.080189 & 0.6100804 & 0.15923079 & 1.7225187 & 0.15227147 & 2.527777 & 0.1991397 & 0.2642018 & 0.10459220 & 2.3636199\\\\\n",
       "\t rp-26\\_2805.wav    & 2 & 19 & 1.4848889 & 1.6450904 & 0.5883840 & 0.41843873 & 2.1603172 & 1.7418785 & 1.3264706 & ⋯ & 5.108744 & 0.5560052 & 0.08877843 & 1.4788904 & 0.09866036 & 2.415704 & 0.1107283 & 0.5214331 & 0.10917776 & 2.1252707\\\\\n",
       "\t rp-26\\_959.wav     & 2 & 19 & 1.6797775 & 1.4915089 & 1.1800450 & 0.40348204 & 2.7379710 & 2.3344889 & 0.6950431 & ⋯ & 4.459571 & 0.8750288 & 0.15231324 & 1.7986968 & 0.21237489 & 2.523718 & 0.2095546 & 1.0320655 & 0.12287719 & 1.8750302\\\\\n",
       "\t rp-27\\_2805.wav    & 2 & 19 & 1.1388088 & 1.3784690 & 0.6251071 & 0.40855607 & 1.1165745 & 0.7080184 & 1.7580645 & ⋯ & 5.855889 & 0.5152067 & 0.05811624 & 1.1621993 & 0.08399491 & 2.323533 & 0.1194184 & 0.1344650 & 0.10890494 & 0.1758242\\\\\n",
       "\t rp-27\\_4405.wav    & 2 & 19 & 2.6056027 & 2.5195745 & 1.1582516 & 0.27822929 & 5.0470615 & 4.7688322 & 1.9663324 & ⋯ &      NaN & 1.6701523 & 0.28994387 & 2.8483270 & 0.29141758 & 3.955007 & 0.3732984 &        NA &         NA &        NA\\\\\n",
       "\t rp-27\\_5434.wav    & 2 & 19 & 1.0652526 & 1.0440834 & 0.7896045 & 0.45810972 & 1.2793679 & 0.8212582 & 1.1694915 & ⋯ & 3.904767 & 0.6308191 & 0.10136931 & 1.2138455 & 0.07748761 & 2.583274 & 0.1813037 & 0.1010099 & 0.09710861 & 0.1041868\\\\\n",
       "\t rp-28\\_2679.wav    & 2 & 19 & 1.7764026 & 1.2154787 & 1.4447544 & 0.77084944 & 2.6092642 & 1.8384147 & 1.3250951 & ⋯ & 5.578718 & 0.7801060 & 0.07455974 & 1.3680733 & 0.09025320 & 2.491687 & 0.1482929 & 0.1444135 & 0.12413075 & 0.1584002\\\\\n",
       "\t rp-28\\_3944.wav    & 2 & 19 & 1.1698417 & 0.8642136 & 0.9535341 & 0.58952105 & 1.4985535 & 0.9090325 & 1.6129032 & ⋯ & 6.447656 & 0.6436234 & 0.07952478 & 1.1785097 & 0.06597395 & 2.067149 & 0.3468365 & 0.2636636 & 0.12614520 & 0.5297477\\\\\n",
       "\t rp-28\\_4405.wav    & 2 & 19 & 1.1814645 & 1.6939653 & 0.4449891 & 0.16391527 & 1.2270534 & 1.0631381 & 2.5465616 & ⋯ & 5.967453 & 0.7112315 & 0.26687564 & 2.0834071 & 0.27017110 & 3.260521 & 0.2949154 & 0.1234796 & 0.12308894 & 0.1238702\\\\\n",
       "\t rp-29\\_1443.wav    & 2 & 19 & 2.1267636 & 2.1654283 & 0.8189976 & 0.33453268 & 4.2084744 & 3.8739418 & 1.2007212 & ⋯ & 6.292556 & 0.5320015 & 0.16386762 & 1.7660890 & 0.20155022 & 2.851723 & 0.2868093 & 0.1290860 & 0.11362432 & 0.1907183\\\\\n",
       "\t rp-29\\_3650.wav    & 2 & 19 & 1.9199857 & 1.9880787 & 0.9782852 & 0.34122587 & 3.1044250 & 2.7631991 & 1.7233894 & ⋯ & 6.409777 & 0.6311124 & 0.18526545 & 1.6814100 & 0.19922356 & 2.616391 & 0.2049886 & 2.0528854 & 0.11580613 & 2.9988239\\\\\n",
       "\t rp-29\\_3874.wav    & 2 & 19 & 0.8896517 & 1.0386199 & 0.6259136 & 0.32443081 & 0.9177118 & 0.5932810 & 1.5994898 & ⋯ & 5.773717 & 0.5408163 & 0.16744890 & 1.5095015 & 0.23082333 & 2.852191 & 0.2950129 & 0.1478046 & 0.10712514 & 0.2382076\\\\\n",
       "\t rp-29\\_4969.wav    & 2 & 19 & 1.0940153 & 1.1332503 & 0.6179608 & 0.40898386 & 1.3530166 & 0.9440327 & 1.3102941 & ⋯ & 5.114802 & 0.5111402 & 0.08457997 & 1.4960640 & 0.16194382 & 2.695601 & 0.2484149 & 0.1153255 & 0.10978292 & 0.1183085\\\\\n",
       "\t rp-30\\_3067.wav    & 2 & 19 & 2.2111078 & 1.7938041 & 2.0157314 & 0.46667712 & 3.6018062 & 3.1351291 & 2.1250000 & ⋯ & 5.585809 & 0.6194993 & 0.07325748 & 1.5299954 & 0.18412255 & 2.610215 & 0.2029048 & 0.1422100 & 0.11603345 & 0.3270702\\\\\n",
       "\t rp-30\\_349.wav     & 2 & 19 & 1.4346753 & 1.4935470 & 0.7755125 & 0.40878926 & 2.0181389 & 1.6093497 & 2.0182292 & ⋯ & 5.588875 & 0.5047043 & 0.14410088 & 1.3163456 & 0.14347647 & 2.221449 & 0.2569549 & 0.1232272 & 0.11165691 & 0.1403432\\\\\n",
       "\t rp-30\\_3850.wav    & 2 & 19 & 2.1456749 & 1.5424583 & 2.1372126 & 0.62767764 & 3.0215844 & 2.3939067 & 2.0502768 & ⋯ & 5.126592 & 0.7735485 & 0.15075171 & 1.6926881 & 0.13544178 & 2.366761 & 0.2407014 & 0.8636840 & 0.12903226 & 2.9972164\\\\\n",
       "\t rp-30\\_5725.wav    & 2 & 19 & 1.5002695 & 1.7028781 & 0.7247909 & 0.27127398 & 2.2860305 & 2.0147565 & 2.0008224 & ⋯ & 6.104510 & 0.4627441 & 0.16686975 & 1.5810511 & 0.17760029 & 2.488375 & 0.2979127 & 0.1452670 & 0.10775052 & 0.3902439\\\\\n",
       "\t rp-30\\_959.wav     & 2 & 19 & 1.9673761 & 1.3262205 & 2.2245417 & 0.61878994 & 2.6694500 & 2.0506601 & 2.3694079 & ⋯ & 5.647774 & 0.9074314 & 0.16526848 & 1.9553563 & 0.12728954 & 2.568546 & 0.2073685 & 2.1077050 & 0.11754526 & 2.5484353\\\\\n",
       "\t rp-31\\_1993.wav    & 2 & 19 & 0.6488184 & 0.6973268 & 0.4086587 & 0.27393252 & 0.6985919 & 0.4246594 & 0.7610104 & ⋯ & 5.039556 & 0.4531143 & 0.06868465 & 1.0114629 & 0.11561212 & 2.330637 & 0.1476015 & 0.1910713 & 0.10958703 & 0.2504133\\\\\n",
       "\t rp-31\\_2377.wav    & 2 & 19 & 0.7974559 & 1.0972255 & 0.3145452 & 0.17390520 & 1.0244827 & 0.8505775 & 0.5205479 & ⋯ & 7.661940 & 0.3355714 & 0.20141479 & 1.2846516 & 0.17349502 & 2.489644 & 0.2532927 & 0.1298234 & 0.11547944 & 0.1648511\\\\\n",
       "\t rp-31\\_3650.wav    & 2 & 19 & 1.0357197 & 1.1974348 & 0.4900948 & 0.20830511 & 1.4776922 & 1.2693871 & 0.6003606 & ⋯ & 6.230667 & 0.4389623 & 0.17008371 & 1.3529957 & 0.17595480 & 2.205259 & 0.1835068 & 0.2519499 & 0.11868437 & 0.4343813\\\\\n",
       "\t rp-31\\_3850.wav    & 2 & 19 & 1.2385118 & 1.0672498 & 0.9587945 & 0.35412656 & 1.8729548 & 1.5188282 & 0.5530822 & ⋯ & 6.039328 & 0.4519254 & 0.11677314 & 0.9474385 & 0.06314384 & 2.417336 & 0.2184033 & 0.1363818 & 0.11758369 & 0.1537210\\\\\n",
       "\t rp-31\\_4405.wav    & 2 & 19 & 0.7991420 & 1.4015335 & 0.2336644 & 0.10372823 & 0.5396075 & 0.4358792 & 1.2622768 & ⋯ &      NaN & 1.0484578 & 0.35591771 & 2.8111665 & 0.38021585 & 4.217222 & 0.4143374 &        NA &         NA &        NA\\\\\n",
       "\t rp-31\\_933.wav     & 2 & 19 & 1.2154311 & 1.8392638 & 0.3211816 & 0.09213591 & 1.5375827 & 1.4454468 & 0.9053724 & ⋯ & 4.689404 & 0.6902713 & 0.21755824 & 1.5804625 & 0.21319592 & 2.852369 & 0.2586613 & 0.1206173 & 0.11548988 & 0.1249543\\\\\n",
       "\t sample19\\_5487.wav & 2 & 19 & 1.6696961 & 1.8201230 & 0.6832306 & 0.23149032 & 2.7599601 & 2.5284698 & 1.3783451 & ⋯ & 6.424209 & 0.4884774 & 0.20953378 & 1.7863294 & 0.24466780 & 2.730599 & 0.2634589 & 0.1965590 & 0.10665211 & 0.3309541\\\\\n",
       "\t sample27\\_5487.wav & 2 & 19 & 2.2785450 & 2.3006992 & 0.9501537 & 0.33839210 & 4.9092039 & 4.5708118 & 0.4889552 & ⋯ & 6.418752 & 0.4679120 & 0.16919195 & 1.4398814 & 0.15221961 & 2.368497 & 0.2129768 & 0.1213430 & 0.11372051 & 0.1330178\\\\\n",
       "\t sample4\\_5487.wav  & 2 & 19 & 0.9337886 & 1.3587108 & 0.3960023 & 0.12002999 & 0.9875885 & 0.8675586 & 3.0408000 & ⋯ & 8.896174 & 0.5006344 & 0.14938527 & 1.7146924 & 0.22812015 & 2.689295 & 0.2810158 & 0.1348039 & 0.09853362 & 0.5645991\\\\\n",
       "\t sample5\\_5487.wav  & 2 & 19 & 1.0548058 & 1.5460683 & 0.3180535 & 0.11390150 & 1.2669188 & 1.1530173 & 3.2613111 & ⋯ & 8.834795 & 0.4628511 & 0.19159028 & 1.8840899 & 0.20841895 & 2.778476 & 0.2838652 & 0.1089910 & 0.09719855 & 0.1164834\\\\\n",
       "\\end{tabular}\n"
      ],
      "text/markdown": [
       "\n",
       "A data.frame: 8354 × 39\n",
       "\n",
       "| sound.files &lt;chr&gt; | selec &lt;dbl&gt; | duration &lt;dbl&gt; | meanfreq &lt;dbl&gt; | sd &lt;dbl&gt; | freq.median &lt;dbl&gt; | freq.Q25 &lt;dbl&gt; | freq.Q75 &lt;dbl&gt; | freq.IQR &lt;dbl&gt; | time.median &lt;dbl&gt; | ⋯ ⋯ | HNRVoiced &lt;dbl&gt; | h1_freq &lt;dbl&gt; | h1_width &lt;dbl&gt; | h2_freq &lt;dbl&gt; | h2_width &lt;dbl&gt; | h3_freq &lt;dbl&gt; | h3_width &lt;dbl&gt; | meanfun &lt;dbl&gt; | minfun &lt;dbl&gt; | maxfun &lt;dbl&gt; |\n",
       "|---|---|---|---|---|---|---|---|---|---|---|---|---|---|---|---|---|---|---|---|---|\n",
       "| a0001_1329.wav | 2 | 19 | 1.303805 | 1.431251 | 0.6608189 | 0.4364125 | 1.444241 | 1.0078288 | 1.5967742 | ⋯ |  9.281672 | 0.5717802 | 0.12578862 | 1.694041 | 0.2899400 | 2.757494 | 0.2227353 | 0.2130011 | 0.1808853 | 0.2480840 |\n",
       "| a0001_1553.wav | 2 | 19 | 2.043928 | 2.054179 | 1.0931652 | 0.4848670 | 3.184351 | 2.6994837 | 1.8827586 | ⋯ |       NaN | 1.0364150 | 0.37012860 | 2.331205 | 0.4756205 | 4.022140 | 0.2280028 |        NA |        NA |        NA |\n",
       "| a0001_595.wav  | 2 | 19 | 2.211847 | 2.047427 | 1.3403972 | 0.4943569 | 4.084861 | 3.5905043 | 1.1513514 | ⋯ |  8.176308 | 0.5202559 | 0.12521137 | 1.708941 | 0.1520713 | 2.954897 | 0.2146181 | 0.1837295 | 0.1588240 | 0.2105263 |\n",
       "| a0001_631.wav  | 2 | 19 | 1.851073 | 1.781392 | 1.0732306 | 0.3926092 | 3.262360 | 2.8697511 | 1.4927885 | ⋯ |  7.390383 | 0.7076952 | 0.16558757 | 2.132850 | 0.2652987 | 3.162550 | 0.2567423 | 0.1943175 | 0.1534598 | 0.2227342 |\n",
       "| a0002_1329.wav | 2 | 19 | 1.191388 | 1.164402 | 0.8726944 | 0.5602400 | 1.352710 | 0.7924696 | 1.3387097 | ⋯ |  8.733869 | 0.7508933 | 0.12458051 | 1.499483 | 0.2382773 | 2.340988 | 0.1597819 | 0.2020651 | 0.1837131 | 0.2235176 |\n",
       "| a0002_1553.wav | 2 | 19 | 1.737709 | 1.716717 | 1.0674535 | 0.5570742 | 2.564141 | 2.0070672 | 2.3855263 | ⋯ |  9.484622 | 0.9033427 | 0.21522227 | 1.878694 | 0.1938119 | 3.104261 | 0.2377445 | 0.2426571 | 0.2187918 | 0.3330277 |\n",
       "| a0002_595.wav  | 2 | 19 | 1.817444 | 1.796539 | 1.0873292 | 0.5723934 | 2.936153 | 2.3637592 | 1.1227811 | ⋯ |  6.286157 | 1.2263683 | 0.29427420 | 2.275257 | 0.1863727 | 3.496718 | 0.2448947 | 0.1641414 | 0.1616162 | 0.1666667 |\n",
       "| a0002_631.wav  | 2 | 19 | 1.630655 | 1.611796 | 0.9898897 | 0.4295573 | 2.798892 | 2.3693349 | 1.2611940 | ⋯ |  8.243653 | 0.5106150 | 0.14240414 | 1.839371 | 0.2706503 | 2.639027 | 0.2020810 | 0.2224537 | 0.1887189 | 0.2431898 |\n",
       "| a0003_1329.wav | 2 | 19 | 1.691258 | 1.682027 | 0.7168733 | 0.3988017 | 3.304842 | 2.9060400 | 1.9250000 | ⋯ |  9.430509 | 0.6278019 | 0.12111724 | 1.883408 | 0.3080832 | 2.856993 | 0.2959129 | 0.2411725 | 0.1396750 | 1.2786323 |\n",
       "| a0003_1553.wav | 2 | 19 | 2.735611 | 2.042728 | 2.6696167 | 0.6972512 | 4.304126 | 3.6068749 | 1.5658113 | ⋯ | 11.357859 | 0.9360846 | 0.18492743 | 2.235971 | 0.1908223 | 3.237068 | 0.2080289 | 0.3050916 | 0.2483481 | 0.4000558 |\n",
       "| a0003_595.wav  | 2 | 19 | 2.104971 | 1.758382 | 1.7587783 | 0.5342561 | 3.306432 | 2.7721760 | 0.8315217 | ⋯ |  6.779386 | 0.6266843 | 0.18491530 | 2.008827 | 0.1677981 | 2.991624 | 0.2131302 | 0.1858187 | 0.1584158 | 0.2183524 |\n",
       "| a0003_631.wav  | 2 | 19 | 1.972340 | 1.792991 | 1.4643869 | 0.2809728 | 3.570083 | 3.2891104 | 1.3115285 | ⋯ |  7.920773 | 0.5546820 | 0.19143660 | 1.956128 | 0.2439069 | 2.943748 | 0.2574311 | 0.1992441 | 0.1368108 | 0.2501697 |\n",
       "| a0004_1329.wav | 2 | 19 | 1.247547 | 1.329353 | 0.6787510 | 0.4473805 | 1.492228 | 1.0448478 | 0.7610104 | ⋯ |  9.592059 | 0.7306961 | 0.06699719 | 1.303418 | 0.2970936 | 2.066301 | 0.1705482 | 0.2219968 | 0.2029802 | 0.2706689 |\n",
       "| a0004_1553.wav | 2 | 19 | 1.928024 | 1.556348 | 1.6364703 | 0.6297031 | 2.844507 | 2.2148035 | 1.4540816 | ⋯ | 11.627739 | 0.7022326 | 0.10880142 | 1.608086 | 0.1866973 | 2.887008 | 0.2316684 | 0.2738486 | 0.2364760 | 0.3050559 |\n",
       "| a0004_595.wav  | 2 | 19 | 2.101081 | 1.870518 | 1.3462359 | 0.5291070 | 3.352255 | 2.8231484 | 0.5054348 | ⋯ |  6.294454 | 0.6227139 | 0.13583911 | 1.582385 | 0.1456998 | 3.011971 | 0.2472709 | 0.1517914 | 0.1404877 | 0.1728807 |\n",
       "| a0005_1329.wav | 2 | 19 | 1.053246 | 1.248732 | 0.6512496 | 0.1808138 | 1.164889 | 0.9840750 | 0.4565217 | ⋯ | 10.796222 | 0.8282937 | 0.12073738 | 1.666816 | 0.3272212 | 2.992260 | 0.3172378 | 0.2808867 | 0.2624916 | 0.3389271 |\n",
       "| a0005_1553.wav | 2 | 19 | 1.908820 | 1.614990 | 1.4950821 | 0.5895962 | 2.857311 | 2.2677149 | 0.7764706 | ⋯ | 12.102857 | 0.5973776 | 0.14165616 | 1.627603 | 0.1725750 | 2.873705 | 0.2428161 | 0.2955016 | 0.2580645 | 0.3285699 |\n",
       "| a0005_595.wav  | 2 | 19 | 1.543411 | 1.569339 | 0.7811116 | 0.3120446 | 2.489356 | 2.1773110 | 0.3166667 | ⋯ |  4.992302 | 0.6076440 | 0.11428865 | 1.940245 | 0.2007108 | 2.702130 | 0.1830112 | 0.1600160 | 0.1584158 | 0.1616162 |\n",
       "| a0006_1553.wav | 2 | 19 | 1.575828 | 1.579604 | 0.9448705 | 0.5198051 | 2.227435 | 1.7076303 | 1.3732993 | ⋯ | 11.157799 | 0.8944134 | 0.15367424 | 1.602648 | 0.1621592 | 3.148336 | 0.2366151 | 0.2522715 | 0.2066713 | 0.2926393 |\n",
       "| a0006_595.wav  | 2 | 19 | 2.195250 | 2.025110 | 1.2940924 | 0.5255375 | 3.542753 | 3.0172155 | 0.7479675 | ⋯ |  6.695798 | 0.6415425 | 0.16551257 | 1.482036 | 0.1586915 | 2.762597 | 0.2239175 | 0.1619178 | 0.1424463 | 0.2162162 |\n",
       "| a0007_595.wav  | 2 | 19 | 2.435498 | 2.120002 | 1.7689485 | 0.4825553 | 4.485744 | 4.0031882 | 0.9434932 | ⋯ |  7.234860 | 0.5375147 | 0.14296213 | 1.780796 | 0.1580043 | 2.818319 | 0.2407951 | 0.1860282 | 0.1577010 | 0.2381521 |\n",
       "| a0008_595.wav  | 2 | 19 | 2.155845 | 1.896589 | 1.6756619 | 0.4995873 | 3.467776 | 2.9681885 | 0.6032609 | ⋯ |  7.107005 | 1.0371950 | 0.16108561 | 2.339347 | 0.2794355 | 3.371623 | 0.2981768 | 0.1679825 | 0.1666667 | 0.1684211 |\n",
       "| a0009_595.wav  | 2 | 19 | 2.618510 | 1.968379 | 2.1135539 | 0.7200484 | 4.492537 | 3.7724889 | 0.8009615 | ⋯ |  6.348535 | 1.0513276 | 0.20326608 | 2.045661 | 0.1903983 | 2.587188 | 0.2425563 | 0.6592270 | 0.1568627 | 2.8399194 |\n",
       "| a0010_595.wav  | 2 | 19 | 2.234359 | 2.077210 | 1.2796368 | 0.5093657 | 4.060702 | 3.5513366 | 0.8478261 | ⋯ |  7.166924 | 0.6137141 | 0.16228698 | 1.716075 | 0.1816528 | 3.087101 | 0.2448440 | 0.1800212 | 0.1523810 | 0.2146957 |\n",
       "| a0011_3166.wav | 2 | 19 | 1.302095 | 1.411608 | 0.7947899 | 0.3304958 | 1.622961 | 1.2924647 | 1.2622768 | ⋯ |  7.195156 | 0.6865756 | 0.24254149 | 2.018863 | 0.2985085 | 3.187611 | 0.3523515 | 0.2046702 | 0.1819764 | 0.2539785 |\n",
       "| a0011_709.wav  | 2 | 19 | 1.156797 | 1.252508 | 0.6926398 | 0.3720983 | 1.374257 | 1.0021588 | 1.7890401 | ⋯ |  8.623544 | 0.5412387 | 0.10854950 | 1.937278 | 0.2337601 | 2.909468 | 0.2398460 | 0.1711476 | 0.1322314 | 0.2515991 |\n",
       "| a0012_3166.wav | 2 | 19 | 2.167256 | 2.123953 | 1.2052057 | 0.3416900 | 4.164024 | 3.8223345 | 1.2109375 | ⋯ |  7.856434 | 0.7256666 | 0.19069074 | 1.841594 | 0.3119991 | 3.122435 | 0.3285679 | 0.2059219 | 0.1925262 | 0.2339235 |\n",
       "| a0012_709.wav  | 2 | 19 | 1.834376 | 1.771741 | 0.8734411 | 0.4626038 | 2.841978 | 2.3793741 | 1.6482890 | ⋯ |  7.599203 | 0.6468869 | 0.08201021 | 1.742655 | 0.1853933 | 2.767328 | 0.2332641 | 0.1859291 | 0.1408124 | 0.2500000 |\n",
       "| a0013_3166.wav | 2 | 19 | 1.591052 | 1.804871 | 0.7657773 | 0.2747598 | 2.276081 | 2.0013215 | 1.6451613 | ⋯ |  7.466593 | 0.5369960 | 0.29645830 | 1.848724 | 0.3608308 | 3.371870 | 0.3666019 | 0.1969532 | 0.1766932 | 0.2385714 |\n",
       "| a0013_709.wav  | 2 | 19 | 1.418400 | 1.548859 | 0.6863146 | 0.4100525 | 2.244480 | 1.8344276 | 2.3178082 | ⋯ |  6.676913 | 0.5241190 | 0.08395372 | 1.656555 | 0.1902565 | 2.933039 | 0.1881565 | 0.1896740 | 0.1333333 | 0.2485600 |\n",
       "| ⋮ | ⋮ | ⋮ | ⋮ | ⋮ | ⋮ | ⋮ | ⋮ | ⋮ | ⋮ | ⋱ | ⋮ | ⋮ | ⋮ | ⋮ | ⋮ | ⋮ | ⋮ | ⋮ | ⋮ | ⋮ |\n",
       "| rp-25_5116.wav    | 2 | 19 | 1.3088257 | 1.6354666 | 0.5200161 | 0.17103231 | 1.8471922 | 1.6761599 | 1.2569686 | ⋯ | 6.846608 | 0.5390479 | 0.20957068 | 1.6102563 | 0.15492819 | 2.409644 | 0.2104662 | 0.1812439 | 0.15474196 | 0.2144555 |\n",
       "| rp-25_5547.wav    | 2 | 19 | 2.3203779 | 2.3641049 | 1.0375049 | 0.40948600 | 4.6258233 | 4.2163373 | 1.4702381 | ⋯ | 6.070282 | 0.4997299 | 0.07856424 | 1.5916311 | 0.18429170 | 2.484349 | 0.2736121 | 0.1540966 | 0.11731035 | 0.3286858 |\n",
       "| rp-25_5772.wav    | 2 | 19 | 2.0291113 | 2.0747489 | 0.8696331 | 0.27441045 | 4.4156349 | 4.1412244 | 1.3254310 | ⋯ | 5.080189 | 0.6100804 | 0.15923079 | 1.7225187 | 0.15227147 | 2.527777 | 0.1991397 | 0.2642018 | 0.10459220 | 2.3636199 |\n",
       "| rp-26_2805.wav    | 2 | 19 | 1.4848889 | 1.6450904 | 0.5883840 | 0.41843873 | 2.1603172 | 1.7418785 | 1.3264706 | ⋯ | 5.108744 | 0.5560052 | 0.08877843 | 1.4788904 | 0.09866036 | 2.415704 | 0.1107283 | 0.5214331 | 0.10917776 | 2.1252707 |\n",
       "| rp-26_959.wav     | 2 | 19 | 1.6797775 | 1.4915089 | 1.1800450 | 0.40348204 | 2.7379710 | 2.3344889 | 0.6950431 | ⋯ | 4.459571 | 0.8750288 | 0.15231324 | 1.7986968 | 0.21237489 | 2.523718 | 0.2095546 | 1.0320655 | 0.12287719 | 1.8750302 |\n",
       "| rp-27_2805.wav    | 2 | 19 | 1.1388088 | 1.3784690 | 0.6251071 | 0.40855607 | 1.1165745 | 0.7080184 | 1.7580645 | ⋯ | 5.855889 | 0.5152067 | 0.05811624 | 1.1621993 | 0.08399491 | 2.323533 | 0.1194184 | 0.1344650 | 0.10890494 | 0.1758242 |\n",
       "| rp-27_4405.wav    | 2 | 19 | 2.6056027 | 2.5195745 | 1.1582516 | 0.27822929 | 5.0470615 | 4.7688322 | 1.9663324 | ⋯ |      NaN | 1.6701523 | 0.28994387 | 2.8483270 | 0.29141758 | 3.955007 | 0.3732984 |        NA |         NA |        NA |\n",
       "| rp-27_5434.wav    | 2 | 19 | 1.0652526 | 1.0440834 | 0.7896045 | 0.45810972 | 1.2793679 | 0.8212582 | 1.1694915 | ⋯ | 3.904767 | 0.6308191 | 0.10136931 | 1.2138455 | 0.07748761 | 2.583274 | 0.1813037 | 0.1010099 | 0.09710861 | 0.1041868 |\n",
       "| rp-28_2679.wav    | 2 | 19 | 1.7764026 | 1.2154787 | 1.4447544 | 0.77084944 | 2.6092642 | 1.8384147 | 1.3250951 | ⋯ | 5.578718 | 0.7801060 | 0.07455974 | 1.3680733 | 0.09025320 | 2.491687 | 0.1482929 | 0.1444135 | 0.12413075 | 0.1584002 |\n",
       "| rp-28_3944.wav    | 2 | 19 | 1.1698417 | 0.8642136 | 0.9535341 | 0.58952105 | 1.4985535 | 0.9090325 | 1.6129032 | ⋯ | 6.447656 | 0.6436234 | 0.07952478 | 1.1785097 | 0.06597395 | 2.067149 | 0.3468365 | 0.2636636 | 0.12614520 | 0.5297477 |\n",
       "| rp-28_4405.wav    | 2 | 19 | 1.1814645 | 1.6939653 | 0.4449891 | 0.16391527 | 1.2270534 | 1.0631381 | 2.5465616 | ⋯ | 5.967453 | 0.7112315 | 0.26687564 | 2.0834071 | 0.27017110 | 3.260521 | 0.2949154 | 0.1234796 | 0.12308894 | 0.1238702 |\n",
       "| rp-29_1443.wav    | 2 | 19 | 2.1267636 | 2.1654283 | 0.8189976 | 0.33453268 | 4.2084744 | 3.8739418 | 1.2007212 | ⋯ | 6.292556 | 0.5320015 | 0.16386762 | 1.7660890 | 0.20155022 | 2.851723 | 0.2868093 | 0.1290860 | 0.11362432 | 0.1907183 |\n",
       "| rp-29_3650.wav    | 2 | 19 | 1.9199857 | 1.9880787 | 0.9782852 | 0.34122587 | 3.1044250 | 2.7631991 | 1.7233894 | ⋯ | 6.409777 | 0.6311124 | 0.18526545 | 1.6814100 | 0.19922356 | 2.616391 | 0.2049886 | 2.0528854 | 0.11580613 | 2.9988239 |\n",
       "| rp-29_3874.wav    | 2 | 19 | 0.8896517 | 1.0386199 | 0.6259136 | 0.32443081 | 0.9177118 | 0.5932810 | 1.5994898 | ⋯ | 5.773717 | 0.5408163 | 0.16744890 | 1.5095015 | 0.23082333 | 2.852191 | 0.2950129 | 0.1478046 | 0.10712514 | 0.2382076 |\n",
       "| rp-29_4969.wav    | 2 | 19 | 1.0940153 | 1.1332503 | 0.6179608 | 0.40898386 | 1.3530166 | 0.9440327 | 1.3102941 | ⋯ | 5.114802 | 0.5111402 | 0.08457997 | 1.4960640 | 0.16194382 | 2.695601 | 0.2484149 | 0.1153255 | 0.10978292 | 0.1183085 |\n",
       "| rp-30_3067.wav    | 2 | 19 | 2.2111078 | 1.7938041 | 2.0157314 | 0.46667712 | 3.6018062 | 3.1351291 | 2.1250000 | ⋯ | 5.585809 | 0.6194993 | 0.07325748 | 1.5299954 | 0.18412255 | 2.610215 | 0.2029048 | 0.1422100 | 0.11603345 | 0.3270702 |\n",
       "| rp-30_349.wav     | 2 | 19 | 1.4346753 | 1.4935470 | 0.7755125 | 0.40878926 | 2.0181389 | 1.6093497 | 2.0182292 | ⋯ | 5.588875 | 0.5047043 | 0.14410088 | 1.3163456 | 0.14347647 | 2.221449 | 0.2569549 | 0.1232272 | 0.11165691 | 0.1403432 |\n",
       "| rp-30_3850.wav    | 2 | 19 | 2.1456749 | 1.5424583 | 2.1372126 | 0.62767764 | 3.0215844 | 2.3939067 | 2.0502768 | ⋯ | 5.126592 | 0.7735485 | 0.15075171 | 1.6926881 | 0.13544178 | 2.366761 | 0.2407014 | 0.8636840 | 0.12903226 | 2.9972164 |\n",
       "| rp-30_5725.wav    | 2 | 19 | 1.5002695 | 1.7028781 | 0.7247909 | 0.27127398 | 2.2860305 | 2.0147565 | 2.0008224 | ⋯ | 6.104510 | 0.4627441 | 0.16686975 | 1.5810511 | 0.17760029 | 2.488375 | 0.2979127 | 0.1452670 | 0.10775052 | 0.3902439 |\n",
       "| rp-30_959.wav     | 2 | 19 | 1.9673761 | 1.3262205 | 2.2245417 | 0.61878994 | 2.6694500 | 2.0506601 | 2.3694079 | ⋯ | 5.647774 | 0.9074314 | 0.16526848 | 1.9553563 | 0.12728954 | 2.568546 | 0.2073685 | 2.1077050 | 0.11754526 | 2.5484353 |\n",
       "| rp-31_1993.wav    | 2 | 19 | 0.6488184 | 0.6973268 | 0.4086587 | 0.27393252 | 0.6985919 | 0.4246594 | 0.7610104 | ⋯ | 5.039556 | 0.4531143 | 0.06868465 | 1.0114629 | 0.11561212 | 2.330637 | 0.1476015 | 0.1910713 | 0.10958703 | 0.2504133 |\n",
       "| rp-31_2377.wav    | 2 | 19 | 0.7974559 | 1.0972255 | 0.3145452 | 0.17390520 | 1.0244827 | 0.8505775 | 0.5205479 | ⋯ | 7.661940 | 0.3355714 | 0.20141479 | 1.2846516 | 0.17349502 | 2.489644 | 0.2532927 | 0.1298234 | 0.11547944 | 0.1648511 |\n",
       "| rp-31_3650.wav    | 2 | 19 | 1.0357197 | 1.1974348 | 0.4900948 | 0.20830511 | 1.4776922 | 1.2693871 | 0.6003606 | ⋯ | 6.230667 | 0.4389623 | 0.17008371 | 1.3529957 | 0.17595480 | 2.205259 | 0.1835068 | 0.2519499 | 0.11868437 | 0.4343813 |\n",
       "| rp-31_3850.wav    | 2 | 19 | 1.2385118 | 1.0672498 | 0.9587945 | 0.35412656 | 1.8729548 | 1.5188282 | 0.5530822 | ⋯ | 6.039328 | 0.4519254 | 0.11677314 | 0.9474385 | 0.06314384 | 2.417336 | 0.2184033 | 0.1363818 | 0.11758369 | 0.1537210 |\n",
       "| rp-31_4405.wav    | 2 | 19 | 0.7991420 | 1.4015335 | 0.2336644 | 0.10372823 | 0.5396075 | 0.4358792 | 1.2622768 | ⋯ |      NaN | 1.0484578 | 0.35591771 | 2.8111665 | 0.38021585 | 4.217222 | 0.4143374 |        NA |         NA |        NA |\n",
       "| rp-31_933.wav     | 2 | 19 | 1.2154311 | 1.8392638 | 0.3211816 | 0.09213591 | 1.5375827 | 1.4454468 | 0.9053724 | ⋯ | 4.689404 | 0.6902713 | 0.21755824 | 1.5804625 | 0.21319592 | 2.852369 | 0.2586613 | 0.1206173 | 0.11548988 | 0.1249543 |\n",
       "| sample19_5487.wav | 2 | 19 | 1.6696961 | 1.8201230 | 0.6832306 | 0.23149032 | 2.7599601 | 2.5284698 | 1.3783451 | ⋯ | 6.424209 | 0.4884774 | 0.20953378 | 1.7863294 | 0.24466780 | 2.730599 | 0.2634589 | 0.1965590 | 0.10665211 | 0.3309541 |\n",
       "| sample27_5487.wav | 2 | 19 | 2.2785450 | 2.3006992 | 0.9501537 | 0.33839210 | 4.9092039 | 4.5708118 | 0.4889552 | ⋯ | 6.418752 | 0.4679120 | 0.16919195 | 1.4398814 | 0.15221961 | 2.368497 | 0.2129768 | 0.1213430 | 0.11372051 | 0.1330178 |\n",
       "| sample4_5487.wav  | 2 | 19 | 0.9337886 | 1.3587108 | 0.3960023 | 0.12002999 | 0.9875885 | 0.8675586 | 3.0408000 | ⋯ | 8.896174 | 0.5006344 | 0.14938527 | 1.7146924 | 0.22812015 | 2.689295 | 0.2810158 | 0.1348039 | 0.09853362 | 0.5645991 |\n",
       "| sample5_5487.wav  | 2 | 19 | 1.0548058 | 1.5460683 | 0.3180535 | 0.11390150 | 1.2669188 | 1.1530173 | 3.2613111 | ⋯ | 8.834795 | 0.4628511 | 0.19159028 | 1.8840899 | 0.20841895 | 2.778476 | 0.2838652 | 0.1089910 | 0.09719855 | 0.1164834 |\n",
       "\n"
      ],
      "text/plain": [
       "     sound.files       selec duration meanfreq  sd        freq.median\n",
       "1    a0001_1329.wav    2     19       1.303805  1.431251  0.6608189  \n",
       "2    a0001_1553.wav    2     19       2.043928  2.054179  1.0931652  \n",
       "3    a0001_595.wav     2     19       2.211847  2.047427  1.3403972  \n",
       "4    a0001_631.wav     2     19       1.851073  1.781392  1.0732306  \n",
       "5    a0002_1329.wav    2     19       1.191388  1.164402  0.8726944  \n",
       "6    a0002_1553.wav    2     19       1.737709  1.716717  1.0674535  \n",
       "7    a0002_595.wav     2     19       1.817444  1.796539  1.0873292  \n",
       "8    a0002_631.wav     2     19       1.630655  1.611796  0.9898897  \n",
       "9    a0003_1329.wav    2     19       1.691258  1.682027  0.7168733  \n",
       "10   a0003_1553.wav    2     19       2.735611  2.042728  2.6696167  \n",
       "11   a0003_595.wav     2     19       2.104971  1.758382  1.7587783  \n",
       "12   a0003_631.wav     2     19       1.972340  1.792991  1.4643869  \n",
       "13   a0004_1329.wav    2     19       1.247547  1.329353  0.6787510  \n",
       "14   a0004_1553.wav    2     19       1.928024  1.556348  1.6364703  \n",
       "15   a0004_595.wav     2     19       2.101081  1.870518  1.3462359  \n",
       "16   a0005_1329.wav    2     19       1.053246  1.248732  0.6512496  \n",
       "17   a0005_1553.wav    2     19       1.908820  1.614990  1.4950821  \n",
       "18   a0005_595.wav     2     19       1.543411  1.569339  0.7811116  \n",
       "19   a0006_1553.wav    2     19       1.575828  1.579604  0.9448705  \n",
       "20   a0006_595.wav     2     19       2.195250  2.025110  1.2940924  \n",
       "21   a0007_595.wav     2     19       2.435498  2.120002  1.7689485  \n",
       "22   a0008_595.wav     2     19       2.155845  1.896589  1.6756619  \n",
       "23   a0009_595.wav     2     19       2.618510  1.968379  2.1135539  \n",
       "24   a0010_595.wav     2     19       2.234359  2.077210  1.2796368  \n",
       "25   a0011_3166.wav    2     19       1.302095  1.411608  0.7947899  \n",
       "26   a0011_709.wav     2     19       1.156797  1.252508  0.6926398  \n",
       "27   a0012_3166.wav    2     19       2.167256  2.123953  1.2052057  \n",
       "28   a0012_709.wav     2     19       1.834376  1.771741  0.8734411  \n",
       "29   a0013_3166.wav    2     19       1.591052  1.804871  0.7657773  \n",
       "30   a0013_709.wav     2     19       1.418400  1.548859  0.6863146  \n",
       "⋮    ⋮                 ⋮     ⋮        ⋮         ⋮         ⋮          \n",
       "8325 rp-25_5116.wav    2     19       1.3088257 1.6354666 0.5200161  \n",
       "8326 rp-25_5547.wav    2     19       2.3203779 2.3641049 1.0375049  \n",
       "8327 rp-25_5772.wav    2     19       2.0291113 2.0747489 0.8696331  \n",
       "8328 rp-26_2805.wav    2     19       1.4848889 1.6450904 0.5883840  \n",
       "8329 rp-26_959.wav     2     19       1.6797775 1.4915089 1.1800450  \n",
       "8330 rp-27_2805.wav    2     19       1.1388088 1.3784690 0.6251071  \n",
       "8331 rp-27_4405.wav    2     19       2.6056027 2.5195745 1.1582516  \n",
       "8332 rp-27_5434.wav    2     19       1.0652526 1.0440834 0.7896045  \n",
       "8333 rp-28_2679.wav    2     19       1.7764026 1.2154787 1.4447544  \n",
       "8334 rp-28_3944.wav    2     19       1.1698417 0.8642136 0.9535341  \n",
       "8335 rp-28_4405.wav    2     19       1.1814645 1.6939653 0.4449891  \n",
       "8336 rp-29_1443.wav    2     19       2.1267636 2.1654283 0.8189976  \n",
       "8337 rp-29_3650.wav    2     19       1.9199857 1.9880787 0.9782852  \n",
       "8338 rp-29_3874.wav    2     19       0.8896517 1.0386199 0.6259136  \n",
       "8339 rp-29_4969.wav    2     19       1.0940153 1.1332503 0.6179608  \n",
       "8340 rp-30_3067.wav    2     19       2.2111078 1.7938041 2.0157314  \n",
       "8341 rp-30_349.wav     2     19       1.4346753 1.4935470 0.7755125  \n",
       "8342 rp-30_3850.wav    2     19       2.1456749 1.5424583 2.1372126  \n",
       "8343 rp-30_5725.wav    2     19       1.5002695 1.7028781 0.7247909  \n",
       "8344 rp-30_959.wav     2     19       1.9673761 1.3262205 2.2245417  \n",
       "8345 rp-31_1993.wav    2     19       0.6488184 0.6973268 0.4086587  \n",
       "8346 rp-31_2377.wav    2     19       0.7974559 1.0972255 0.3145452  \n",
       "8347 rp-31_3650.wav    2     19       1.0357197 1.1974348 0.4900948  \n",
       "8348 rp-31_3850.wav    2     19       1.2385118 1.0672498 0.9587945  \n",
       "8349 rp-31_4405.wav    2     19       0.7991420 1.4015335 0.2336644  \n",
       "8350 rp-31_933.wav     2     19       1.2154311 1.8392638 0.3211816  \n",
       "8351 sample19_5487.wav 2     19       1.6696961 1.8201230 0.6832306  \n",
       "8352 sample27_5487.wav 2     19       2.2785450 2.3006992 0.9501537  \n",
       "8353 sample4_5487.wav  2     19       0.9337886 1.3587108 0.3960023  \n",
       "8354 sample5_5487.wav  2     19       1.0548058 1.5460683 0.3180535  \n",
       "     freq.Q25   freq.Q75  freq.IQR  time.median ⋯ HNRVoiced h1_freq  \n",
       "1    0.4364125  1.444241  1.0078288 1.5967742   ⋯  9.281672 0.5717802\n",
       "2    0.4848670  3.184351  2.6994837 1.8827586   ⋯       NaN 1.0364150\n",
       "3    0.4943569  4.084861  3.5905043 1.1513514   ⋯  8.176308 0.5202559\n",
       "4    0.3926092  3.262360  2.8697511 1.4927885   ⋯  7.390383 0.7076952\n",
       "5    0.5602400  1.352710  0.7924696 1.3387097   ⋯  8.733869 0.7508933\n",
       "6    0.5570742  2.564141  2.0070672 2.3855263   ⋯  9.484622 0.9033427\n",
       "7    0.5723934  2.936153  2.3637592 1.1227811   ⋯  6.286157 1.2263683\n",
       "8    0.4295573  2.798892  2.3693349 1.2611940   ⋯  8.243653 0.5106150\n",
       "9    0.3988017  3.304842  2.9060400 1.9250000   ⋯  9.430509 0.6278019\n",
       "10   0.6972512  4.304126  3.6068749 1.5658113   ⋯ 11.357859 0.9360846\n",
       "11   0.5342561  3.306432  2.7721760 0.8315217   ⋯  6.779386 0.6266843\n",
       "12   0.2809728  3.570083  3.2891104 1.3115285   ⋯  7.920773 0.5546820\n",
       "13   0.4473805  1.492228  1.0448478 0.7610104   ⋯  9.592059 0.7306961\n",
       "14   0.6297031  2.844507  2.2148035 1.4540816   ⋯ 11.627739 0.7022326\n",
       "15   0.5291070  3.352255  2.8231484 0.5054348   ⋯  6.294454 0.6227139\n",
       "16   0.1808138  1.164889  0.9840750 0.4565217   ⋯ 10.796222 0.8282937\n",
       "17   0.5895962  2.857311  2.2677149 0.7764706   ⋯ 12.102857 0.5973776\n",
       "18   0.3120446  2.489356  2.1773110 0.3166667   ⋯  4.992302 0.6076440\n",
       "19   0.5198051  2.227435  1.7076303 1.3732993   ⋯ 11.157799 0.8944134\n",
       "20   0.5255375  3.542753  3.0172155 0.7479675   ⋯  6.695798 0.6415425\n",
       "21   0.4825553  4.485744  4.0031882 0.9434932   ⋯  7.234860 0.5375147\n",
       "22   0.4995873  3.467776  2.9681885 0.6032609   ⋯  7.107005 1.0371950\n",
       "23   0.7200484  4.492537  3.7724889 0.8009615   ⋯  6.348535 1.0513276\n",
       "24   0.5093657  4.060702  3.5513366 0.8478261   ⋯  7.166924 0.6137141\n",
       "25   0.3304958  1.622961  1.2924647 1.2622768   ⋯  7.195156 0.6865756\n",
       "26   0.3720983  1.374257  1.0021588 1.7890401   ⋯  8.623544 0.5412387\n",
       "27   0.3416900  4.164024  3.8223345 1.2109375   ⋯  7.856434 0.7256666\n",
       "28   0.4626038  2.841978  2.3793741 1.6482890   ⋯  7.599203 0.6468869\n",
       "29   0.2747598  2.276081  2.0013215 1.6451613   ⋯  7.466593 0.5369960\n",
       "30   0.4100525  2.244480  1.8344276 2.3178082   ⋯  6.676913 0.5241190\n",
       "⋮    ⋮          ⋮         ⋮         ⋮           ⋱ ⋮         ⋮        \n",
       "8325 0.17103231 1.8471922 1.6761599 1.2569686   ⋯ 6.846608  0.5390479\n",
       "8326 0.40948600 4.6258233 4.2163373 1.4702381   ⋯ 6.070282  0.4997299\n",
       "8327 0.27441045 4.4156349 4.1412244 1.3254310   ⋯ 5.080189  0.6100804\n",
       "8328 0.41843873 2.1603172 1.7418785 1.3264706   ⋯ 5.108744  0.5560052\n",
       "8329 0.40348204 2.7379710 2.3344889 0.6950431   ⋯ 4.459571  0.8750288\n",
       "8330 0.40855607 1.1165745 0.7080184 1.7580645   ⋯ 5.855889  0.5152067\n",
       "8331 0.27822929 5.0470615 4.7688322 1.9663324   ⋯      NaN  1.6701523\n",
       "8332 0.45810972 1.2793679 0.8212582 1.1694915   ⋯ 3.904767  0.6308191\n",
       "8333 0.77084944 2.6092642 1.8384147 1.3250951   ⋯ 5.578718  0.7801060\n",
       "8334 0.58952105 1.4985535 0.9090325 1.6129032   ⋯ 6.447656  0.6436234\n",
       "8335 0.16391527 1.2270534 1.0631381 2.5465616   ⋯ 5.967453  0.7112315\n",
       "8336 0.33453268 4.2084744 3.8739418 1.2007212   ⋯ 6.292556  0.5320015\n",
       "8337 0.34122587 3.1044250 2.7631991 1.7233894   ⋯ 6.409777  0.6311124\n",
       "8338 0.32443081 0.9177118 0.5932810 1.5994898   ⋯ 5.773717  0.5408163\n",
       "8339 0.40898386 1.3530166 0.9440327 1.3102941   ⋯ 5.114802  0.5111402\n",
       "8340 0.46667712 3.6018062 3.1351291 2.1250000   ⋯ 5.585809  0.6194993\n",
       "8341 0.40878926 2.0181389 1.6093497 2.0182292   ⋯ 5.588875  0.5047043\n",
       "8342 0.62767764 3.0215844 2.3939067 2.0502768   ⋯ 5.126592  0.7735485\n",
       "8343 0.27127398 2.2860305 2.0147565 2.0008224   ⋯ 6.104510  0.4627441\n",
       "8344 0.61878994 2.6694500 2.0506601 2.3694079   ⋯ 5.647774  0.9074314\n",
       "8345 0.27393252 0.6985919 0.4246594 0.7610104   ⋯ 5.039556  0.4531143\n",
       "8346 0.17390520 1.0244827 0.8505775 0.5205479   ⋯ 7.661940  0.3355714\n",
       "8347 0.20830511 1.4776922 1.2693871 0.6003606   ⋯ 6.230667  0.4389623\n",
       "8348 0.35412656 1.8729548 1.5188282 0.5530822   ⋯ 6.039328  0.4519254\n",
       "8349 0.10372823 0.5396075 0.4358792 1.2622768   ⋯      NaN  1.0484578\n",
       "8350 0.09213591 1.5375827 1.4454468 0.9053724   ⋯ 4.689404  0.6902713\n",
       "8351 0.23149032 2.7599601 2.5284698 1.3783451   ⋯ 6.424209  0.4884774\n",
       "8352 0.33839210 4.9092039 4.5708118 0.4889552   ⋯ 6.418752  0.4679120\n",
       "8353 0.12002999 0.9875885 0.8675586 3.0408000   ⋯ 8.896174  0.5006344\n",
       "8354 0.11390150 1.2669188 1.1530173 3.2613111   ⋯ 8.834795  0.4628511\n",
       "     h1_width   h2_freq   h2_width   h3_freq  h3_width  meanfun   minfun    \n",
       "1    0.12578862 1.694041  0.2899400  2.757494 0.2227353 0.2130011 0.1808853 \n",
       "2    0.37012860 2.331205  0.4756205  4.022140 0.2280028        NA        NA \n",
       "3    0.12521137 1.708941  0.1520713  2.954897 0.2146181 0.1837295 0.1588240 \n",
       "4    0.16558757 2.132850  0.2652987  3.162550 0.2567423 0.1943175 0.1534598 \n",
       "5    0.12458051 1.499483  0.2382773  2.340988 0.1597819 0.2020651 0.1837131 \n",
       "6    0.21522227 1.878694  0.1938119  3.104261 0.2377445 0.2426571 0.2187918 \n",
       "7    0.29427420 2.275257  0.1863727  3.496718 0.2448947 0.1641414 0.1616162 \n",
       "8    0.14240414 1.839371  0.2706503  2.639027 0.2020810 0.2224537 0.1887189 \n",
       "9    0.12111724 1.883408  0.3080832  2.856993 0.2959129 0.2411725 0.1396750 \n",
       "10   0.18492743 2.235971  0.1908223  3.237068 0.2080289 0.3050916 0.2483481 \n",
       "11   0.18491530 2.008827  0.1677981  2.991624 0.2131302 0.1858187 0.1584158 \n",
       "12   0.19143660 1.956128  0.2439069  2.943748 0.2574311 0.1992441 0.1368108 \n",
       "13   0.06699719 1.303418  0.2970936  2.066301 0.1705482 0.2219968 0.2029802 \n",
       "14   0.10880142 1.608086  0.1866973  2.887008 0.2316684 0.2738486 0.2364760 \n",
       "15   0.13583911 1.582385  0.1456998  3.011971 0.2472709 0.1517914 0.1404877 \n",
       "16   0.12073738 1.666816  0.3272212  2.992260 0.3172378 0.2808867 0.2624916 \n",
       "17   0.14165616 1.627603  0.1725750  2.873705 0.2428161 0.2955016 0.2580645 \n",
       "18   0.11428865 1.940245  0.2007108  2.702130 0.1830112 0.1600160 0.1584158 \n",
       "19   0.15367424 1.602648  0.1621592  3.148336 0.2366151 0.2522715 0.2066713 \n",
       "20   0.16551257 1.482036  0.1586915  2.762597 0.2239175 0.1619178 0.1424463 \n",
       "21   0.14296213 1.780796  0.1580043  2.818319 0.2407951 0.1860282 0.1577010 \n",
       "22   0.16108561 2.339347  0.2794355  3.371623 0.2981768 0.1679825 0.1666667 \n",
       "23   0.20326608 2.045661  0.1903983  2.587188 0.2425563 0.6592270 0.1568627 \n",
       "24   0.16228698 1.716075  0.1816528  3.087101 0.2448440 0.1800212 0.1523810 \n",
       "25   0.24254149 2.018863  0.2985085  3.187611 0.3523515 0.2046702 0.1819764 \n",
       "26   0.10854950 1.937278  0.2337601  2.909468 0.2398460 0.1711476 0.1322314 \n",
       "27   0.19069074 1.841594  0.3119991  3.122435 0.3285679 0.2059219 0.1925262 \n",
       "28   0.08201021 1.742655  0.1853933  2.767328 0.2332641 0.1859291 0.1408124 \n",
       "29   0.29645830 1.848724  0.3608308  3.371870 0.3666019 0.1969532 0.1766932 \n",
       "30   0.08395372 1.656555  0.1902565  2.933039 0.1881565 0.1896740 0.1333333 \n",
       "⋮    ⋮          ⋮         ⋮          ⋮        ⋮         ⋮         ⋮         \n",
       "8325 0.20957068 1.6102563 0.15492819 2.409644 0.2104662 0.1812439 0.15474196\n",
       "8326 0.07856424 1.5916311 0.18429170 2.484349 0.2736121 0.1540966 0.11731035\n",
       "8327 0.15923079 1.7225187 0.15227147 2.527777 0.1991397 0.2642018 0.10459220\n",
       "8328 0.08877843 1.4788904 0.09866036 2.415704 0.1107283 0.5214331 0.10917776\n",
       "8329 0.15231324 1.7986968 0.21237489 2.523718 0.2095546 1.0320655 0.12287719\n",
       "8330 0.05811624 1.1621993 0.08399491 2.323533 0.1194184 0.1344650 0.10890494\n",
       "8331 0.28994387 2.8483270 0.29141758 3.955007 0.3732984        NA         NA\n",
       "8332 0.10136931 1.2138455 0.07748761 2.583274 0.1813037 0.1010099 0.09710861\n",
       "8333 0.07455974 1.3680733 0.09025320 2.491687 0.1482929 0.1444135 0.12413075\n",
       "8334 0.07952478 1.1785097 0.06597395 2.067149 0.3468365 0.2636636 0.12614520\n",
       "8335 0.26687564 2.0834071 0.27017110 3.260521 0.2949154 0.1234796 0.12308894\n",
       "8336 0.16386762 1.7660890 0.20155022 2.851723 0.2868093 0.1290860 0.11362432\n",
       "8337 0.18526545 1.6814100 0.19922356 2.616391 0.2049886 2.0528854 0.11580613\n",
       "8338 0.16744890 1.5095015 0.23082333 2.852191 0.2950129 0.1478046 0.10712514\n",
       "8339 0.08457997 1.4960640 0.16194382 2.695601 0.2484149 0.1153255 0.10978292\n",
       "8340 0.07325748 1.5299954 0.18412255 2.610215 0.2029048 0.1422100 0.11603345\n",
       "8341 0.14410088 1.3163456 0.14347647 2.221449 0.2569549 0.1232272 0.11165691\n",
       "8342 0.15075171 1.6926881 0.13544178 2.366761 0.2407014 0.8636840 0.12903226\n",
       "8343 0.16686975 1.5810511 0.17760029 2.488375 0.2979127 0.1452670 0.10775052\n",
       "8344 0.16526848 1.9553563 0.12728954 2.568546 0.2073685 2.1077050 0.11754526\n",
       "8345 0.06868465 1.0114629 0.11561212 2.330637 0.1476015 0.1910713 0.10958703\n",
       "8346 0.20141479 1.2846516 0.17349502 2.489644 0.2532927 0.1298234 0.11547944\n",
       "8347 0.17008371 1.3529957 0.17595480 2.205259 0.1835068 0.2519499 0.11868437\n",
       "8348 0.11677314 0.9474385 0.06314384 2.417336 0.2184033 0.1363818 0.11758369\n",
       "8349 0.35591771 2.8111665 0.38021585 4.217222 0.4143374        NA         NA\n",
       "8350 0.21755824 1.5804625 0.21319592 2.852369 0.2586613 0.1206173 0.11548988\n",
       "8351 0.20953378 1.7863294 0.24466780 2.730599 0.2634589 0.1965590 0.10665211\n",
       "8352 0.16919195 1.4398814 0.15221961 2.368497 0.2129768 0.1213430 0.11372051\n",
       "8353 0.14938527 1.7146924 0.22812015 2.689295 0.2810158 0.1348039 0.09853362\n",
       "8354 0.19159028 1.8840899 0.20841895 2.778476 0.2838652 0.1089910 0.09719855\n",
       "     maxfun   \n",
       "1    0.2480840\n",
       "2           NA\n",
       "3    0.2105263\n",
       "4    0.2227342\n",
       "5    0.2235176\n",
       "6    0.3330277\n",
       "7    0.1666667\n",
       "8    0.2431898\n",
       "9    1.2786323\n",
       "10   0.4000558\n",
       "11   0.2183524\n",
       "12   0.2501697\n",
       "13   0.2706689\n",
       "14   0.3050559\n",
       "15   0.1728807\n",
       "16   0.3389271\n",
       "17   0.3285699\n",
       "18   0.1616162\n",
       "19   0.2926393\n",
       "20   0.2162162\n",
       "21   0.2381521\n",
       "22   0.1684211\n",
       "23   2.8399194\n",
       "24   0.2146957\n",
       "25   0.2539785\n",
       "26   0.2515991\n",
       "27   0.2339235\n",
       "28   0.2500000\n",
       "29   0.2385714\n",
       "30   0.2485600\n",
       "⋮    ⋮        \n",
       "8325 0.2144555\n",
       "8326 0.3286858\n",
       "8327 2.3636199\n",
       "8328 2.1252707\n",
       "8329 1.8750302\n",
       "8330 0.1758242\n",
       "8331        NA\n",
       "8332 0.1041868\n",
       "8333 0.1584002\n",
       "8334 0.5297477\n",
       "8335 0.1238702\n",
       "8336 0.1907183\n",
       "8337 2.9988239\n",
       "8338 0.2382076\n",
       "8339 0.1183085\n",
       "8340 0.3270702\n",
       "8341 0.1403432\n",
       "8342 2.9972164\n",
       "8343 0.3902439\n",
       "8344 2.5484353\n",
       "8345 0.2504133\n",
       "8346 0.1648511\n",
       "8347 0.4343813\n",
       "8348 0.1537210\n",
       "8349        NA\n",
       "8350 0.1249543\n",
       "8351 0.3309541\n",
       "8352 0.1330178\n",
       "8353 0.5645991\n",
       "8354 0.1164834"
      ]
     },
     "metadata": {},
     "output_type": "display_data"
    }
   ],
   "source": [
    "x"
   ]
  },
  {
   "cell_type": "code",
   "execution_count": 8,
   "id": "8effccdd",
   "metadata": {},
   "outputs": [],
   "source": [
    "write.csv(x,\"/Users/prem/Desktop/diver/acoustic_features.csv\", row.names = FALSE)"
   ]
  },
  {
   "cell_type": "code",
   "execution_count": null,
   "id": "f3f77a3d",
   "metadata": {},
   "outputs": [],
   "source": []
  }
 ],
 "metadata": {
  "kernelspec": {
   "display_name": "Python 3",
   "language": "python",
   "name": "python3"
  },
  "language_info": {
   "codemirror_mode": {
    "name": "ipython",
    "version": 3
   },
   "file_extension": ".py",
   "mimetype": "text/x-python",
   "name": "python",
   "nbconvert_exporter": "python",
   "pygments_lexer": "ipython3",
   "version": "3.8.8"
  }
 },
 "nbformat": 4,
 "nbformat_minor": 5
}
