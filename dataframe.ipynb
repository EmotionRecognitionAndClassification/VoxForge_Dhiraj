{
 "cells": [
  {
   "cell_type": "code",
   "execution_count": 1,
   "id": "eee97d5a",
   "metadata": {},
   "outputs": [],
   "source": [
    "#loading all the required python libraries\n",
    "import os\n",
    "import numpy as np\n",
    "import pandas as pd\n",
    "import shutil\n",
    "import re\n",
    "\n"
   ]
  },
  {
   "cell_type": "code",
   "execution_count": 2,
   "id": "c00afe29",
   "metadata": {},
   "outputs": [],
   "source": [
    "rootdir ='/Users/prem/Desktop/Speech_Corpus'"
   ]
  },
  {
   "cell_type": "code",
   "execution_count": 3,
   "id": "6d2a99a0",
   "metadata": {},
   "outputs": [],
   "source": [
    "#List of paths of audio_transcript\n",
    "def trans_file():\n",
    "  log = []\n",
    "  for root, dirs, files in os.walk(rootdir):\n",
    "    for name in files:\n",
    "      if name == 'audio_transcript.txt':\n",
    "        path = os.path.join(root,name)\n",
    "        log.append(path)\n",
    "  return log\n"
   ]
  },
  {
   "cell_type": "code",
   "execution_count": 4,
   "id": "78d440b1",
   "metadata": {},
   "outputs": [],
   "source": [
    "#List of paths of speaker info\n",
    "def info_file():\n",
    "  log1 = []\n",
    "  for root, dirs, files in os.walk(rootdir):\n",
    "    for name in files:\n",
    "      if name == 'speaker_info.txt':\n",
    "        path_info = os.path.join(root,name)\n",
    "        log1.append(path_info)\n",
    "  return log1"
   ]
  },
  {
   "cell_type": "code",
   "execution_count": 5,
   "id": "c74396e8",
   "metadata": {},
   "outputs": [],
   "source": [
    "# return dataframe 1 - having column wave id, audio transcript & Speaker no.\n",
    "def dataframe_1() :\n",
    "  dfs = []\n",
    "  trans_files = trans_file()\n",
    "  for file in trans_files :\n",
    "    m = file\n",
    "    temp = re.findall(r'\\d+', m)\n",
    "    res = list(map(int, temp))\n",
    "    speaker_no = str(res[0])\n",
    "        \n",
    "    f = open(file)\n",
    "    data_1 = dict()\n",
    "    for line in f:\n",
    "      a =  line.strip().split(' ', 1)\n",
    "      it = iter(a)\n",
    "      res_dct = dict(zip(it, it))\n",
    "      data_1.update(res_dct)\n",
    "      df_1 = pd.DataFrame(data_1.items(), columns = ['wave_id', 'transcript'])\n",
    "      df_1['Speaker'] = speaker_no\n",
    "    dfs.append(df_1)\n",
    "  result = pd.concat(dfs)\n",
    "  return result\n",
    "  \n",
    "  \n"
   ]
  },
  {
   "cell_type": "code",
   "execution_count": 6,
   "id": "adc20fa6",
   "metadata": {},
   "outputs": [
    {
     "data": {
      "text/html": [
       "<div>\n",
       "<style scoped>\n",
       "    .dataframe tbody tr th:only-of-type {\n",
       "        vertical-align: middle;\n",
       "    }\n",
       "\n",
       "    .dataframe tbody tr th {\n",
       "        vertical-align: top;\n",
       "    }\n",
       "\n",
       "    .dataframe thead th {\n",
       "        text-align: right;\n",
       "    }\n",
       "</style>\n",
       "<table border=\"1\" class=\"dataframe\">\n",
       "  <thead>\n",
       "    <tr style=\"text-align: right;\">\n",
       "      <th></th>\n",
       "      <th>wave_id</th>\n",
       "      <th>transcript</th>\n",
       "      <th>Speaker</th>\n",
       "    </tr>\n",
       "  </thead>\n",
       "  <tbody>\n",
       "    <tr>\n",
       "      <th>0</th>\n",
       "      <td>a0454</td>\n",
       "      <td>The sharp voice of Wolf Larsen aroused me.</td>\n",
       "      <td>1069</td>\n",
       "    </tr>\n",
       "    <tr>\n",
       "      <th>1</th>\n",
       "      <td>a0455</td>\n",
       "      <td>I obeyed, and a minute or two later they stood...</td>\n",
       "      <td>1069</td>\n",
       "    </tr>\n",
       "    <tr>\n",
       "      <th>2</th>\n",
       "      <td>a0456</td>\n",
       "      <td>But it won't continue, she said with easy conf...</td>\n",
       "      <td>1069</td>\n",
       "    </tr>\n",
       "    <tr>\n",
       "      <th>3</th>\n",
       "      <td>a0457</td>\n",
       "      <td>What I saw I could not at first believe.</td>\n",
       "      <td>1069</td>\n",
       "    </tr>\n",
       "    <tr>\n",
       "      <th>4</th>\n",
       "      <td>a0458</td>\n",
       "      <td>The stout wood was crushed like an eggshell.</td>\n",
       "      <td>1069</td>\n",
       "    </tr>\n",
       "    <tr>\n",
       "      <th>...</th>\n",
       "      <td>...</td>\n",
       "      <td>...</td>\n",
       "      <td>...</td>\n",
       "    </tr>\n",
       "    <tr>\n",
       "      <th>5</th>\n",
       "      <td>a0220</td>\n",
       "      <td>A dead man is of no use on a plantation.</td>\n",
       "      <td>986</td>\n",
       "    </tr>\n",
       "    <tr>\n",
       "      <th>6</th>\n",
       "      <td>a0221</td>\n",
       "      <td>I don't know why you're here at all.</td>\n",
       "      <td>986</td>\n",
       "    </tr>\n",
       "    <tr>\n",
       "      <th>7</th>\n",
       "      <td>a0222</td>\n",
       "      <td>What part of the United States is your home.</td>\n",
       "      <td>986</td>\n",
       "    </tr>\n",
       "    <tr>\n",
       "      <th>8</th>\n",
       "      <td>a0223</td>\n",
       "      <td>My, I'm almost homesick for it already.</td>\n",
       "      <td>986</td>\n",
       "    </tr>\n",
       "    <tr>\n",
       "      <th>9</th>\n",
       "      <td>a0224</td>\n",
       "      <td>She nodded, and her eyes grew soft and moist.</td>\n",
       "      <td>986</td>\n",
       "    </tr>\n",
       "  </tbody>\n",
       "</table>\n",
       "<p>58631 rows × 3 columns</p>\n",
       "</div>"
      ],
      "text/plain": [
       "   wave_id                                         transcript Speaker\n",
       "0    a0454         The sharp voice of Wolf Larsen aroused me.    1069\n",
       "1    a0455  I obeyed, and a minute or two later they stood...    1069\n",
       "2    a0456  But it won't continue, she said with easy conf...    1069\n",
       "3    a0457           What I saw I could not at first believe.    1069\n",
       "4    a0458       The stout wood was crushed like an eggshell.    1069\n",
       "..     ...                                                ...     ...\n",
       "5    a0220           A dead man is of no use on a plantation.     986\n",
       "6    a0221               I don't know why you're here at all.     986\n",
       "7    a0222       What part of the United States is your home.     986\n",
       "8    a0223            My, I'm almost homesick for it already.     986\n",
       "9    a0224      She nodded, and her eyes grew soft and moist.     986\n",
       "\n",
       "[58631 rows x 3 columns]"
      ]
     },
     "execution_count": 6,
     "metadata": {},
     "output_type": "execute_result"
    }
   ],
   "source": [
    "dataframe_1()"
   ]
  },
  {
   "cell_type": "code",
   "execution_count": 7,
   "id": "7000811e",
   "metadata": {},
   "outputs": [],
   "source": [
    "# Store dataframe in excel file\n",
    "dataframe_1 = dataframe_1()\n",
    "dataframe_1.to_excel(r'/Users/prem/Desktop/Speech_Corpus/dataframe_1.xlsx')"
   ]
  },
  {
   "cell_type": "code",
   "execution_count": 8,
   "id": "56c9118b",
   "metadata": {},
   "outputs": [],
   "source": [
    "# return dataframe 2 \n",
    "def dataframe_2():\n",
    "  data_list= [] #list of dictionary\n",
    "  reu = []\n",
    "  info_files = info_file()\n",
    "  for file in info_files :\n",
    "    m = file\n",
    "    temp = re.findall(r'\\d+', m)\n",
    "    res = list(map(int, temp))\n",
    "    speaker_no = str(res[0])\n",
    "    \n",
    "    try:\n",
    "      with open(file) as f:\n",
    "        \n",
    "        content = f.readlines()\n",
    "        content = [x.rstrip() for x in content]\n",
    "        content = content[4:8]\n",
    "        content.pop(2)\n",
    "        content.append('Speaker:'+' '+speaker_no)\n",
    "    \n",
    "        output = []\n",
    "        for key_value in content:\n",
    "          key, value = key_value.split(': ', 1)\n",
    "          if not output or key in output[-1]:\n",
    "            output.append({})\n",
    "          output[-1][key] = value\n",
    "        data_list.extend(output)\n",
    "    except:\n",
    "        source = '/Users/prem/Desktop/Speech_Corpus/'+speaker_no\n",
    "        destination = '/Users/prem/Desktop/11'\n",
    "        dest = shutil.move(source, destination) \n",
    "        continue \n",
    "      \n",
    "  result = pd.DataFrame(data_list)\n",
    "  return result\n",
    "  "
   ]
  },
  {
   "cell_type": "code",
   "execution_count": 9,
   "id": "52da3319",
   "metadata": {
    "scrolled": true
   },
   "outputs": [
    {
     "data": {
      "text/html": [
       "<div>\n",
       "<style scoped>\n",
       "    .dataframe tbody tr th:only-of-type {\n",
       "        vertical-align: middle;\n",
       "    }\n",
       "\n",
       "    .dataframe tbody tr th {\n",
       "        vertical-align: top;\n",
       "    }\n",
       "\n",
       "    .dataframe thead th {\n",
       "        text-align: right;\n",
       "    }\n",
       "</style>\n",
       "<table border=\"1\" class=\"dataframe\">\n",
       "  <thead>\n",
       "    <tr style=\"text-align: right;\">\n",
       "      <th></th>\n",
       "      <th>Gender</th>\n",
       "      <th>Age Range</th>\n",
       "      <th>Pronunciation dialect</th>\n",
       "      <th>Speaker</th>\n",
       "    </tr>\n",
       "  </thead>\n",
       "  <tbody>\n",
       "    <tr>\n",
       "      <th>0</th>\n",
       "      <td>Female</td>\n",
       "      <td>Adult</td>\n",
       "      <td>American English</td>\n",
       "      <td>1069</td>\n",
       "    </tr>\n",
       "    <tr>\n",
       "      <th>1</th>\n",
       "      <td>Male</td>\n",
       "      <td>Adult</td>\n",
       "      <td>British English</td>\n",
       "      <td>797</td>\n",
       "    </tr>\n",
       "    <tr>\n",
       "      <th>2</th>\n",
       "      <td>Male</td>\n",
       "      <td>Adult</td>\n",
       "      <td>American English</td>\n",
       "      <td>4729</td>\n",
       "    </tr>\n",
       "    <tr>\n",
       "      <th>3</th>\n",
       "      <td>Male</td>\n",
       "      <td>Youth</td>\n",
       "      <td>European English</td>\n",
       "      <td>3954</td>\n",
       "    </tr>\n",
       "    <tr>\n",
       "      <th>4</th>\n",
       "      <td>Male</td>\n",
       "      <td>Senior</td>\n",
       "      <td>British English</td>\n",
       "      <td>2886</td>\n",
       "    </tr>\n",
       "    <tr>\n",
       "      <th>...</th>\n",
       "      <td>...</td>\n",
       "      <td>...</td>\n",
       "      <td>...</td>\n",
       "      <td>...</td>\n",
       "    </tr>\n",
       "    <tr>\n",
       "      <th>5892</th>\n",
       "      <td>Female</td>\n",
       "      <td>Youth</td>\n",
       "      <td>American English</td>\n",
       "      <td>1476</td>\n",
       "    </tr>\n",
       "    <tr>\n",
       "      <th>5893</th>\n",
       "      <td>Male</td>\n",
       "      <td>Youth</td>\n",
       "      <td>British English</td>\n",
       "      <td>4336</td>\n",
       "    </tr>\n",
       "    <tr>\n",
       "      <th>5894</th>\n",
       "      <td>Male</td>\n",
       "      <td>Youth</td>\n",
       "      <td>New Zealand English</td>\n",
       "      <td>1644</td>\n",
       "    </tr>\n",
       "    <tr>\n",
       "      <th>5895</th>\n",
       "      <td>Male</td>\n",
       "      <td>Adult</td>\n",
       "      <td>American English</td>\n",
       "      <td>3113</td>\n",
       "    </tr>\n",
       "    <tr>\n",
       "      <th>5896</th>\n",
       "      <td>Male</td>\n",
       "      <td>Adult</td>\n",
       "      <td>American English</td>\n",
       "      <td>986</td>\n",
       "    </tr>\n",
       "  </tbody>\n",
       "</table>\n",
       "<p>5897 rows × 4 columns</p>\n",
       "</div>"
      ],
      "text/plain": [
       "      Gender Age Range Pronunciation dialect Speaker\n",
       "0     Female     Adult      American English    1069\n",
       "1       Male     Adult       British English     797\n",
       "2       Male     Adult      American English    4729\n",
       "3       Male     Youth      European English    3954\n",
       "4       Male    Senior       British English    2886\n",
       "...      ...       ...                   ...     ...\n",
       "5892  Female     Youth      American English    1476\n",
       "5893    Male     Youth       British English    4336\n",
       "5894    Male     Youth   New Zealand English    1644\n",
       "5895    Male     Adult      American English    3113\n",
       "5896    Male     Adult      American English     986\n",
       "\n",
       "[5897 rows x 4 columns]"
      ]
     },
     "execution_count": 9,
     "metadata": {},
     "output_type": "execute_result"
    }
   ],
   "source": [
    "dataframe_2()"
   ]
  },
  {
   "cell_type": "code",
   "execution_count": 10,
   "id": "1957e04e",
   "metadata": {},
   "outputs": [],
   "source": [
    "dataframe_2 = dataframe_2()"
   ]
  },
  {
   "cell_type": "code",
   "execution_count": 11,
   "id": "5f476d50",
   "metadata": {},
   "outputs": [
    {
     "data": {
      "text/plain": [
       "Gender                   0\n",
       "Age Range                0\n",
       "Pronunciation dialect    0\n",
       "Speaker                  0\n",
       "dtype: int64"
      ]
     },
     "execution_count": 11,
     "metadata": {},
     "output_type": "execute_result"
    }
   ],
   "source": [
    "dataframe_2.isnull().sum()"
   ]
  },
  {
   "cell_type": "code",
   "execution_count": 12,
   "id": "d067db98",
   "metadata": {},
   "outputs": [
    {
     "name": "stdout",
     "output_type": "stream",
     "text": [
      "<class 'pandas.core.frame.DataFrame'>\n",
      "RangeIndex: 5897 entries, 0 to 5896\n",
      "Data columns (total 4 columns):\n",
      " #   Column                 Non-Null Count  Dtype \n",
      "---  ------                 --------------  ----- \n",
      " 0   Gender                 5897 non-null   object\n",
      " 1   Age Range              5897 non-null   object\n",
      " 2   Pronunciation dialect  5897 non-null   object\n",
      " 3   Speaker                5897 non-null   object\n",
      "dtypes: object(4)\n",
      "memory usage: 184.4+ KB\n"
     ]
    }
   ],
   "source": [
    "dataframe_2.info()"
   ]
  },
  {
   "cell_type": "code",
   "execution_count": 13,
   "id": "a0d85d86",
   "metadata": {},
   "outputs": [],
   "source": [
    "## Cleaning dataframe_2"
   ]
  },
  {
   "cell_type": "code",
   "execution_count": 14,
   "id": "51301031",
   "metadata": {},
   "outputs": [],
   "source": [
    "dataframe_2.rename(columns = {'Pronunciation dialect':'Pronunciation_dialect','Age Range':'Age_Range'},inplace=True)"
   ]
  },
  {
   "cell_type": "code",
   "execution_count": 15,
   "id": "1b71225b",
   "metadata": {},
   "outputs": [
    {
     "name": "stdout",
     "output_type": "stream",
     "text": [
      "<class 'pandas.core.frame.DataFrame'>\n",
      "RangeIndex: 5897 entries, 0 to 5896\n",
      "Data columns (total 4 columns):\n",
      " #   Column                 Non-Null Count  Dtype \n",
      "---  ------                 --------------  ----- \n",
      " 0   Gender                 5897 non-null   object\n",
      " 1   Age_Range              5897 non-null   object\n",
      " 2   Pronunciation_dialect  5897 non-null   object\n",
      " 3   Speaker                5897 non-null   object\n",
      "dtypes: object(4)\n",
      "memory usage: 184.4+ KB\n"
     ]
    }
   ],
   "source": [
    "dataframe_2.info()"
   ]
  },
  {
   "cell_type": "code",
   "execution_count": 16,
   "id": "5e81ef2d",
   "metadata": {},
   "outputs": [
    {
     "data": {
      "text/plain": [
       "array(['Female', 'Male', 'unknown', 'male', 'Please Select', 'female',\n",
       "       'make', 'adult', 'Masculin', 'Masculino', 'Weiblich', 'Männlich'],\n",
       "      dtype=object)"
      ]
     },
     "execution_count": 16,
     "metadata": {},
     "output_type": "execute_result"
    }
   ],
   "source": [
    "dataframe_2['Gender'].unique()"
   ]
  },
  {
   "cell_type": "code",
   "execution_count": 17,
   "id": "efeb752e",
   "metadata": {},
   "outputs": [
    {
     "data": {
      "text/plain": [
       "(5897, 4)"
      ]
     },
     "execution_count": 17,
     "metadata": {},
     "output_type": "execute_result"
    }
   ],
   "source": [
    "dataframe_2.shape"
   ]
  },
  {
   "cell_type": "code",
   "execution_count": 18,
   "id": "5e2e61c4",
   "metadata": {},
   "outputs": [],
   "source": [
    "lis = ['unknown','Please Select','make','adult','Masculin','Masculino','Weiblich','Männlich']"
   ]
  },
  {
   "cell_type": "code",
   "execution_count": 19,
   "id": "460afadf",
   "metadata": {},
   "outputs": [],
   "source": [
    "dataframe_2 = dataframe_2.loc[dataframe_2.Gender != 'unknown']"
   ]
  },
  {
   "cell_type": "code",
   "execution_count": 20,
   "id": "6e025286",
   "metadata": {},
   "outputs": [],
   "source": [
    "dataframe_2 = dataframe_2.loc[dataframe_2.Gender != 'Please Select']"
   ]
  },
  {
   "cell_type": "code",
   "execution_count": 21,
   "id": "27b31273",
   "metadata": {},
   "outputs": [],
   "source": [
    "dataframe_2 = dataframe_2.loc[dataframe_2.Gender != 'make']"
   ]
  },
  {
   "cell_type": "code",
   "execution_count": 22,
   "id": "0756b159",
   "metadata": {},
   "outputs": [],
   "source": [
    "dataframe_2 = dataframe_2.loc[dataframe_2.Gender != 'adult']"
   ]
  },
  {
   "cell_type": "code",
   "execution_count": 23,
   "id": "79e0cd60",
   "metadata": {},
   "outputs": [],
   "source": [
    "dataframe_2 = dataframe_2.loc[dataframe_2.Gender != 'Masculin']"
   ]
  },
  {
   "cell_type": "code",
   "execution_count": 24,
   "id": "1f86f811",
   "metadata": {},
   "outputs": [],
   "source": [
    "dataframe_2 = dataframe_2.loc[dataframe_2.Gender != 'Masculino']"
   ]
  },
  {
   "cell_type": "code",
   "execution_count": 25,
   "id": "fefd2688",
   "metadata": {},
   "outputs": [],
   "source": [
    "dataframe_2 = dataframe_2.loc[dataframe_2.Gender != 'Weiblich']"
   ]
  },
  {
   "cell_type": "code",
   "execution_count": 26,
   "id": "c52eda77",
   "metadata": {},
   "outputs": [],
   "source": [
    "dataframe_2 = dataframe_2.loc[dataframe_2.Gender != 'Männlich']"
   ]
  },
  {
   "cell_type": "code",
   "execution_count": 27,
   "id": "4d0e4f71",
   "metadata": {},
   "outputs": [
    {
     "data": {
      "text/plain": [
       "(5844, 4)"
      ]
     },
     "execution_count": 27,
     "metadata": {},
     "output_type": "execute_result"
    }
   ],
   "source": [
    "dataframe_2.shape"
   ]
  },
  {
   "cell_type": "code",
   "execution_count": 28,
   "id": "fde647f4",
   "metadata": {},
   "outputs": [
    {
     "data": {
      "text/plain": [
       "array(['Female', 'Male', 'male', 'female'], dtype=object)"
      ]
     },
     "execution_count": 28,
     "metadata": {},
     "output_type": "execute_result"
    }
   ],
   "source": [
    "dataframe_2['Gender'].unique()"
   ]
  },
  {
   "cell_type": "code",
   "execution_count": 29,
   "id": "de251dca",
   "metadata": {},
   "outputs": [],
   "source": [
    "dataframe_2['Gender'] = dataframe_2['Gender'].apply(lambda x:x.replace('male','Male'))"
   ]
  },
  {
   "cell_type": "code",
   "execution_count": 30,
   "id": "f9f1c81b",
   "metadata": {},
   "outputs": [
    {
     "data": {
      "text/plain": [
       "array(['FeMale', 'Male', 'feMale'], dtype=object)"
      ]
     },
     "execution_count": 30,
     "metadata": {},
     "output_type": "execute_result"
    }
   ],
   "source": [
    "dataframe_2['Gender'].unique()"
   ]
  },
  {
   "cell_type": "code",
   "execution_count": 31,
   "id": "589f7e1a",
   "metadata": {},
   "outputs": [],
   "source": [
    "dataframe_2['Gender'] = dataframe_2['Gender'].apply(lambda x:x.replace('FeMale','Female'))"
   ]
  },
  {
   "cell_type": "code",
   "execution_count": 32,
   "id": "423daaa3",
   "metadata": {},
   "outputs": [
    {
     "data": {
      "text/plain": [
       "array(['Female', 'Male', 'feMale'], dtype=object)"
      ]
     },
     "execution_count": 32,
     "metadata": {},
     "output_type": "execute_result"
    }
   ],
   "source": [
    "dataframe_2['Gender'].unique()"
   ]
  },
  {
   "cell_type": "code",
   "execution_count": 33,
   "id": "f5d9de47",
   "metadata": {},
   "outputs": [],
   "source": [
    "dataframe_2['Gender'] = dataframe_2['Gender'].apply(lambda x:x.replace('feMale','Female'))"
   ]
  },
  {
   "cell_type": "code",
   "execution_count": 34,
   "id": "f13b96f5",
   "metadata": {},
   "outputs": [
    {
     "data": {
      "text/plain": [
       "array(['Female', 'Male'], dtype=object)"
      ]
     },
     "execution_count": 34,
     "metadata": {},
     "output_type": "execute_result"
    }
   ],
   "source": [
    "dataframe_2['Gender'].unique()"
   ]
  },
  {
   "cell_type": "code",
   "execution_count": 35,
   "id": "537423bd",
   "metadata": {},
   "outputs": [
    {
     "data": {
      "text/plain": [
       "(5844, 4)"
      ]
     },
     "execution_count": 35,
     "metadata": {},
     "output_type": "execute_result"
    }
   ],
   "source": [
    "dataframe_2.shape"
   ]
  },
  {
   "cell_type": "code",
   "execution_count": 36,
   "id": "da6a7d77",
   "metadata": {},
   "outputs": [
    {
     "data": {
      "text/plain": [
       "array(['American English', 'British English', 'European English', 'Other',\n",
       "       'Canadian English', 'South African English', 'New Zealand English',\n",
       "       'Indian English', 'American English, non-native speaker', 'other',\n",
       "       'Australian English', 'European English, non-native speaker',\n",
       "       'European English - non-ntaive speaker', 'Irish English',\n",
       "       'European English - German Accent', 'unknown', 'Please Select',\n",
       "       'european english, non-native speaker', 'non-native speaker',\n",
       "       'Other - non-native speaker', 'European English, French Accent',\n",
       "       'America English', 'Asian accent', 'other - Asian accent',\n",
       "       'Other; non-native speaker'], dtype=object)"
      ]
     },
     "execution_count": 36,
     "metadata": {},
     "output_type": "execute_result"
    }
   ],
   "source": [
    "dataframe_2['Pronunciation_dialect'].unique()"
   ]
  },
  {
   "cell_type": "code",
   "execution_count": 37,
   "id": "112c143d",
   "metadata": {},
   "outputs": [],
   "source": [
    "dataframe_2 = dataframe_2.loc[dataframe_2.Pronunciation_dialect != 'unknown']"
   ]
  },
  {
   "cell_type": "code",
   "execution_count": 38,
   "id": "2e3005fe",
   "metadata": {},
   "outputs": [],
   "source": [
    "dataframe_2 = dataframe_2.loc[dataframe_2.Pronunciation_dialect != 'Please Select']"
   ]
  },
  {
   "cell_type": "code",
   "execution_count": 39,
   "id": "a74f1ef3",
   "metadata": {},
   "outputs": [
    {
     "data": {
      "text/plain": [
       "(5840, 4)"
      ]
     },
     "execution_count": 39,
     "metadata": {},
     "output_type": "execute_result"
    }
   ],
   "source": [
    "dataframe_2.shape"
   ]
  },
  {
   "cell_type": "code",
   "execution_count": 40,
   "id": "397dbc03",
   "metadata": {},
   "outputs": [
    {
     "data": {
      "text/plain": [
       "array(['American English', 'British English', 'European English', 'Other',\n",
       "       'Canadian English', 'South African English', 'New Zealand English',\n",
       "       'Indian English', 'American English, non-native speaker', 'other',\n",
       "       'Australian English', 'European English, non-native speaker',\n",
       "       'European English - non-ntaive speaker', 'Irish English',\n",
       "       'European English - German Accent',\n",
       "       'european english, non-native speaker', 'non-native speaker',\n",
       "       'Other - non-native speaker', 'European English, French Accent',\n",
       "       'America English', 'Asian accent', 'other - Asian accent',\n",
       "       'Other; non-native speaker'], dtype=object)"
      ]
     },
     "execution_count": 40,
     "metadata": {},
     "output_type": "execute_result"
    }
   ],
   "source": [
    "dataframe_2['Pronunciation_dialect'].unique()"
   ]
  },
  {
   "cell_type": "code",
   "execution_count": 41,
   "id": "7803422d",
   "metadata": {},
   "outputs": [],
   "source": [
    "dataframe_2['Pronunciation_dialect'] = dataframe_2['Pronunciation_dialect'].apply(lambda x:x.replace('American English, non-native speaker','American English'))"
   ]
  },
  {
   "cell_type": "code",
   "execution_count": 42,
   "id": "912bcc42",
   "metadata": {},
   "outputs": [
    {
     "data": {
      "text/plain": [
       "array(['American English', 'British English', 'European English', 'Other',\n",
       "       'Canadian English', 'South African English', 'New Zealand English',\n",
       "       'Indian English', 'other', 'Australian English',\n",
       "       'European English, non-native speaker',\n",
       "       'European English - non-ntaive speaker', 'Irish English',\n",
       "       'European English - German Accent',\n",
       "       'european english, non-native speaker', 'non-native speaker',\n",
       "       'Other - non-native speaker', 'European English, French Accent',\n",
       "       'America English', 'Asian accent', 'other - Asian accent',\n",
       "       'Other; non-native speaker'], dtype=object)"
      ]
     },
     "execution_count": 42,
     "metadata": {},
     "output_type": "execute_result"
    }
   ],
   "source": [
    "dataframe_2['Pronunciation_dialect'].unique()"
   ]
  },
  {
   "cell_type": "code",
   "execution_count": 43,
   "id": "94f905f3",
   "metadata": {},
   "outputs": [],
   "source": [
    "dataframe_2['Pronunciation_dialect'] = dataframe_2['Pronunciation_dialect'].apply(lambda x:x.replace('other','Other'))"
   ]
  },
  {
   "cell_type": "code",
   "execution_count": 44,
   "id": "b3fb8fdb",
   "metadata": {},
   "outputs": [
    {
     "data": {
      "text/plain": [
       "array(['American English', 'British English', 'European English', 'Other',\n",
       "       'Canadian English', 'South African English', 'New Zealand English',\n",
       "       'Indian English', 'Australian English',\n",
       "       'European English, non-native speaker',\n",
       "       'European English - non-ntaive speaker', 'Irish English',\n",
       "       'European English - German Accent',\n",
       "       'european english, non-native speaker', 'non-native speaker',\n",
       "       'Other - non-native speaker', 'European English, French Accent',\n",
       "       'America English', 'Asian accent', 'Other - Asian accent',\n",
       "       'Other; non-native speaker'], dtype=object)"
      ]
     },
     "execution_count": 44,
     "metadata": {},
     "output_type": "execute_result"
    }
   ],
   "source": [
    "dataframe_2['Pronunciation_dialect'].unique()"
   ]
  },
  {
   "cell_type": "code",
   "execution_count": 45,
   "id": "e18d0c4a",
   "metadata": {},
   "outputs": [],
   "source": [
    "dataframe_2['Pronunciation_dialect'] = dataframe_2['Pronunciation_dialect'].apply(lambda x:x.replace('European English, non-native speaker','European English'))"
   ]
  },
  {
   "cell_type": "code",
   "execution_count": 46,
   "id": "046f9cef",
   "metadata": {},
   "outputs": [
    {
     "data": {
      "text/plain": [
       "array(['American English', 'British English', 'European English', 'Other',\n",
       "       'Canadian English', 'South African English', 'New Zealand English',\n",
       "       'Indian English', 'Australian English',\n",
       "       'European English - non-ntaive speaker', 'Irish English',\n",
       "       'European English - German Accent',\n",
       "       'european english, non-native speaker', 'non-native speaker',\n",
       "       'Other - non-native speaker', 'European English, French Accent',\n",
       "       'America English', 'Asian accent', 'Other - Asian accent',\n",
       "       'Other; non-native speaker'], dtype=object)"
      ]
     },
     "execution_count": 46,
     "metadata": {},
     "output_type": "execute_result"
    }
   ],
   "source": [
    "dataframe_2['Pronunciation_dialect'].unique()"
   ]
  },
  {
   "cell_type": "code",
   "execution_count": 47,
   "id": "d23382d4",
   "metadata": {},
   "outputs": [],
   "source": [
    "dataframe_2['Pronunciation_dialect'] = dataframe_2['Pronunciation_dialect'].apply(lambda x:x.replace('European English - non-ntaive speaker','European English'))"
   ]
  },
  {
   "cell_type": "code",
   "execution_count": 48,
   "id": "c4596830",
   "metadata": {},
   "outputs": [
    {
     "data": {
      "text/plain": [
       "array(['American English', 'British English', 'European English', 'Other',\n",
       "       'Canadian English', 'South African English', 'New Zealand English',\n",
       "       'Indian English', 'Australian English', 'Irish English',\n",
       "       'European English - German Accent',\n",
       "       'european english, non-native speaker', 'non-native speaker',\n",
       "       'Other - non-native speaker', 'European English, French Accent',\n",
       "       'America English', 'Asian accent', 'Other - Asian accent',\n",
       "       'Other; non-native speaker'], dtype=object)"
      ]
     },
     "execution_count": 48,
     "metadata": {},
     "output_type": "execute_result"
    }
   ],
   "source": [
    "dataframe_2['Pronunciation_dialect'].unique()"
   ]
  },
  {
   "cell_type": "code",
   "execution_count": 49,
   "id": "34738b7c",
   "metadata": {},
   "outputs": [],
   "source": [
    "dataframe_2['Pronunciation_dialect'] = dataframe_2['Pronunciation_dialect'].apply(lambda x:x.replace('European English - German Accent','German accent'))"
   ]
  },
  {
   "cell_type": "code",
   "execution_count": 50,
   "id": "bb3ed695",
   "metadata": {},
   "outputs": [
    {
     "data": {
      "text/plain": [
       "array(['American English', 'British English', 'European English', 'Other',\n",
       "       'Canadian English', 'South African English', 'New Zealand English',\n",
       "       'Indian English', 'Australian English', 'Irish English',\n",
       "       'German accent', 'european english, non-native speaker',\n",
       "       'non-native speaker', 'Other - non-native speaker',\n",
       "       'European English, French Accent', 'America English',\n",
       "       'Asian accent', 'Other - Asian accent',\n",
       "       'Other; non-native speaker'], dtype=object)"
      ]
     },
     "execution_count": 50,
     "metadata": {},
     "output_type": "execute_result"
    }
   ],
   "source": [
    "dataframe_2['Pronunciation_dialect'].unique()"
   ]
  },
  {
   "cell_type": "code",
   "execution_count": 51,
   "id": "e838ea98",
   "metadata": {},
   "outputs": [],
   "source": [
    "dataframe_2['Pronunciation_dialect'] = dataframe_2['Pronunciation_dialect'].apply(lambda x:x.replace('european english, non-native speaker','European English'))"
   ]
  },
  {
   "cell_type": "code",
   "execution_count": 52,
   "id": "85798bb5",
   "metadata": {},
   "outputs": [
    {
     "data": {
      "text/plain": [
       "array(['American English', 'British English', 'European English', 'Other',\n",
       "       'Canadian English', 'South African English', 'New Zealand English',\n",
       "       'Indian English', 'Australian English', 'Irish English',\n",
       "       'German accent', 'non-native speaker',\n",
       "       'Other - non-native speaker', 'European English, French Accent',\n",
       "       'America English', 'Asian accent', 'Other - Asian accent',\n",
       "       'Other; non-native speaker'], dtype=object)"
      ]
     },
     "execution_count": 52,
     "metadata": {},
     "output_type": "execute_result"
    }
   ],
   "source": [
    "dataframe_2['Pronunciation_dialect'].unique()"
   ]
  },
  {
   "cell_type": "code",
   "execution_count": 53,
   "id": "6bb8f746",
   "metadata": {},
   "outputs": [],
   "source": [
    "dataframe_2['Pronunciation_dialect'] = dataframe_2['Pronunciation_dialect'].apply(lambda x:x.replace('non-native speaker','Other'))"
   ]
  },
  {
   "cell_type": "code",
   "execution_count": 54,
   "id": "ce8f1491",
   "metadata": {},
   "outputs": [
    {
     "data": {
      "text/plain": [
       "array(['American English', 'British English', 'European English', 'Other',\n",
       "       'Canadian English', 'South African English', 'New Zealand English',\n",
       "       'Indian English', 'Australian English', 'Irish English',\n",
       "       'German accent', 'Other - Other',\n",
       "       'European English, French Accent', 'America English',\n",
       "       'Asian accent', 'Other - Asian accent', 'Other; Other'],\n",
       "      dtype=object)"
      ]
     },
     "execution_count": 54,
     "metadata": {},
     "output_type": "execute_result"
    }
   ],
   "source": [
    "dataframe_2['Pronunciation_dialect'].unique()"
   ]
  },
  {
   "cell_type": "code",
   "execution_count": 55,
   "id": "fb97953f",
   "metadata": {},
   "outputs": [],
   "source": [
    "dataframe_2['Pronunciation_dialect'] = dataframe_2['Pronunciation_dialect'].apply(lambda x:x.replace('Other - Other','Other'))"
   ]
  },
  {
   "cell_type": "code",
   "execution_count": 56,
   "id": "9ecdc165",
   "metadata": {},
   "outputs": [
    {
     "data": {
      "text/plain": [
       "array(['American English', 'British English', 'European English', 'Other',\n",
       "       'Canadian English', 'South African English', 'New Zealand English',\n",
       "       'Indian English', 'Australian English', 'Irish English',\n",
       "       'German accent', 'European English, French Accent',\n",
       "       'America English', 'Asian accent', 'Other - Asian accent',\n",
       "       'Other; Other'], dtype=object)"
      ]
     },
     "execution_count": 56,
     "metadata": {},
     "output_type": "execute_result"
    }
   ],
   "source": [
    "dataframe_2['Pronunciation_dialect'].unique()"
   ]
  },
  {
   "cell_type": "code",
   "execution_count": 57,
   "id": "be6a99b4",
   "metadata": {},
   "outputs": [],
   "source": [
    "dataframe_2['Pronunciation_dialect'] = dataframe_2['Pronunciation_dialect'].apply(lambda x:x.replace('European English, French Accent','European English'))"
   ]
  },
  {
   "cell_type": "code",
   "execution_count": 58,
   "id": "4ee863e0",
   "metadata": {},
   "outputs": [
    {
     "data": {
      "text/plain": [
       "array(['American English', 'British English', 'European English', 'Other',\n",
       "       'Canadian English', 'South African English', 'New Zealand English',\n",
       "       'Indian English', 'Australian English', 'Irish English',\n",
       "       'German accent', 'America English', 'Asian accent',\n",
       "       'Other - Asian accent', 'Other; Other'], dtype=object)"
      ]
     },
     "execution_count": 58,
     "metadata": {},
     "output_type": "execute_result"
    }
   ],
   "source": [
    "dataframe_2['Pronunciation_dialect'].unique()"
   ]
  },
  {
   "cell_type": "code",
   "execution_count": 59,
   "id": "8a5505fe",
   "metadata": {},
   "outputs": [],
   "source": [
    "dataframe_2['Pronunciation_dialect'] = dataframe_2['Pronunciation_dialect'].apply(lambda x:x.replace('Other - Asian accent','Asian accent'))"
   ]
  },
  {
   "cell_type": "code",
   "execution_count": 60,
   "id": "4166847b",
   "metadata": {},
   "outputs": [
    {
     "data": {
      "text/plain": [
       "array(['American English', 'British English', 'European English', 'Other',\n",
       "       'Canadian English', 'South African English', 'New Zealand English',\n",
       "       'Indian English', 'Australian English', 'Irish English',\n",
       "       'German accent', 'America English', 'Asian accent', 'Other; Other'],\n",
       "      dtype=object)"
      ]
     },
     "execution_count": 60,
     "metadata": {},
     "output_type": "execute_result"
    }
   ],
   "source": [
    "dataframe_2['Pronunciation_dialect'].unique()"
   ]
  },
  {
   "cell_type": "code",
   "execution_count": 61,
   "id": "03a3e870",
   "metadata": {},
   "outputs": [],
   "source": [
    "dataframe_2['Pronunciation_dialect'] = dataframe_2['Pronunciation_dialect'].apply(lambda x:x.replace('America English','American English'))"
   ]
  },
  {
   "cell_type": "code",
   "execution_count": 62,
   "id": "3602f0f1",
   "metadata": {},
   "outputs": [
    {
     "data": {
      "text/plain": [
       "array(['American English', 'British English', 'European English', 'Other',\n",
       "       'Canadian English', 'South African English', 'New Zealand English',\n",
       "       'Indian English', 'Australian English', 'Irish English',\n",
       "       'German accent', 'Asian accent', 'Other; Other'], dtype=object)"
      ]
     },
     "execution_count": 62,
     "metadata": {},
     "output_type": "execute_result"
    }
   ],
   "source": [
    "dataframe_2['Pronunciation_dialect'].unique()"
   ]
  },
  {
   "cell_type": "code",
   "execution_count": 63,
   "id": "b76c73d1",
   "metadata": {},
   "outputs": [],
   "source": [
    "dataframe_2['Pronunciation_dialect'] = dataframe_2['Pronunciation_dialect'].apply(lambda x:x.replace('Other; Other','Other'))"
   ]
  },
  {
   "cell_type": "code",
   "execution_count": 64,
   "id": "784caa12",
   "metadata": {},
   "outputs": [
    {
     "data": {
      "text/plain": [
       "array(['American English', 'British English', 'European English', 'Other',\n",
       "       'Canadian English', 'South African English', 'New Zealand English',\n",
       "       'Indian English', 'Australian English', 'Irish English',\n",
       "       'German accent', 'Asian accent'], dtype=object)"
      ]
     },
     "execution_count": 64,
     "metadata": {},
     "output_type": "execute_result"
    }
   ],
   "source": [
    "dataframe_2['Pronunciation_dialect'].unique()"
   ]
  },
  {
   "cell_type": "code",
   "execution_count": 65,
   "id": "ff231f2f",
   "metadata": {},
   "outputs": [
    {
     "data": {
      "text/plain": [
       "array(['Adult', 'Youth', 'Senior', 'adult', 'unknown', 'youth',\n",
       "       'Please Select'], dtype=object)"
      ]
     },
     "execution_count": 65,
     "metadata": {},
     "output_type": "execute_result"
    }
   ],
   "source": [
    "dataframe_2['Age_Range'].unique()"
   ]
  },
  {
   "cell_type": "code",
   "execution_count": 66,
   "id": "4fcd6575",
   "metadata": {},
   "outputs": [
    {
     "data": {
      "text/plain": [
       "(5840, 4)"
      ]
     },
     "execution_count": 66,
     "metadata": {},
     "output_type": "execute_result"
    }
   ],
   "source": [
    "dataframe_2.shape"
   ]
  },
  {
   "cell_type": "code",
   "execution_count": 67,
   "id": "1be2bbc1",
   "metadata": {},
   "outputs": [],
   "source": [
    "dataframe_2 = dataframe_2.loc[dataframe_2.Age_Range != 'unknown']"
   ]
  },
  {
   "cell_type": "code",
   "execution_count": 68,
   "id": "89f160b2",
   "metadata": {},
   "outputs": [],
   "source": [
    "dataframe_2 = dataframe_2.loc[dataframe_2.Age_Range != 'Please Select']"
   ]
  },
  {
   "cell_type": "code",
   "execution_count": 69,
   "id": "276e1550",
   "metadata": {},
   "outputs": [
    {
     "data": {
      "text/plain": [
       "(5820, 4)"
      ]
     },
     "execution_count": 69,
     "metadata": {},
     "output_type": "execute_result"
    }
   ],
   "source": [
    "dataframe_2.shape"
   ]
  },
  {
   "cell_type": "code",
   "execution_count": 70,
   "id": "dcdb7345",
   "metadata": {},
   "outputs": [],
   "source": [
    "dataframe_2['Age_Range'] = dataframe_2['Age_Range'].apply(lambda x:x.replace('adult','Adult'))"
   ]
  },
  {
   "cell_type": "code",
   "execution_count": 71,
   "id": "f28dd60b",
   "metadata": {},
   "outputs": [],
   "source": [
    "dataframe_2['Age_Range'] = dataframe_2['Age_Range'].apply(lambda x:x.replace('youth','Youth'))"
   ]
  },
  {
   "cell_type": "code",
   "execution_count": 72,
   "id": "5b342876",
   "metadata": {},
   "outputs": [
    {
     "data": {
      "text/plain": [
       "array(['Adult', 'Youth', 'Senior'], dtype=object)"
      ]
     },
     "execution_count": 72,
     "metadata": {},
     "output_type": "execute_result"
    }
   ],
   "source": [
    "dataframe_2['Age_Range'].unique()"
   ]
  },
  {
   "cell_type": "code",
   "execution_count": 73,
   "id": "96776bbd",
   "metadata": {},
   "outputs": [
    {
     "name": "stdout",
     "output_type": "stream",
     "text": [
      "<class 'pandas.core.frame.DataFrame'>\n",
      "Int64Index: 5820 entries, 0 to 5896\n",
      "Data columns (total 4 columns):\n",
      " #   Column                 Non-Null Count  Dtype \n",
      "---  ------                 --------------  ----- \n",
      " 0   Gender                 5820 non-null   object\n",
      " 1   Age_Range              5820 non-null   object\n",
      " 2   Pronunciation_dialect  5820 non-null   object\n",
      " 3   Speaker                5820 non-null   object\n",
      "dtypes: object(4)\n",
      "memory usage: 227.3+ KB\n"
     ]
    }
   ],
   "source": [
    "dataframe_2.info()"
   ]
  },
  {
   "cell_type": "code",
   "execution_count": 74,
   "id": "27c02064",
   "metadata": {},
   "outputs": [],
   "source": [
    "# Store dataframe in excel file\n",
    "dataframe_2.to_excel(r'/Users/prem/Desktop/Speech_Corpus/dataframe_2.xlsx')"
   ]
  },
  {
   "cell_type": "code",
   "execution_count": 75,
   "id": "386777b0",
   "metadata": {},
   "outputs": [],
   "source": [
    "def final_df():\n",
    "  df_1 = dataframe_1\n",
    "  df_2 = dataframe_2\n",
    "  result = pd.merge(df_1, df_2, how='inner', on = 'Speaker')\n",
    "  \n",
    "  return result"
   ]
  },
  {
   "cell_type": "code",
   "execution_count": 76,
   "id": "2d855c0a",
   "metadata": {},
   "outputs": [
    {
     "data": {
      "text/html": [
       "<div>\n",
       "<style scoped>\n",
       "    .dataframe tbody tr th:only-of-type {\n",
       "        vertical-align: middle;\n",
       "    }\n",
       "\n",
       "    .dataframe tbody tr th {\n",
       "        vertical-align: top;\n",
       "    }\n",
       "\n",
       "    .dataframe thead th {\n",
       "        text-align: right;\n",
       "    }\n",
       "</style>\n",
       "<table border=\"1\" class=\"dataframe\">\n",
       "  <thead>\n",
       "    <tr style=\"text-align: right;\">\n",
       "      <th></th>\n",
       "      <th>wave_id</th>\n",
       "      <th>transcript</th>\n",
       "      <th>Speaker</th>\n",
       "      <th>Gender</th>\n",
       "      <th>Age_Range</th>\n",
       "      <th>Pronunciation_dialect</th>\n",
       "    </tr>\n",
       "  </thead>\n",
       "  <tbody>\n",
       "    <tr>\n",
       "      <th>0</th>\n",
       "      <td>a0454</td>\n",
       "      <td>The sharp voice of Wolf Larsen aroused me.</td>\n",
       "      <td>1069</td>\n",
       "      <td>Female</td>\n",
       "      <td>Adult</td>\n",
       "      <td>American English</td>\n",
       "    </tr>\n",
       "    <tr>\n",
       "      <th>1</th>\n",
       "      <td>a0455</td>\n",
       "      <td>I obeyed, and a minute or two later they stood...</td>\n",
       "      <td>1069</td>\n",
       "      <td>Female</td>\n",
       "      <td>Adult</td>\n",
       "      <td>American English</td>\n",
       "    </tr>\n",
       "    <tr>\n",
       "      <th>2</th>\n",
       "      <td>a0456</td>\n",
       "      <td>But it won't continue, she said with easy conf...</td>\n",
       "      <td>1069</td>\n",
       "      <td>Female</td>\n",
       "      <td>Adult</td>\n",
       "      <td>American English</td>\n",
       "    </tr>\n",
       "    <tr>\n",
       "      <th>3</th>\n",
       "      <td>a0457</td>\n",
       "      <td>What I saw I could not at first believe.</td>\n",
       "      <td>1069</td>\n",
       "      <td>Female</td>\n",
       "      <td>Adult</td>\n",
       "      <td>American English</td>\n",
       "    </tr>\n",
       "    <tr>\n",
       "      <th>4</th>\n",
       "      <td>a0458</td>\n",
       "      <td>The stout wood was crushed like an eggshell.</td>\n",
       "      <td>1069</td>\n",
       "      <td>Female</td>\n",
       "      <td>Adult</td>\n",
       "      <td>American English</td>\n",
       "    </tr>\n",
       "    <tr>\n",
       "      <th>...</th>\n",
       "      <td>...</td>\n",
       "      <td>...</td>\n",
       "      <td>...</td>\n",
       "      <td>...</td>\n",
       "      <td>...</td>\n",
       "      <td>...</td>\n",
       "    </tr>\n",
       "    <tr>\n",
       "      <th>57867</th>\n",
       "      <td>a0220</td>\n",
       "      <td>A dead man is of no use on a plantation.</td>\n",
       "      <td>986</td>\n",
       "      <td>Male</td>\n",
       "      <td>Adult</td>\n",
       "      <td>American English</td>\n",
       "    </tr>\n",
       "    <tr>\n",
       "      <th>57868</th>\n",
       "      <td>a0221</td>\n",
       "      <td>I don't know why you're here at all.</td>\n",
       "      <td>986</td>\n",
       "      <td>Male</td>\n",
       "      <td>Adult</td>\n",
       "      <td>American English</td>\n",
       "    </tr>\n",
       "    <tr>\n",
       "      <th>57869</th>\n",
       "      <td>a0222</td>\n",
       "      <td>What part of the United States is your home.</td>\n",
       "      <td>986</td>\n",
       "      <td>Male</td>\n",
       "      <td>Adult</td>\n",
       "      <td>American English</td>\n",
       "    </tr>\n",
       "    <tr>\n",
       "      <th>57870</th>\n",
       "      <td>a0223</td>\n",
       "      <td>My, I'm almost homesick for it already.</td>\n",
       "      <td>986</td>\n",
       "      <td>Male</td>\n",
       "      <td>Adult</td>\n",
       "      <td>American English</td>\n",
       "    </tr>\n",
       "    <tr>\n",
       "      <th>57871</th>\n",
       "      <td>a0224</td>\n",
       "      <td>She nodded, and her eyes grew soft and moist.</td>\n",
       "      <td>986</td>\n",
       "      <td>Male</td>\n",
       "      <td>Adult</td>\n",
       "      <td>American English</td>\n",
       "    </tr>\n",
       "  </tbody>\n",
       "</table>\n",
       "<p>57872 rows × 6 columns</p>\n",
       "</div>"
      ],
      "text/plain": [
       "      wave_id                                         transcript Speaker  \\\n",
       "0       a0454         The sharp voice of Wolf Larsen aroused me.    1069   \n",
       "1       a0455  I obeyed, and a minute or two later they stood...    1069   \n",
       "2       a0456  But it won't continue, she said with easy conf...    1069   \n",
       "3       a0457           What I saw I could not at first believe.    1069   \n",
       "4       a0458       The stout wood was crushed like an eggshell.    1069   \n",
       "...       ...                                                ...     ...   \n",
       "57867   a0220           A dead man is of no use on a plantation.     986   \n",
       "57868   a0221               I don't know why you're here at all.     986   \n",
       "57869   a0222       What part of the United States is your home.     986   \n",
       "57870   a0223            My, I'm almost homesick for it already.     986   \n",
       "57871   a0224      She nodded, and her eyes grew soft and moist.     986   \n",
       "\n",
       "       Gender Age_Range Pronunciation_dialect  \n",
       "0      Female     Adult      American English  \n",
       "1      Female     Adult      American English  \n",
       "2      Female     Adult      American English  \n",
       "3      Female     Adult      American English  \n",
       "4      Female     Adult      American English  \n",
       "...       ...       ...                   ...  \n",
       "57867    Male     Adult      American English  \n",
       "57868    Male     Adult      American English  \n",
       "57869    Male     Adult      American English  \n",
       "57870    Male     Adult      American English  \n",
       "57871    Male     Adult      American English  \n",
       "\n",
       "[57872 rows x 6 columns]"
      ]
     },
     "execution_count": 76,
     "metadata": {},
     "output_type": "execute_result"
    }
   ],
   "source": [
    "final_df()"
   ]
  },
  {
   "cell_type": "code",
   "execution_count": 77,
   "id": "33dcc944",
   "metadata": {},
   "outputs": [],
   "source": [
    "df = final_df()\n",
    "df.index = np.arange(1, len(df) + 1)"
   ]
  },
  {
   "cell_type": "code",
   "execution_count": 78,
   "id": "2df883ca",
   "metadata": {},
   "outputs": [],
   "source": [
    "df['Speaker'] = df['Speaker'].astype(int)"
   ]
  },
  {
   "cell_type": "code",
   "execution_count": 79,
   "id": "da975cf3",
   "metadata": {},
   "outputs": [
    {
     "name": "stdout",
     "output_type": "stream",
     "text": [
      "<class 'pandas.core.frame.DataFrame'>\n",
      "Int64Index: 57872 entries, 1 to 57872\n",
      "Data columns (total 6 columns):\n",
      " #   Column                 Non-Null Count  Dtype \n",
      "---  ------                 --------------  ----- \n",
      " 0   wave_id                57872 non-null  object\n",
      " 1   transcript             57872 non-null  object\n",
      " 2   Speaker                57872 non-null  int64 \n",
      " 3   Gender                 57872 non-null  object\n",
      " 4   Age_Range              57872 non-null  object\n",
      " 5   Pronunciation_dialect  57872 non-null  object\n",
      "dtypes: int64(1), object(5)\n",
      "memory usage: 3.1+ MB\n"
     ]
    }
   ],
   "source": [
    "df.info()"
   ]
  },
  {
   "cell_type": "code",
   "execution_count": 80,
   "id": "0d76c71c",
   "metadata": {},
   "outputs": [],
   "source": [
    "df = df.sort_values(by=['Speaker'])"
   ]
  },
  {
   "cell_type": "code",
   "execution_count": 81,
   "id": "334a43f7",
   "metadata": {},
   "outputs": [],
   "source": [
    "# Store dataframe in file\n",
    "df.to_excel(r'/Users/prem/Desktop/Speech_Corpus/final_dataframe.xlsx',index=False)"
   ]
  },
  {
   "cell_type": "code",
   "execution_count": 82,
   "id": "bad0a506",
   "metadata": {},
   "outputs": [
    {
     "data": {
      "text/plain": [
       "array(['Adult', 'Youth', 'Senior'], dtype=object)"
      ]
     },
     "execution_count": 82,
     "metadata": {},
     "output_type": "execute_result"
    }
   ],
   "source": [
    "df['Age_Range'].unique()"
   ]
  },
  {
   "cell_type": "code",
   "execution_count": 83,
   "id": "d666fd9d",
   "metadata": {},
   "outputs": [
    {
     "data": {
      "text/plain": [
       "array(['Male', 'Female'], dtype=object)"
      ]
     },
     "execution_count": 83,
     "metadata": {},
     "output_type": "execute_result"
    }
   ],
   "source": [
    "df['Gender'].unique()"
   ]
  },
  {
   "cell_type": "code",
   "execution_count": 84,
   "id": "fc451352",
   "metadata": {},
   "outputs": [
    {
     "data": {
      "text/plain": [
       "array(['American English', 'Other', 'New Zealand English',\n",
       "       'Indian English', 'British English', 'Canadian English',\n",
       "       'European English', 'Australian English', 'Asian accent',\n",
       "       'Irish English', 'South African English', 'German accent'],\n",
       "      dtype=object)"
      ]
     },
     "execution_count": 84,
     "metadata": {},
     "output_type": "execute_result"
    }
   ],
   "source": [
    "df['Pronunciation_dialect'].unique()"
   ]
  }
 ],
 "metadata": {
  "kernelspec": {
   "display_name": "Python 3",
   "language": "python",
   "name": "python3"
  },
  "language_info": {
   "codemirror_mode": {
    "name": "ipython",
    "version": 3
   },
   "file_extension": ".py",
   "mimetype": "text/x-python",
   "name": "python",
   "nbconvert_exporter": "python",
   "pygments_lexer": "ipython3",
   "version": "3.8.8"
  }
 },
 "nbformat": 4,
 "nbformat_minor": 5
}
