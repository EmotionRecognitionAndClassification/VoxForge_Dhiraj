{
 "cells": [
  {
   "cell_type": "code",
   "execution_count": 1,
   "id": "be5b1799",
   "metadata": {},
   "outputs": [],
   "source": [
    "#loading all the required python libraries\n",
    "import librosa \n",
    "import librosa.display\n",
    "import os\n",
    "import soundfile \n",
    "import numpy as np\n",
    "from tqdm import tqdm\n",
    "import matplotlib.pyplot as plt\n",
    "import pandas as pd\n",
    "import sklearn\n",
    "import nlpaug\n",
    "import nlpaug.augmenter.audio as naa\n",
    "import seaborn as sns\n",
    "plt.style.use('ggplot')"
   ]
  },
  {
   "cell_type": "code",
   "execution_count": 2,
   "id": "0aceba90",
   "metadata": {},
   "outputs": [],
   "source": [
    "file = '/Users/prem/Desktop/Speech_Corpus/final_dataframe.xlsx'"
   ]
  },
  {
   "cell_type": "code",
   "execution_count": 3,
   "id": "4c109621",
   "metadata": {},
   "outputs": [],
   "source": [
    "df = pd.read_excel(file)"
   ]
  },
  {
   "cell_type": "code",
   "execution_count": 4,
   "id": "733e9d27",
   "metadata": {},
   "outputs": [
    {
     "data": {
      "text/html": [
       "<div>\n",
       "<style scoped>\n",
       "    .dataframe tbody tr th:only-of-type {\n",
       "        vertical-align: middle;\n",
       "    }\n",
       "\n",
       "    .dataframe tbody tr th {\n",
       "        vertical-align: top;\n",
       "    }\n",
       "\n",
       "    .dataframe thead th {\n",
       "        text-align: right;\n",
       "    }\n",
       "</style>\n",
       "<table border=\"1\" class=\"dataframe\">\n",
       "  <thead>\n",
       "    <tr style=\"text-align: right;\">\n",
       "      <th></th>\n",
       "      <th>wave_id</th>\n",
       "      <th>transcript</th>\n",
       "      <th>Speaker</th>\n",
       "      <th>Gender</th>\n",
       "      <th>Age_Range</th>\n",
       "      <th>Pronunciation_dialect</th>\n",
       "    </tr>\n",
       "  </thead>\n",
       "  <tbody>\n",
       "    <tr>\n",
       "      <th>0</th>\n",
       "      <td>en-0190</td>\n",
       "      <td>may be present this evening and early tomorrow...</td>\n",
       "      <td>1</td>\n",
       "      <td>Male</td>\n",
       "      <td>Adult</td>\n",
       "      <td>American English</td>\n",
       "    </tr>\n",
       "    <tr>\n",
       "      <th>1</th>\n",
       "      <td>en-0189</td>\n",
       "      <td>The potential for freezing rain and hazardous ...</td>\n",
       "      <td>1</td>\n",
       "      <td>Male</td>\n",
       "      <td>Adult</td>\n",
       "      <td>American English</td>\n",
       "    </tr>\n",
       "    <tr>\n",
       "      <th>2</th>\n",
       "      <td>en-0185</td>\n",
       "      <td>There is, for example, no assurance that</td>\n",
       "      <td>1</td>\n",
       "      <td>Male</td>\n",
       "      <td>Adult</td>\n",
       "      <td>American English</td>\n",
       "    </tr>\n",
       "    <tr>\n",
       "      <th>3</th>\n",
       "      <td>en-0186</td>\n",
       "      <td>the posted prices represent prevailing market ...</td>\n",
       "      <td>1</td>\n",
       "      <td>Male</td>\n",
       "      <td>Adult</td>\n",
       "      <td>American English</td>\n",
       "    </tr>\n",
       "    <tr>\n",
       "      <th>4</th>\n",
       "      <td>en-0187</td>\n",
       "      <td>Very belated reply. I am cleaning up old e-mai...</td>\n",
       "      <td>1</td>\n",
       "      <td>Male</td>\n",
       "      <td>Adult</td>\n",
       "      <td>American English</td>\n",
       "    </tr>\n",
       "    <tr>\n",
       "      <th>...</th>\n",
       "      <td>...</td>\n",
       "      <td>...</td>\n",
       "      <td>...</td>\n",
       "      <td>...</td>\n",
       "      <td>...</td>\n",
       "      <td>...</td>\n",
       "    </tr>\n",
       "    <tr>\n",
       "      <th>57867</th>\n",
       "      <td>a0161</td>\n",
       "      <td>Take away their foreman and they wouldn't be w...</td>\n",
       "      <td>5906</td>\n",
       "      <td>Male</td>\n",
       "      <td>Youth</td>\n",
       "      <td>American English</td>\n",
       "    </tr>\n",
       "    <tr>\n",
       "      <th>57868</th>\n",
       "      <td>a0162</td>\n",
       "      <td>That's the sub-foreman, explained Thorpe.</td>\n",
       "      <td>5906</td>\n",
       "      <td>Male</td>\n",
       "      <td>Youth</td>\n",
       "      <td>American English</td>\n",
       "    </tr>\n",
       "    <tr>\n",
       "      <th>57869</th>\n",
       "      <td>a0163</td>\n",
       "      <td>Philip made no effort to follow.</td>\n",
       "      <td>5906</td>\n",
       "      <td>Male</td>\n",
       "      <td>Youth</td>\n",
       "      <td>American English</td>\n",
       "    </tr>\n",
       "    <tr>\n",
       "      <th>57870</th>\n",
       "      <td>a0164</td>\n",
       "      <td>He came first a year ago, and revealed himself...</td>\n",
       "      <td>5906</td>\n",
       "      <td>Male</td>\n",
       "      <td>Youth</td>\n",
       "      <td>American English</td>\n",
       "    </tr>\n",
       "    <tr>\n",
       "      <th>57871</th>\n",
       "      <td>a0156</td>\n",
       "      <td>A strange fire burned in his eyes when Thorpe ...</td>\n",
       "      <td>5906</td>\n",
       "      <td>Male</td>\n",
       "      <td>Youth</td>\n",
       "      <td>American English</td>\n",
       "    </tr>\n",
       "  </tbody>\n",
       "</table>\n",
       "<p>57872 rows × 6 columns</p>\n",
       "</div>"
      ],
      "text/plain": [
       "       wave_id                                         transcript  Speaker  \\\n",
       "0      en-0190  may be present this evening and early tomorrow...        1   \n",
       "1      en-0189  The potential for freezing rain and hazardous ...        1   \n",
       "2      en-0185           There is, for example, no assurance that        1   \n",
       "3      en-0186  the posted prices represent prevailing market ...        1   \n",
       "4      en-0187  Very belated reply. I am cleaning up old e-mai...        1   \n",
       "...        ...                                                ...      ...   \n",
       "57867    a0161  Take away their foreman and they wouldn't be w...     5906   \n",
       "57868    a0162          That's the sub-foreman, explained Thorpe.     5906   \n",
       "57869    a0163                   Philip made no effort to follow.     5906   \n",
       "57870    a0164  He came first a year ago, and revealed himself...     5906   \n",
       "57871    a0156  A strange fire burned in his eyes when Thorpe ...     5906   \n",
       "\n",
       "      Gender Age_Range Pronunciation_dialect  \n",
       "0       Male     Adult      American English  \n",
       "1       Male     Adult      American English  \n",
       "2       Male     Adult      American English  \n",
       "3       Male     Adult      American English  \n",
       "4       Male     Adult      American English  \n",
       "...      ...       ...                   ...  \n",
       "57867   Male     Youth      American English  \n",
       "57868   Male     Youth      American English  \n",
       "57869   Male     Youth      American English  \n",
       "57870   Male     Youth      American English  \n",
       "57871   Male     Youth      American English  \n",
       "\n",
       "[57872 rows x 6 columns]"
      ]
     },
     "execution_count": 4,
     "metadata": {},
     "output_type": "execute_result"
    }
   ],
   "source": [
    "df"
   ]
  },
  {
   "cell_type": "code",
   "execution_count": 5,
   "id": "ce89244c",
   "metadata": {},
   "outputs": [
    {
     "name": "stderr",
     "output_type": "stream",
     "text": [
      "57872it [00:06, 8436.86it/s] \n"
     ]
    },
    {
     "name": "stdout",
     "output_type": "stream",
     "text": [
      "Male audio files :  53695\n",
      "Female audio files :  4177\n"
     ]
    },
    {
     "data": {
      "text/plain": [
       "<BarContainer object of 2 artists>"
      ]
     },
     "execution_count": 5,
     "metadata": {},
     "output_type": "execute_result"
    },
    {
     "data": {
      "image/png": "[encoded data removed]",
      "text/plain": [
       "<Figure size 432x288 with 1 Axes>"
      ]
     },
     "metadata": {},
     "output_type": "display_data"
    }
   ],
   "source": [
    "# count male & female audio files\n",
    "gender = {'01':'Male','02':'Female'}\n",
    "count={'01':0,'02':0}\n",
    "\n",
    "for index_num,row in tqdm(df.iterrows()):\n",
    "    if str(row[\"Gender\"]) == str('Male'):\n",
    "        gen_no='01'\n",
    "    else:\n",
    "        gen_no='02'\n",
    "    \n",
    "    count[gen_no]=count[gen_no]+1\n",
    "\n",
    "print('Male audio files : ',count['01'])\n",
    "print('Female audio files : ',count['02'])\n",
    "fig=plt.figure()\n",
    "ax=fig.add_axes([0,0,1,1])\n",
    "ax.bar(gender.values(),count.values())"
   ]
  },
  {
   "cell_type": "code",
   "execution_count": 6,
   "id": "77dfd764",
   "metadata": {},
   "outputs": [
    {
     "data": {
      "text/plain": [
       "Text(0.5, 0, 'count')"
      ]
     },
     "execution_count": 6,
     "metadata": {},
     "output_type": "execute_result"
    },
    {
     "data": {
      "image/png": "[encoded data removed]",
      "text/plain": [
       "<Figure size 504x504 with 1 Axes>"
      ]
     },
     "metadata": {},
     "output_type": "display_data"
    }
   ],
   "source": [
    "plt.figure(figsize=(7,7))\n",
    "rest = df['Pronunciation_dialect'].value_counts()\n",
    "\n",
    "sns.barplot(x = rest,y=rest.index,palette=\"rocket\")\n",
    "plt.title(\"Pronunciation_dialect\")\n",
    "plt.xlabel(\"count\")"
   ]
  },
  {
   "cell_type": "code",
   "execution_count": 7,
   "id": "0b753e1b",
   "metadata": {},
   "outputs": [
    {
     "data": {
      "text/plain": [
       "array(['Adult', 'Youth', 'Senior'], dtype=object)"
      ]
     },
     "execution_count": 7,
     "metadata": {},
     "output_type": "execute_result"
    }
   ],
   "source": [
    "df.Age_Range.unique()"
   ]
  },
  {
   "cell_type": "code",
   "execution_count": 8,
   "id": "94acf275",
   "metadata": {},
   "outputs": [
    {
     "name": "stderr",
     "output_type": "stream",
     "text": [
      "57872it [00:05, 10582.24it/s]\n"
     ]
    },
    {
     "data": {
      "image/png": "[encoded data removed]",
      "text/plain": [
       "<Figure size 432x288 with 1 Axes>"
      ]
     },
     "metadata": {},
     "output_type": "display_data"
    }
   ],
   "source": [
    "# age_range of audio files\n",
    "age = {'01':'Adult','02':'Youth','03':'Senior'}\n",
    "total = {'01':0,'02':0,'03':0}\n",
    "\n",
    "for index_num,row in tqdm(df.iterrows()):\n",
    "    if str(row[\"Age_Range\"]) == str('Adult'):\n",
    "        num = '01'\n",
    "    elif str(row[\"Age_Range\"]) == str('Youth'):\n",
    "        num = '02'\n",
    "    else:\n",
    "        num = '03'\n",
    "    \n",
    "    total[num] = total[num]+1\n",
    "\n",
    "fig = plt.figure()\n",
    "ax = fig.add_axes([0,0,1,1])\n",
    "ax.axis('equal')\n",
    "field = age.values()\n",
    "value = total.values()\n",
    "ax.pie(value, labels = field,autopct='%1.2f%%')\n",
    "plt.show()\n"
   ]
  },
  {
   "cell_type": "code",
   "execution_count": 9,
   "id": "7ce654d4",
   "metadata": {},
   "outputs": [],
   "source": [
    "#function to extract features from an audio file\n",
    "def extract_feature(file_name):\n",
    "    result = np.array([])\n",
    "    n0 = 9000\n",
    "    n1 = 9100\n",
    "\n",
    "    sound_file = soundfile.SoundFile(file_name)  \n",
    "    data = sound_file.read()\n",
    "    sample_rate = sound_file.samplerate\n",
    "    # adding loudness to audio files\n",
    "    aug = naa.LoudnessAug(factor=(2, 5))\n",
    "    X = aug.augment(data)\n",
    "    stft = np.abs(librosa.stft(X))\n",
    "    \n",
    "    spectral_bw = np.mean(librosa.feature.spectral_bandwidth(y=X, sr=sample_rate)[0])\n",
    "    result = np.append(result,spectral_bw)\n",
    "    \n",
    "    spectral_rolloff = np.mean(librosa.feature.spectral_rolloff(X, sr=sample_rate)[0])\n",
    "    result = np.append(result,spectral_rolloff)\n",
    "\n",
    "    spectral_flatness = np.mean(librosa.feature.spectral_flatness(y=X))\n",
    "    result = np.append(result,spectral_flatness)\n",
    "\n",
    "    rms = np.mean(librosa.feature.rms(y=X)[0])\n",
    "    result = np.append(result,rms)\n",
    "\n",
    "    zero_crossings_rate = sum(librosa.zero_crossings(X[n0:n1], pad=False))\n",
    "    result = np.append(result,zero_crossings_rate)\n",
    "    \n",
    "    spectral_centroids = np.mean(librosa.feature.spectral_centroid(X, sr=sample_rate)[0])\n",
    "    result = np.append(result,spectral_centroids)\n",
    "\n",
    "    mfccs = np.mean(librosa.feature.mfcc(X, sr=sample_rate,n_mfcc=13).T, axis=0)\n",
    "    result = np.append(result,mfccs)\n",
    "   \n",
    "    mel = np.mean(librosa.feature.melspectrogram(X, sr=sample_rate).T,axis=0)\n",
    "    result = np.append(result,mel)\n",
    "    \n",
    "    chroma = np.mean(librosa.feature.chroma_stft(S=stft, sr=sample_rate).T,axis=0)\n",
    "    result = np.append(result,chroma)\n",
    "\n",
    "    spectral_contrast = np.mean(librosa.feature.spectral_contrast(S=stft, sr=sample_rate).T,axis=0)  \n",
    "    result = np.append(result,spectral_contrast)\n",
    "\n",
    "    # Computes the tonal centroid features (tonnetz)\n",
    "    H = librosa.effects.harmonic(X)\n",
    "    tonnetz = np.mean(librosa.feature.tonnetz(y=H, sr=sample_rate).T,axis=0)\n",
    "    result = np.append(result,tonnetz)\n",
    "        \n",
    "    \n",
    "    return result\n",
    "    \n",
    "    "
   ]
  },
  {
   "cell_type": "code",
   "execution_count": 10,
   "id": "b6952351",
   "metadata": {},
   "outputs": [],
   "source": [
    "rootdir ='/Users/prem/Desktop/Speech_Corpus'"
   ]
  },
  {
   "cell_type": "code",
   "execution_count": 11,
   "id": "79c0fcd0",
   "metadata": {},
   "outputs": [
    {
     "name": "stderr",
     "output_type": "stream",
     "text": [
      "185it [01:36,  2.05it/s]/opt/anaconda3/lib/python3.8/site-packages/librosa/core/pitch.py:153: UserWarning: Trying to estimate tuning from empty frequency set.\n",
      "  warnings.warn(\"Trying to estimate tuning from empty frequency set.\")\n",
      "390it [03:24,  2.39it/s]/opt/anaconda3/lib/python3.8/site-packages/librosa/core/spectrum.py:222: UserWarning: n_fft=512 is too small for input signal of length=470\n",
      "  warnings.warn(\n",
      "395it [03:25,  2.77it/s]/opt/anaconda3/lib/python3.8/site-packages/librosa/core/spectrum.py:222: UserWarning: n_fft=512 is too small for input signal of length=491\n",
      "  warnings.warn(\n",
      "1197it [21:37,  2.32it/s]/opt/anaconda3/lib/python3.8/site-packages/librosa/core/spectrum.py:222: UserWarning: n_fft=512 is too small for input signal of length=407\n",
      "  warnings.warn(\n",
      "1304it [22:35,  2.27it/s]/opt/anaconda3/lib/python3.8/site-packages/librosa/core/spectrum.py:222: UserWarning: n_fft=512 is too small for input signal of length=313\n",
      "  warnings.warn(\n",
      "2084it [30:44,  1.26it/s]/opt/anaconda3/lib/python3.8/site-packages/librosa/core/spectrum.py:222: UserWarning: n_fft=512 is too small for input signal of length=469\n",
      "  warnings.warn(\n",
      "2089it [30:49,  1.08s/it]/opt/anaconda3/lib/python3.8/site-packages/librosa/core/spectrum.py:222: UserWarning: n_fft=512 is too small for input signal of length=438\n",
      "  warnings.warn(\n",
      "2672it [35:50,  2.51it/s]/opt/anaconda3/lib/python3.8/site-packages/librosa/core/spectrum.py:222: UserWarning: n_fft=512 is too small for input signal of length=403\n",
      "  warnings.warn(\n",
      "2822it [37:10,  1.94it/s]/opt/anaconda3/lib/python3.8/site-packages/librosa/core/spectrum.py:222: UserWarning: n_fft=512 is too small for input signal of length=364\n",
      "  warnings.warn(\n",
      "2871it [37:33,  2.53it/s]/opt/anaconda3/lib/python3.8/site-packages/librosa/core/spectrum.py:222: UserWarning: n_fft=512 is too small for input signal of length=487\n",
      "  warnings.warn(\n",
      "2948it [38:07,  2.83it/s]/opt/anaconda3/lib/python3.8/site-packages/librosa/core/spectrum.py:222: UserWarning: n_fft=512 is too small for input signal of length=282\n",
      "  warnings.warn(\n",
      "3021it [38:40,  2.11it/s]/opt/anaconda3/lib/python3.8/site-packages/librosa/core/spectrum.py:222: UserWarning: n_fft=512 is too small for input signal of length=329\n",
      "  warnings.warn(\n",
      "3026it [38:42,  2.38it/s]/opt/anaconda3/lib/python3.8/site-packages/librosa/core/spectrum.py:222: UserWarning: n_fft=512 is too small for input signal of length=435\n",
      "  warnings.warn(\n",
      "3099it [39:19,  2.58it/s]/opt/anaconda3/lib/python3.8/site-packages/librosa/core/spectrum.py:222: UserWarning: n_fft=512 is too small for input signal of length=427\n",
      "  warnings.warn(\n",
      "3101it [39:20,  2.64it/s]/opt/anaconda3/lib/python3.8/site-packages/librosa/core/spectrum.py:222: UserWarning: n_fft=512 is too small for input signal of length=406\n",
      "  warnings.warn(\n",
      "3104it [39:21,  2.97it/s]/opt/anaconda3/lib/python3.8/site-packages/librosa/core/spectrum.py:222: UserWarning: n_fft=512 is too small for input signal of length=362\n",
      "  warnings.warn(\n",
      "3110it [39:23,  3.22it/s]/opt/anaconda3/lib/python3.8/site-packages/librosa/core/spectrum.py:222: UserWarning: n_fft=512 is too small for input signal of length=451\n",
      "  warnings.warn(\n",
      "3477it [42:06,  2.54it/s]/opt/anaconda3/lib/python3.8/site-packages/librosa/core/spectrum.py:222: UserWarning: n_fft=512 is too small for input signal of length=500\n",
      "  warnings.warn(\n",
      "3512it [42:22,  2.46it/s]/opt/anaconda3/lib/python3.8/site-packages/librosa/core/spectrum.py:222: UserWarning: n_fft=512 is too small for input signal of length=497\n",
      "  warnings.warn(\n",
      "3767it [44:36,  1.76it/s]/opt/anaconda3/lib/python3.8/site-packages/librosa/core/spectrum.py:222: UserWarning: n_fft=512 is too small for input signal of length=375\n",
      "  warnings.warn(\n",
      "3954it [46:19,  1.29it/s]/opt/anaconda3/lib/python3.8/site-packages/librosa/core/spectrum.py:222: UserWarning: n_fft=512 is too small for input signal of length=447\n",
      "  warnings.warn(\n",
      "4015it [46:55,  2.15it/s]/opt/anaconda3/lib/python3.8/site-packages/librosa/core/spectrum.py:222: UserWarning: n_fft=512 is too small for input signal of length=411\n",
      "  warnings.warn(\n",
      "4307it [49:16,  1.99it/s]/opt/anaconda3/lib/python3.8/site-packages/librosa/core/spectrum.py:222: UserWarning: n_fft=512 is too small for input signal of length=410\n",
      "  warnings.warn(\n",
      "4355it [49:37,  2.23it/s]/opt/anaconda3/lib/python3.8/site-packages/librosa/core/spectrum.py:222: UserWarning: n_fft=512 is too small for input signal of length=417\n",
      "  warnings.warn(\n",
      "4422it [50:03,  2.67it/s]/opt/anaconda3/lib/python3.8/site-packages/librosa/core/spectrum.py:222: UserWarning: n_fft=512 is too small for input signal of length=503\n",
      "  warnings.warn(\n",
      "5023it [1:07:29,  2.97it/s] /opt/anaconda3/lib/python3.8/site-packages/librosa/core/spectrum.py:222: UserWarning: n_fft=512 is too small for input signal of length=344\n",
      "  warnings.warn(\n",
      "5491it [1:10:57,  1.29it/s]\n"
     ]
    },
    {
     "ename": "RuntimeError",
     "evalue": "Error opening '/Users/prem/Desktop/Speech_Corpus/565/wav/b0415.wav': System error.",
     "output_type": "error",
     "traceback": [
      "\u001b[0;31m---------------------------------------------------------------------------\u001b[0m",
      "\u001b[0;31mRuntimeError\u001b[0m                              Traceback (most recent call last)",
      "\u001b[0;32m<ipython-input-11-f0d8ee072973>\u001b[0m in \u001b[0;36m<module>\u001b[0;34m\u001b[0m\n\u001b[1;32m      3\u001b[0m     \u001b[0mfile_name\u001b[0m \u001b[0;34m=\u001b[0m \u001b[0mos\u001b[0m\u001b[0;34m.\u001b[0m\u001b[0mpath\u001b[0m\u001b[0;34m.\u001b[0m\u001b[0mjoin\u001b[0m\u001b[0;34m(\u001b[0m\u001b[0mos\u001b[0m\u001b[0;34m.\u001b[0m\u001b[0mpath\u001b[0m\u001b[0;34m.\u001b[0m\u001b[0mabspath\u001b[0m\u001b[0;34m(\u001b[0m\u001b[0mrootdir\u001b[0m\u001b[0;34m)\u001b[0m\u001b[0;34m,\u001b[0m\u001b[0mstr\u001b[0m\u001b[0;34m(\u001b[0m\u001b[0mrow\u001b[0m\u001b[0;34m[\u001b[0m\u001b[0;34m\"Speaker\"\u001b[0m\u001b[0;34m]\u001b[0m\u001b[0;34m)\u001b[0m\u001b[0;34m+\u001b[0m\u001b[0;34m'/'\u001b[0m\u001b[0;34m,\u001b[0m\u001b[0;34m'wav/'\u001b[0m\u001b[0;34m,\u001b[0m\u001b[0mstr\u001b[0m\u001b[0;34m(\u001b[0m\u001b[0mrow\u001b[0m\u001b[0;34m[\u001b[0m\u001b[0;34m\"wave_id\"\u001b[0m\u001b[0;34m]\u001b[0m\u001b[0;34m)\u001b[0m\u001b[0;34m+\u001b[0m\u001b[0;34m'.wav'\u001b[0m\u001b[0;34m)\u001b[0m\u001b[0;34m\u001b[0m\u001b[0;34m\u001b[0m\u001b[0m\n\u001b[1;32m      4\u001b[0m     \u001b[0mfinal_class_labels\u001b[0m \u001b[0;34m=\u001b[0m \u001b[0mrow\u001b[0m\u001b[0;34m[\u001b[0m\u001b[0;34m\"Gender\"\u001b[0m\u001b[0;34m]\u001b[0m\u001b[0;34m\u001b[0m\u001b[0;34m\u001b[0m\u001b[0m\n\u001b[0;32m----> 5\u001b[0;31m     \u001b[0mdata\u001b[0m \u001b[0;34m=\u001b[0m \u001b[0mextract_feature\u001b[0m\u001b[0;34m(\u001b[0m\u001b[0mfile_name\u001b[0m\u001b[0;34m)\u001b[0m\u001b[0;34m\u001b[0m\u001b[0;34m\u001b[0m\u001b[0m\n\u001b[0m\u001b[1;32m      6\u001b[0m     \u001b[0mextracted_features\u001b[0m\u001b[0;34m.\u001b[0m\u001b[0mappend\u001b[0m\u001b[0;34m(\u001b[0m\u001b[0;34m[\u001b[0m\u001b[0mfinal_class_labels\u001b[0m\u001b[0;34m,\u001b[0m\u001b[0mdata\u001b[0m\u001b[0;34m]\u001b[0m\u001b[0;34m)\u001b[0m\u001b[0;34m\u001b[0m\u001b[0;34m\u001b[0m\u001b[0m\n",
      "\u001b[0;32m<ipython-input-9-3c3e1fcde212>\u001b[0m in \u001b[0;36mextract_feature\u001b[0;34m(file_name)\u001b[0m\n\u001b[1;32m      5\u001b[0m     \u001b[0mn1\u001b[0m \u001b[0;34m=\u001b[0m \u001b[0;36m9100\u001b[0m\u001b[0;34m\u001b[0m\u001b[0;34m\u001b[0m\u001b[0m\n\u001b[1;32m      6\u001b[0m \u001b[0;34m\u001b[0m\u001b[0m\n\u001b[0;32m----> 7\u001b[0;31m     \u001b[0msound_file\u001b[0m \u001b[0;34m=\u001b[0m \u001b[0msoundfile\u001b[0m\u001b[0;34m.\u001b[0m\u001b[0mSoundFile\u001b[0m\u001b[0;34m(\u001b[0m\u001b[0mfile_name\u001b[0m\u001b[0;34m)\u001b[0m\u001b[0;34m\u001b[0m\u001b[0;34m\u001b[0m\u001b[0m\n\u001b[0m\u001b[1;32m      8\u001b[0m     \u001b[0mdata\u001b[0m \u001b[0;34m=\u001b[0m \u001b[0msound_file\u001b[0m\u001b[0;34m.\u001b[0m\u001b[0mread\u001b[0m\u001b[0;34m(\u001b[0m\u001b[0;34m)\u001b[0m\u001b[0;34m\u001b[0m\u001b[0;34m\u001b[0m\u001b[0m\n\u001b[1;32m      9\u001b[0m     \u001b[0msample_rate\u001b[0m \u001b[0;34m=\u001b[0m \u001b[0msound_file\u001b[0m\u001b[0;34m.\u001b[0m\u001b[0msamplerate\u001b[0m\u001b[0;34m\u001b[0m\u001b[0;34m\u001b[0m\u001b[0m\n",
      "\u001b[0;32m/opt/anaconda3/lib/python3.8/site-packages/soundfile.py\u001b[0m in \u001b[0;36m__init__\u001b[0;34m(self, file, mode, samplerate, channels, subtype, endian, format, closefd)\u001b[0m\n\u001b[1;32m    627\u001b[0m         self._info = _create_info_struct(file, mode, samplerate, channels,\n\u001b[1;32m    628\u001b[0m                                          format, subtype, endian)\n\u001b[0;32m--> 629\u001b[0;31m         \u001b[0mself\u001b[0m\u001b[0;34m.\u001b[0m\u001b[0m_file\u001b[0m \u001b[0;34m=\u001b[0m \u001b[0mself\u001b[0m\u001b[0;34m.\u001b[0m\u001b[0m_open\u001b[0m\u001b[0;34m(\u001b[0m\u001b[0mfile\u001b[0m\u001b[0;34m,\u001b[0m \u001b[0mmode_int\u001b[0m\u001b[0;34m,\u001b[0m \u001b[0mclosefd\u001b[0m\u001b[0;34m)\u001b[0m\u001b[0;34m\u001b[0m\u001b[0;34m\u001b[0m\u001b[0m\n\u001b[0m\u001b[1;32m    630\u001b[0m         \u001b[0;32mif\u001b[0m \u001b[0mset\u001b[0m\u001b[0;34m(\u001b[0m\u001b[0mmode\u001b[0m\u001b[0;34m)\u001b[0m\u001b[0;34m.\u001b[0m\u001b[0missuperset\u001b[0m\u001b[0;34m(\u001b[0m\u001b[0;34m'r+'\u001b[0m\u001b[0;34m)\u001b[0m \u001b[0;32mand\u001b[0m \u001b[0mself\u001b[0m\u001b[0;34m.\u001b[0m\u001b[0mseekable\u001b[0m\u001b[0;34m(\u001b[0m\u001b[0;34m)\u001b[0m\u001b[0;34m:\u001b[0m\u001b[0;34m\u001b[0m\u001b[0;34m\u001b[0m\u001b[0m\n\u001b[1;32m    631\u001b[0m             \u001b[0;31m# Move write position to 0 (like in Python file objects)\u001b[0m\u001b[0;34m\u001b[0m\u001b[0;34m\u001b[0m\u001b[0;34m\u001b[0m\u001b[0m\n",
      "\u001b[0;32m/opt/anaconda3/lib/python3.8/site-packages/soundfile.py\u001b[0m in \u001b[0;36m_open\u001b[0;34m(self, file, mode_int, closefd)\u001b[0m\n\u001b[1;32m   1181\u001b[0m         \u001b[0;32melse\u001b[0m\u001b[0;34m:\u001b[0m\u001b[0;34m\u001b[0m\u001b[0;34m\u001b[0m\u001b[0m\n\u001b[1;32m   1182\u001b[0m             \u001b[0;32mraise\u001b[0m \u001b[0mTypeError\u001b[0m\u001b[0;34m(\u001b[0m\u001b[0;34m\"Invalid file: {0!r}\"\u001b[0m\u001b[0;34m.\u001b[0m\u001b[0mformat\u001b[0m\u001b[0;34m(\u001b[0m\u001b[0mself\u001b[0m\u001b[0;34m.\u001b[0m\u001b[0mname\u001b[0m\u001b[0;34m)\u001b[0m\u001b[0;34m)\u001b[0m\u001b[0;34m\u001b[0m\u001b[0;34m\u001b[0m\u001b[0m\n\u001b[0;32m-> 1183\u001b[0;31m         _error_check(_snd.sf_error(file_ptr),\n\u001b[0m\u001b[1;32m   1184\u001b[0m                      \"Error opening {0!r}: \".format(self.name))\n\u001b[1;32m   1185\u001b[0m         \u001b[0;32mif\u001b[0m \u001b[0mmode_int\u001b[0m \u001b[0;34m==\u001b[0m \u001b[0m_snd\u001b[0m\u001b[0;34m.\u001b[0m\u001b[0mSFM_WRITE\u001b[0m\u001b[0;34m:\u001b[0m\u001b[0;34m\u001b[0m\u001b[0;34m\u001b[0m\u001b[0m\n",
      "\u001b[0;32m/opt/anaconda3/lib/python3.8/site-packages/soundfile.py\u001b[0m in \u001b[0;36m_error_check\u001b[0;34m(err, prefix)\u001b[0m\n\u001b[1;32m   1355\u001b[0m     \u001b[0;32mif\u001b[0m \u001b[0merr\u001b[0m \u001b[0;34m!=\u001b[0m \u001b[0;36m0\u001b[0m\u001b[0;34m:\u001b[0m\u001b[0;34m\u001b[0m\u001b[0;34m\u001b[0m\u001b[0m\n\u001b[1;32m   1356\u001b[0m         \u001b[0merr_str\u001b[0m \u001b[0;34m=\u001b[0m \u001b[0m_snd\u001b[0m\u001b[0;34m.\u001b[0m\u001b[0msf_error_number\u001b[0m\u001b[0;34m(\u001b[0m\u001b[0merr\u001b[0m\u001b[0;34m)\u001b[0m\u001b[0;34m\u001b[0m\u001b[0;34m\u001b[0m\u001b[0m\n\u001b[0;32m-> 1357\u001b[0;31m         \u001b[0;32mraise\u001b[0m \u001b[0mRuntimeError\u001b[0m\u001b[0;34m(\u001b[0m\u001b[0mprefix\u001b[0m \u001b[0;34m+\u001b[0m \u001b[0m_ffi\u001b[0m\u001b[0;34m.\u001b[0m\u001b[0mstring\u001b[0m\u001b[0;34m(\u001b[0m\u001b[0merr_str\u001b[0m\u001b[0;34m)\u001b[0m\u001b[0;34m.\u001b[0m\u001b[0mdecode\u001b[0m\u001b[0;34m(\u001b[0m\u001b[0;34m'utf-8'\u001b[0m\u001b[0;34m,\u001b[0m \u001b[0;34m'replace'\u001b[0m\u001b[0;34m)\u001b[0m\u001b[0;34m)\u001b[0m\u001b[0;34m\u001b[0m\u001b[0;34m\u001b[0m\u001b[0m\n\u001b[0m\u001b[1;32m   1358\u001b[0m \u001b[0;34m\u001b[0m\u001b[0m\n\u001b[1;32m   1359\u001b[0m \u001b[0;34m\u001b[0m\u001b[0m\n",
      "\u001b[0;31mRuntimeError\u001b[0m: Error opening '/Users/prem/Desktop/Speech_Corpus/565/wav/b0415.wav': System error."
     ]
    }
   ],
   "source": [
    "extracted_features=[]\n",
    "for index_num,row in tqdm(df.iterrows()):\n",
    "    file_name = os.path.join(os.path.abspath(rootdir),str(row[\"Speaker\"])+'/','wav/',str(row[\"wave_id\"])+'.wav')\n",
    "    final_class_labels = row[\"Gender\"]\n",
    "    data = extract_feature(file_name)\n",
    "    extracted_features.append([final_class_labels,data])"
   ]
  },
  {
   "cell_type": "code",
   "execution_count": 12,
   "id": "2167439b",
   "metadata": {},
   "outputs": [
    {
     "data": {
      "text/html": [
       "<div>\n",
       "<style scoped>\n",
       "    .dataframe tbody tr th:only-of-type {\n",
       "        vertical-align: middle;\n",
       "    }\n",
       "\n",
       "    .dataframe tbody tr th {\n",
       "        vertical-align: top;\n",
       "    }\n",
       "\n",
       "    .dataframe thead th {\n",
       "        text-align: right;\n",
       "    }\n",
       "</style>\n",
       "<table border=\"1\" class=\"dataframe\">\n",
       "  <thead>\n",
       "    <tr style=\"text-align: right;\">\n",
       "      <th></th>\n",
       "      <th>gender</th>\n",
       "      <th>feature</th>\n",
       "    </tr>\n",
       "  </thead>\n",
       "  <tbody>\n",
       "    <tr>\n",
       "      <th>0</th>\n",
       "      <td>Male</td>\n",
       "      <td>[1588.4204615524898, 3006.904069767442, 0.0111...</td>\n",
       "    </tr>\n",
       "    <tr>\n",
       "      <th>1</th>\n",
       "      <td>Male</td>\n",
       "      <td>[1659.7332633230642, 3447.0920138888887, 0.025...</td>\n",
       "    </tr>\n",
       "    <tr>\n",
       "      <th>2</th>\n",
       "      <td>Male</td>\n",
       "      <td>[1547.9571444162355, 3208.797770700637, 0.0233...</td>\n",
       "    </tr>\n",
       "    <tr>\n",
       "      <th>3</th>\n",
       "      <td>Male</td>\n",
       "      <td>[1734.4844188954976, 3637.2884114583335, 0.030...</td>\n",
       "    </tr>\n",
       "    <tr>\n",
       "      <th>4</th>\n",
       "      <td>Male</td>\n",
       "      <td>[1568.22401035777, 3022.361288265306, 0.010635...</td>\n",
       "    </tr>\n",
       "  </tbody>\n",
       "</table>\n",
       "</div>"
      ],
      "text/plain": [
       "  gender                                            feature\n",
       "0   Male  [1588.4204615524898, 3006.904069767442, 0.0111...\n",
       "1   Male  [1659.7332633230642, 3447.0920138888887, 0.025...\n",
       "2   Male  [1547.9571444162355, 3208.797770700637, 0.0233...\n",
       "3   Male  [1734.4844188954976, 3637.2884114583335, 0.030...\n",
       "4   Male  [1568.22401035777, 3022.361288265306, 0.010635..."
      ]
     },
     "execution_count": 12,
     "metadata": {},
     "output_type": "execute_result"
    }
   ],
   "source": [
    "# converting extracted_features to Pandas dataframe\n",
    "extracted_features_df = pd.DataFrame(extracted_features,columns=['gender','feature'])\n",
    "extracted_features_df.head()"
   ]
  },
  {
   "cell_type": "code",
   "execution_count": 13,
   "id": "6a0760b1",
   "metadata": {},
   "outputs": [
    {
     "data": {
      "text/plain": [
       "(5491, 2)"
      ]
     },
     "execution_count": 13,
     "metadata": {},
     "output_type": "execute_result"
    }
   ],
   "source": [
    "extracted_features_df.shape"
   ]
  },
  {
   "cell_type": "code",
   "execution_count": 14,
   "id": "1b673550",
   "metadata": {},
   "outputs": [],
   "source": [
    "# Split the dataset into independent and dependent dataset\n",
    "X=np.array(extracted_features_df['feature'].tolist())\n",
    "y=np.array(extracted_features_df['gender'].tolist())"
   ]
  },
  {
   "cell_type": "code",
   "execution_count": 15,
   "id": "c7636cd3",
   "metadata": {},
   "outputs": [
    {
     "data": {
      "text/plain": [
       "(5491, 172)"
      ]
     },
     "execution_count": 15,
     "metadata": {},
     "output_type": "execute_result"
    }
   ],
   "source": [
    "X.shape"
   ]
  },
  {
   "cell_type": "code",
   "execution_count": 16,
   "id": "aacdb8dd",
   "metadata": {},
   "outputs": [],
   "source": [
    "y=np.array(pd.get_dummies(y))"
   ]
  },
  {
   "cell_type": "code",
   "execution_count": 17,
   "id": "8a4f184a",
   "metadata": {},
   "outputs": [
    {
     "data": {
      "text/plain": [
       "(5491, 2)"
      ]
     },
     "execution_count": 17,
     "metadata": {},
     "output_type": "execute_result"
    }
   ],
   "source": [
    "y.shape"
   ]
  },
  {
   "cell_type": "code",
   "execution_count": 18,
   "id": "b408f060",
   "metadata": {},
   "outputs": [],
   "source": [
    "a = pd.DataFrame(extracted_features_df['gender'])"
   ]
  },
  {
   "cell_type": "code",
   "execution_count": 27,
   "id": "f071df37",
   "metadata": {},
   "outputs": [
    {
     "data": {
      "text/plain": [
       "(5491, 1)"
      ]
     },
     "execution_count": 27,
     "metadata": {},
     "output_type": "execute_result"
    }
   ],
   "source": [
    "a.shape"
   ]
  },
  {
   "cell_type": "code",
   "execution_count": 19,
   "id": "05ac923b",
   "metadata": {},
   "outputs": [],
   "source": [
    "b = pd.DataFrame(X)"
   ]
  },
  {
   "cell_type": "code",
   "execution_count": 28,
   "id": "637196a2",
   "metadata": {},
   "outputs": [
    {
     "data": {
      "text/plain": [
       "(5491, 172)"
      ]
     },
     "execution_count": 28,
     "metadata": {},
     "output_type": "execute_result"
    }
   ],
   "source": [
    "b.shape"
   ]
  },
  {
   "cell_type": "code",
   "execution_count": 24,
   "id": "380f23cf",
   "metadata": {},
   "outputs": [],
   "source": [
    "feature = a.join(b)"
   ]
  },
  {
   "cell_type": "code",
   "execution_count": 25,
   "id": "11a8182c",
   "metadata": {},
   "outputs": [
    {
     "data": {
      "text/html": [
       "<div>\n",
       "<style scoped>\n",
       "    .dataframe tbody tr th:only-of-type {\n",
       "        vertical-align: middle;\n",
       "    }\n",
       "\n",
       "    .dataframe tbody tr th {\n",
       "        vertical-align: top;\n",
       "    }\n",
       "\n",
       "    .dataframe thead th {\n",
       "        text-align: right;\n",
       "    }\n",
       "</style>\n",
       "<table border=\"1\" class=\"dataframe\">\n",
       "  <thead>\n",
       "    <tr style=\"text-align: right;\">\n",
       "      <th></th>\n",
       "      <th>gender</th>\n",
       "      <th>0</th>\n",
       "      <th>1</th>\n",
       "      <th>2</th>\n",
       "      <th>3</th>\n",
       "      <th>4</th>\n",
       "      <th>5</th>\n",
       "      <th>6</th>\n",
       "      <th>7</th>\n",
       "      <th>8</th>\n",
       "      <th>...</th>\n",
       "      <th>162</th>\n",
       "      <th>163</th>\n",
       "      <th>164</th>\n",
       "      <th>165</th>\n",
       "      <th>166</th>\n",
       "      <th>167</th>\n",
       "      <th>168</th>\n",
       "      <th>169</th>\n",
       "      <th>170</th>\n",
       "      <th>171</th>\n",
       "    </tr>\n",
       "  </thead>\n",
       "  <tbody>\n",
       "    <tr>\n",
       "      <th>0</th>\n",
       "      <td>Male</td>\n",
       "      <td>1588.420462</td>\n",
       "      <td>3006.904070</td>\n",
       "      <td>0.011178</td>\n",
       "      <td>0.077064</td>\n",
       "      <td>0.0</td>\n",
       "      <td>1463.729547</td>\n",
       "      <td>-314.200628</td>\n",
       "      <td>84.907364</td>\n",
       "      <td>-12.184678</td>\n",
       "      <td>...</td>\n",
       "      <td>15.734279</td>\n",
       "      <td>18.067453</td>\n",
       "      <td>21.067293</td>\n",
       "      <td>21.173581</td>\n",
       "      <td>-0.010010</td>\n",
       "      <td>-0.040958</td>\n",
       "      <td>-0.023406</td>\n",
       "      <td>-0.030344</td>\n",
       "      <td>0.008527</td>\n",
       "      <td>0.001133</td>\n",
       "    </tr>\n",
       "    <tr>\n",
       "      <th>1</th>\n",
       "      <td>Male</td>\n",
       "      <td>1659.733263</td>\n",
       "      <td>3447.092014</td>\n",
       "      <td>0.025084</td>\n",
       "      <td>0.036329</td>\n",
       "      <td>2.0</td>\n",
       "      <td>1754.312549</td>\n",
       "      <td>-341.338946</td>\n",
       "      <td>86.472343</td>\n",
       "      <td>-12.158928</td>\n",
       "      <td>...</td>\n",
       "      <td>16.183270</td>\n",
       "      <td>18.028187</td>\n",
       "      <td>19.740503</td>\n",
       "      <td>23.167726</td>\n",
       "      <td>-0.033385</td>\n",
       "      <td>-0.020667</td>\n",
       "      <td>0.000984</td>\n",
       "      <td>-0.056438</td>\n",
       "      <td>0.006307</td>\n",
       "      <td>-0.002524</td>\n",
       "    </tr>\n",
       "    <tr>\n",
       "      <th>2</th>\n",
       "      <td>Male</td>\n",
       "      <td>1547.957144</td>\n",
       "      <td>3208.797771</td>\n",
       "      <td>0.023337</td>\n",
       "      <td>0.053739</td>\n",
       "      <td>2.0</td>\n",
       "      <td>1791.561653</td>\n",
       "      <td>-316.566046</td>\n",
       "      <td>87.275594</td>\n",
       "      <td>-22.120346</td>\n",
       "      <td>...</td>\n",
       "      <td>16.872115</td>\n",
       "      <td>18.739833</td>\n",
       "      <td>20.858876</td>\n",
       "      <td>23.081607</td>\n",
       "      <td>0.017158</td>\n",
       "      <td>0.001918</td>\n",
       "      <td>-0.109651</td>\n",
       "      <td>-0.017986</td>\n",
       "      <td>0.016157</td>\n",
       "      <td>0.017858</td>\n",
       "    </tr>\n",
       "    <tr>\n",
       "      <th>3</th>\n",
       "      <td>Male</td>\n",
       "      <td>1734.484419</td>\n",
       "      <td>3637.288411</td>\n",
       "      <td>0.030065</td>\n",
       "      <td>0.073100</td>\n",
       "      <td>4.0</td>\n",
       "      <td>1879.426825</td>\n",
       "      <td>-294.239541</td>\n",
       "      <td>70.548754</td>\n",
       "      <td>-6.073326</td>\n",
       "      <td>...</td>\n",
       "      <td>15.660238</td>\n",
       "      <td>17.852499</td>\n",
       "      <td>19.241792</td>\n",
       "      <td>23.452189</td>\n",
       "      <td>-0.001944</td>\n",
       "      <td>-0.025529</td>\n",
       "      <td>-0.013297</td>\n",
       "      <td>-0.078958</td>\n",
       "      <td>-0.002825</td>\n",
       "      <td>-0.008025</td>\n",
       "    </tr>\n",
       "    <tr>\n",
       "      <th>4</th>\n",
       "      <td>Male</td>\n",
       "      <td>1568.224010</td>\n",
       "      <td>3022.361288</td>\n",
       "      <td>0.010636</td>\n",
       "      <td>0.086489</td>\n",
       "      <td>0.0</td>\n",
       "      <td>1480.785714</td>\n",
       "      <td>-290.140921</td>\n",
       "      <td>84.270453</td>\n",
       "      <td>-13.185572</td>\n",
       "      <td>...</td>\n",
       "      <td>16.112455</td>\n",
       "      <td>18.020333</td>\n",
       "      <td>22.267154</td>\n",
       "      <td>21.608937</td>\n",
       "      <td>-0.037684</td>\n",
       "      <td>-0.014493</td>\n",
       "      <td>0.007131</td>\n",
       "      <td>-0.075425</td>\n",
       "      <td>0.018354</td>\n",
       "      <td>-0.009237</td>\n",
       "    </tr>\n",
       "    <tr>\n",
       "      <th>...</th>\n",
       "      <td>...</td>\n",
       "      <td>...</td>\n",
       "      <td>...</td>\n",
       "      <td>...</td>\n",
       "      <td>...</td>\n",
       "      <td>...</td>\n",
       "      <td>...</td>\n",
       "      <td>...</td>\n",
       "      <td>...</td>\n",
       "      <td>...</td>\n",
       "      <td>...</td>\n",
       "      <td>...</td>\n",
       "      <td>...</td>\n",
       "      <td>...</td>\n",
       "      <td>...</td>\n",
       "      <td>...</td>\n",
       "      <td>...</td>\n",
       "      <td>...</td>\n",
       "      <td>...</td>\n",
       "      <td>...</td>\n",
       "      <td>...</td>\n",
       "    </tr>\n",
       "    <tr>\n",
       "      <th>5486</th>\n",
       "      <td>Male</td>\n",
       "      <td>1498.229945</td>\n",
       "      <td>3065.333946</td>\n",
       "      <td>0.007146</td>\n",
       "      <td>0.165752</td>\n",
       "      <td>6.0</td>\n",
       "      <td>1422.619358</td>\n",
       "      <td>-150.688786</td>\n",
       "      <td>108.285110</td>\n",
       "      <td>-15.285637</td>\n",
       "      <td>...</td>\n",
       "      <td>16.171039</td>\n",
       "      <td>16.247485</td>\n",
       "      <td>17.998764</td>\n",
       "      <td>29.329612</td>\n",
       "      <td>-0.010109</td>\n",
       "      <td>0.069957</td>\n",
       "      <td>0.072780</td>\n",
       "      <td>0.054880</td>\n",
       "      <td>0.039562</td>\n",
       "      <td>-0.031337</td>\n",
       "    </tr>\n",
       "    <tr>\n",
       "      <th>5487</th>\n",
       "      <td>Male</td>\n",
       "      <td>1516.138398</td>\n",
       "      <td>3227.726064</td>\n",
       "      <td>0.009674</td>\n",
       "      <td>0.109649</td>\n",
       "      <td>10.0</td>\n",
       "      <td>1636.588307</td>\n",
       "      <td>-167.593660</td>\n",
       "      <td>101.002839</td>\n",
       "      <td>-27.170693</td>\n",
       "      <td>...</td>\n",
       "      <td>15.279733</td>\n",
       "      <td>15.532593</td>\n",
       "      <td>18.717092</td>\n",
       "      <td>27.141536</td>\n",
       "      <td>0.006625</td>\n",
       "      <td>0.070400</td>\n",
       "      <td>0.137487</td>\n",
       "      <td>0.085347</td>\n",
       "      <td>0.009241</td>\n",
       "      <td>-0.035111</td>\n",
       "    </tr>\n",
       "    <tr>\n",
       "      <th>5488</th>\n",
       "      <td>Male</td>\n",
       "      <td>1575.393555</td>\n",
       "      <td>3270.138889</td>\n",
       "      <td>0.008967</td>\n",
       "      <td>0.100517</td>\n",
       "      <td>3.0</td>\n",
       "      <td>1527.468590</td>\n",
       "      <td>-178.457897</td>\n",
       "      <td>98.727910</td>\n",
       "      <td>-9.724390</td>\n",
       "      <td>...</td>\n",
       "      <td>14.543267</td>\n",
       "      <td>15.054617</td>\n",
       "      <td>18.442002</td>\n",
       "      <td>30.097786</td>\n",
       "      <td>0.002496</td>\n",
       "      <td>0.103572</td>\n",
       "      <td>0.044003</td>\n",
       "      <td>0.006790</td>\n",
       "      <td>0.022838</td>\n",
       "      <td>-0.023991</td>\n",
       "    </tr>\n",
       "    <tr>\n",
       "      <th>5489</th>\n",
       "      <td>Male</td>\n",
       "      <td>1550.980785</td>\n",
       "      <td>3221.617880</td>\n",
       "      <td>0.010073</td>\n",
       "      <td>0.123514</td>\n",
       "      <td>9.0</td>\n",
       "      <td>1535.443566</td>\n",
       "      <td>-185.604472</td>\n",
       "      <td>98.785009</td>\n",
       "      <td>-4.523971</td>\n",
       "      <td>...</td>\n",
       "      <td>15.701860</td>\n",
       "      <td>15.776977</td>\n",
       "      <td>17.250660</td>\n",
       "      <td>29.037758</td>\n",
       "      <td>0.023386</td>\n",
       "      <td>0.167147</td>\n",
       "      <td>0.086315</td>\n",
       "      <td>0.060375</td>\n",
       "      <td>0.083155</td>\n",
       "      <td>-0.048302</td>\n",
       "    </tr>\n",
       "    <tr>\n",
       "      <th>5490</th>\n",
       "      <td>Male</td>\n",
       "      <td>1593.647014</td>\n",
       "      <td>3540.492958</td>\n",
       "      <td>0.012461</td>\n",
       "      <td>0.205061</td>\n",
       "      <td>5.0</td>\n",
       "      <td>1786.634228</td>\n",
       "      <td>-137.623397</td>\n",
       "      <td>84.386424</td>\n",
       "      <td>-6.581405</td>\n",
       "      <td>...</td>\n",
       "      <td>14.602909</td>\n",
       "      <td>15.339903</td>\n",
       "      <td>17.892666</td>\n",
       "      <td>29.707257</td>\n",
       "      <td>0.007675</td>\n",
       "      <td>0.093596</td>\n",
       "      <td>0.062949</td>\n",
       "      <td>0.066699</td>\n",
       "      <td>0.007524</td>\n",
       "      <td>-0.051375</td>\n",
       "    </tr>\n",
       "  </tbody>\n",
       "</table>\n",
       "<p>5491 rows × 173 columns</p>\n",
       "</div>"
      ],
      "text/plain": [
       "     gender            0            1         2         3     4            5  \\\n",
       "0      Male  1588.420462  3006.904070  0.011178  0.077064   0.0  1463.729547   \n",
       "1      Male  1659.733263  3447.092014  0.025084  0.036329   2.0  1754.312549   \n",
       "2      Male  1547.957144  3208.797771  0.023337  0.053739   2.0  1791.561653   \n",
       "3      Male  1734.484419  3637.288411  0.030065  0.073100   4.0  1879.426825   \n",
       "4      Male  1568.224010  3022.361288  0.010636  0.086489   0.0  1480.785714   \n",
       "...     ...          ...          ...       ...       ...   ...          ...   \n",
       "5486   Male  1498.229945  3065.333946  0.007146  0.165752   6.0  1422.619358   \n",
       "5487   Male  1516.138398  3227.726064  0.009674  0.109649  10.0  1636.588307   \n",
       "5488   Male  1575.393555  3270.138889  0.008967  0.100517   3.0  1527.468590   \n",
       "5489   Male  1550.980785  3221.617880  0.010073  0.123514   9.0  1535.443566   \n",
       "5490   Male  1593.647014  3540.492958  0.012461  0.205061   5.0  1786.634228   \n",
       "\n",
       "               6           7          8  ...        162        163        164  \\\n",
       "0    -314.200628   84.907364 -12.184678  ...  15.734279  18.067453  21.067293   \n",
       "1    -341.338946   86.472343 -12.158928  ...  16.183270  18.028187  19.740503   \n",
       "2    -316.566046   87.275594 -22.120346  ...  16.872115  18.739833  20.858876   \n",
       "3    -294.239541   70.548754  -6.073326  ...  15.660238  17.852499  19.241792   \n",
       "4    -290.140921   84.270453 -13.185572  ...  16.112455  18.020333  22.267154   \n",
       "...          ...         ...        ...  ...        ...        ...        ...   \n",
       "5486 -150.688786  108.285110 -15.285637  ...  16.171039  16.247485  17.998764   \n",
       "5487 -167.593660  101.002839 -27.170693  ...  15.279733  15.532593  18.717092   \n",
       "5488 -178.457897   98.727910  -9.724390  ...  14.543267  15.054617  18.442002   \n",
       "5489 -185.604472   98.785009  -4.523971  ...  15.701860  15.776977  17.250660   \n",
       "5490 -137.623397   84.386424  -6.581405  ...  14.602909  15.339903  17.892666   \n",
       "\n",
       "            165       166       167       168       169       170       171  \n",
       "0     21.173581 -0.010010 -0.040958 -0.023406 -0.030344  0.008527  0.001133  \n",
       "1     23.167726 -0.033385 -0.020667  0.000984 -0.056438  0.006307 -0.002524  \n",
       "2     23.081607  0.017158  0.001918 -0.109651 -0.017986  0.016157  0.017858  \n",
       "3     23.452189 -0.001944 -0.025529 -0.013297 -0.078958 -0.002825 -0.008025  \n",
       "4     21.608937 -0.037684 -0.014493  0.007131 -0.075425  0.018354 -0.009237  \n",
       "...         ...       ...       ...       ...       ...       ...       ...  \n",
       "5486  29.329612 -0.010109  0.069957  0.072780  0.054880  0.039562 -0.031337  \n",
       "5487  27.141536  0.006625  0.070400  0.137487  0.085347  0.009241 -0.035111  \n",
       "5488  30.097786  0.002496  0.103572  0.044003  0.006790  0.022838 -0.023991  \n",
       "5489  29.037758  0.023386  0.167147  0.086315  0.060375  0.083155 -0.048302  \n",
       "5490  29.707257  0.007675  0.093596  0.062949  0.066699  0.007524 -0.051375  \n",
       "\n",
       "[5491 rows x 173 columns]"
      ]
     },
     "execution_count": 25,
     "metadata": {},
     "output_type": "execute_result"
    }
   ],
   "source": [
    "# extracted features data_frame of first 5491 audio files\n",
    "feature"
   ]
  },
  {
   "cell_type": "code",
   "execution_count": 29,
   "id": "c3086375",
   "metadata": {},
   "outputs": [],
   "source": [
    "feature.to_csv(r'/Users/prem/Desktop/Speech_Corpus/feature.csv')"
   ]
  },
  {
   "cell_type": "code",
   "execution_count": null,
   "id": "e0277ead",
   "metadata": {},
   "outputs": [],
   "source": []
  }
 ],
 "metadata": {
  "kernelspec": {
   "display_name": "Python 3",
   "language": "python",
   "name": "python3"
  }
 },
 "nbformat": 4,
 "nbformat_minor": 5
}
